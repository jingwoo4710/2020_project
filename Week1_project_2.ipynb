{
  "nbformat": 4,
  "nbformat_minor": 0,
  "metadata": {
    "colab": {
      "name": "Week1_project.ipynb",
      "provenance": [],
      "collapsed_sections": [],
      "authorship_tag": "ABX9TyNPcS7ZbGGY9qyvNg9ZqNKJ",
      "include_colab_link": true
    },
    "kernelspec": {
      "name": "python3",
      "display_name": "Python 3"
    }
  },
  "cells": [
    {
      "cell_type": "markdown",
      "metadata": {
        "id": "view-in-github",
        "colab_type": "text"
      },
      "source": [
        "<a href=\"https://colab.research.google.com/github/jingwoo4710/2020_project/blob/main/Week1_project_2.ipynb\" target=\"_parent\"><img src=\"https://colab.research.google.com/assets/colab-badge.svg\" alt=\"Open In Colab\"/></a>"
      ]
    },
    {
      "cell_type": "code",
      "metadata": {
        "id": "2RN9XI2BOkhG"
      },
      "source": [
        "# 데이터에 관한 간단한 설명\n",
        "\n",
        "# Big Five personality bias 문제 딜링방법\n",
        "\n",
        "# K-means clustering 에서 equally 하게 군집이 되었는지\n",
        "\n",
        "# 결론에 대해서 좀 더 설명\n"
      ],
      "execution_count": null,
      "outputs": []
    },
    {
      "cell_type": "code",
      "metadata": {
        "id": "57UbGJj8TXWm"
      },
      "source": [
        "## geopandas 설치\n",
        "# Important library for many geopython libraries\n",
        "!apt install gdal-bin python-gdal python3-gdal \n",
        "# Install rtree - Geopandas requirment\n",
        "!apt install python3-rtree \n",
        "# Install Geopandas\n",
        "!pip install git+git://github.com/geopandas/geopandas.git\n",
        "# Install descartes - Geopandas requirment\n",
        "!pip install descartes \n",
        "# Install Folium for Geographic data visualization\n",
        "!pip install folium\n",
        "# Install plotlyExpress\n",
        "!pip install plotly_express"
      ],
      "execution_count": null,
      "outputs": []
    },
    {
      "cell_type": "code",
      "metadata": {
        "id": "AuKPwJwZqAx7",
        "outputId": "40ef20a5-8eaa-48ef-ba69-93b79ba6f154",
        "colab": {
          "base_uri": "https://localhost:8080/"
        }
      },
      "source": [
        "# 한글 폰트\n",
        "!apt-get update -qq\n",
        "!apt-get install fonts-nanum* -qq"
      ],
      "execution_count": 2,
      "outputs": [
        {
          "output_type": "stream",
          "text": [
            "Selecting previously unselected package fonts-nanum.\n",
            "(Reading database ... \r(Reading database ... 5%\r(Reading database ... 10%\r(Reading database ... 15%\r(Reading database ... 20%\r(Reading database ... 25%\r(Reading database ... 30%\r(Reading database ... 35%\r(Reading database ... 40%\r(Reading database ... 45%\r(Reading database ... 50%\r(Reading database ... 55%\r(Reading database ... 60%\r(Reading database ... 65%\r(Reading database ... 70%\r(Reading database ... 75%\r(Reading database ... 80%\r(Reading database ... 85%\r(Reading database ... 90%\r(Reading database ... 95%\r(Reading database ... 100%\r(Reading database ... 144706 files and directories currently installed.)\n",
            "Preparing to unpack .../fonts-nanum_20170925-1_all.deb ...\n",
            "Unpacking fonts-nanum (20170925-1) ...\n",
            "Selecting previously unselected package fonts-nanum-eco.\n",
            "Preparing to unpack .../fonts-nanum-eco_1.000-6_all.deb ...\n",
            "Unpacking fonts-nanum-eco (1.000-6) ...\n",
            "Selecting previously unselected package fonts-nanum-extra.\n",
            "Preparing to unpack .../fonts-nanum-extra_20170925-1_all.deb ...\n",
            "Unpacking fonts-nanum-extra (20170925-1) ...\n",
            "Selecting previously unselected package fonts-nanum-coding.\n",
            "Preparing to unpack .../fonts-nanum-coding_2.5-1_all.deb ...\n",
            "Unpacking fonts-nanum-coding (2.5-1) ...\n",
            "Setting up fonts-nanum-extra (20170925-1) ...\n",
            "Setting up fonts-nanum (20170925-1) ...\n",
            "Setting up fonts-nanum-coding (2.5-1) ...\n",
            "Setting up fonts-nanum-eco (1.000-6) ...\n",
            "Processing triggers for fontconfig (2.12.6-0ubuntu2) ...\n"
          ],
          "name": "stdout"
        }
      ]
    },
    {
      "cell_type": "code",
      "metadata": {
        "id": "fNk1RoR0B3pf",
        "outputId": "b4934a8c-a234-421c-c6f1-ab6106629f11",
        "colab": {
          "base_uri": "https://localhost:8080/"
        }
      },
      "source": [
        "#Library\n",
        "import pandas as pd\n",
        "import numpy as np\n",
        "import matplotlib.pyplot as plt\n",
        "import seaborn as sns\n",
        "from sklearn.cluster import KMeans \n",
        "from sklearn.decomposition import PCA\n",
        "from sklearn.preprocessing import StandardScaler\n",
        "from scipy.stats import pearsonr, spearmanr\n",
        "import matplotlib.font_manager as fm\n",
        "import matplotlib as mpl\n",
        "import branca.colormap as cm\n",
        "import folium\n",
        "import geopandas as gpd\n",
        "\n",
        "\n",
        "plt.style.use('default')\n",
        "path = '/usr/share/fonts/truetype/nanum/NanumGothicEco.ttf'  # 설치된 나눔글꼴중 원하는 녀석의 전체 경로를 가져오자\n",
        "font_name = fm.FontProperties(fname=path, size=50).get_name()\n",
        "print(font_name)\n",
        "plt.rc('font', family=font_name)\n",
        "fm._rebuild()"
      ],
      "execution_count": 5,
      "outputs": [
        {
          "output_type": "stream",
          "text": [
            "NanumGothic Eco\n"
          ],
          "name": "stdout"
        }
      ]
    },
    {
      "cell_type": "code",
      "metadata": {
        "id": "8sqhKXYCCZIs"
      },
      "source": [
        "# COVID19 Data Import\n",
        "corona_df = pd.read_csv('WHO-COVID-19-global-data.csv')"
      ],
      "execution_count": 95,
      "outputs": []
    },
    {
      "cell_type": "code",
      "metadata": {
        "id": "sCy8m_geCjGd",
        "outputId": "71a28609-4f06-4f84-a0a2-bdcadcc3dac7",
        "colab": {
          "base_uri": "https://localhost:8080/",
          "height": 111
        }
      },
      "source": [
        "# Header 확인\n",
        "corona_df.head(2)"
      ],
      "execution_count": 96,
      "outputs": [
        {
          "output_type": "execute_result",
          "data": {
            "text/html": [
              "<div>\n",
              "<style scoped>\n",
              "    .dataframe tbody tr th:only-of-type {\n",
              "        vertical-align: middle;\n",
              "    }\n",
              "\n",
              "    .dataframe tbody tr th {\n",
              "        vertical-align: top;\n",
              "    }\n",
              "\n",
              "    .dataframe thead th {\n",
              "        text-align: right;\n",
              "    }\n",
              "</style>\n",
              "<table border=\"1\" class=\"dataframe\">\n",
              "  <thead>\n",
              "    <tr style=\"text-align: right;\">\n",
              "      <th></th>\n",
              "      <th>Date_reported</th>\n",
              "      <th>Country_code</th>\n",
              "      <th>Country</th>\n",
              "      <th>WHO_region</th>\n",
              "      <th>New_cases</th>\n",
              "      <th>Cumulative_cases</th>\n",
              "      <th>New_deaths</th>\n",
              "      <th>Cumulative_deaths</th>\n",
              "    </tr>\n",
              "  </thead>\n",
              "  <tbody>\n",
              "    <tr>\n",
              "      <th>0</th>\n",
              "      <td>2020-01-03</td>\n",
              "      <td>AF</td>\n",
              "      <td>Afghanistan</td>\n",
              "      <td>EMRO</td>\n",
              "      <td>0</td>\n",
              "      <td>0</td>\n",
              "      <td>0</td>\n",
              "      <td>0</td>\n",
              "    </tr>\n",
              "    <tr>\n",
              "      <th>1</th>\n",
              "      <td>2020-01-04</td>\n",
              "      <td>AF</td>\n",
              "      <td>Afghanistan</td>\n",
              "      <td>EMRO</td>\n",
              "      <td>0</td>\n",
              "      <td>0</td>\n",
              "      <td>0</td>\n",
              "      <td>0</td>\n",
              "    </tr>\n",
              "  </tbody>\n",
              "</table>\n",
              "</div>"
            ],
            "text/plain": [
              "  Date_reported  Country_code  ...  New_deaths  Cumulative_deaths\n",
              "0    2020-01-03            AF  ...           0                  0\n",
              "1    2020-01-04            AF  ...           0                  0\n",
              "\n",
              "[2 rows x 8 columns]"
            ]
          },
          "metadata": {
            "tags": []
          },
          "execution_count": 96
        }
      ]
    },
    {
      "cell_type": "code",
      "metadata": {
        "id": "SfUXgi9E-g1i",
        "outputId": "75167096-3e05-4f4b-e11f-21c9983a11e1",
        "colab": {
          "base_uri": "https://localhost:8080/",
          "height": 111
        }
      },
      "source": [
        "# header 공백 제거\n",
        "cols = corona_df.columns.to_list()\n",
        "corona_df.columns = [element.strip() for element in cols]\n",
        "corona_df.head(2)"
      ],
      "execution_count": 97,
      "outputs": [
        {
          "output_type": "execute_result",
          "data": {
            "text/html": [
              "<div>\n",
              "<style scoped>\n",
              "    .dataframe tbody tr th:only-of-type {\n",
              "        vertical-align: middle;\n",
              "    }\n",
              "\n",
              "    .dataframe tbody tr th {\n",
              "        vertical-align: top;\n",
              "    }\n",
              "\n",
              "    .dataframe thead th {\n",
              "        text-align: right;\n",
              "    }\n",
              "</style>\n",
              "<table border=\"1\" class=\"dataframe\">\n",
              "  <thead>\n",
              "    <tr style=\"text-align: right;\">\n",
              "      <th></th>\n",
              "      <th>Date_reported</th>\n",
              "      <th>Country_code</th>\n",
              "      <th>Country</th>\n",
              "      <th>WHO_region</th>\n",
              "      <th>New_cases</th>\n",
              "      <th>Cumulative_cases</th>\n",
              "      <th>New_deaths</th>\n",
              "      <th>Cumulative_deaths</th>\n",
              "    </tr>\n",
              "  </thead>\n",
              "  <tbody>\n",
              "    <tr>\n",
              "      <th>0</th>\n",
              "      <td>2020-01-03</td>\n",
              "      <td>AF</td>\n",
              "      <td>Afghanistan</td>\n",
              "      <td>EMRO</td>\n",
              "      <td>0</td>\n",
              "      <td>0</td>\n",
              "      <td>0</td>\n",
              "      <td>0</td>\n",
              "    </tr>\n",
              "    <tr>\n",
              "      <th>1</th>\n",
              "      <td>2020-01-04</td>\n",
              "      <td>AF</td>\n",
              "      <td>Afghanistan</td>\n",
              "      <td>EMRO</td>\n",
              "      <td>0</td>\n",
              "      <td>0</td>\n",
              "      <td>0</td>\n",
              "      <td>0</td>\n",
              "    </tr>\n",
              "  </tbody>\n",
              "</table>\n",
              "</div>"
            ],
            "text/plain": [
              "  Date_reported Country_code  ... New_deaths Cumulative_deaths\n",
              "0    2020-01-03           AF  ...          0                 0\n",
              "1    2020-01-04           AF  ...          0                 0\n",
              "\n",
              "[2 rows x 8 columns]"
            ]
          },
          "metadata": {
            "tags": []
          },
          "execution_count": 97
        }
      ]
    },
    {
      "cell_type": "code",
      "metadata": {
        "id": "SPiUY-LpAGzM",
        "outputId": "1bae7ab7-2ea1-4f6a-dc21-a47dd68cfd61",
        "colab": {
          "base_uri": "https://localhost:8080/",
          "height": 204
        }
      },
      "source": [
        "# 국가별 총 확진자수\n",
        "df_covid = corona_df.groupby(['Country', 'Country_code'])\\\n",
        "                    .sum()\\\n",
        "                    .rename_axis(['Country', 'Country_code'])\\\n",
        "                    .reset_index()\n",
        "df_covid = df_covid.iloc[:,:3]\n",
        "df_covid.columns = ['국가', '국가코드', '확진자 수']\n",
        "df_covid.head()"
      ],
      "execution_count": 98,
      "outputs": [
        {
          "output_type": "execute_result",
          "data": {
            "text/html": [
              "<div>\n",
              "<style scoped>\n",
              "    .dataframe tbody tr th:only-of-type {\n",
              "        vertical-align: middle;\n",
              "    }\n",
              "\n",
              "    .dataframe tbody tr th {\n",
              "        vertical-align: top;\n",
              "    }\n",
              "\n",
              "    .dataframe thead th {\n",
              "        text-align: right;\n",
              "    }\n",
              "</style>\n",
              "<table border=\"1\" class=\"dataframe\">\n",
              "  <thead>\n",
              "    <tr style=\"text-align: right;\">\n",
              "      <th></th>\n",
              "      <th>국가</th>\n",
              "      <th>국가코드</th>\n",
              "      <th>확진자 수</th>\n",
              "    </tr>\n",
              "  </thead>\n",
              "  <tbody>\n",
              "    <tr>\n",
              "      <th>0</th>\n",
              "      <td>Afghanistan</td>\n",
              "      <td>AF</td>\n",
              "      <td>39422</td>\n",
              "    </tr>\n",
              "    <tr>\n",
              "      <th>1</th>\n",
              "      <td>Albania</td>\n",
              "      <td>AL</td>\n",
              "      <td>14410</td>\n",
              "    </tr>\n",
              "    <tr>\n",
              "      <th>2</th>\n",
              "      <td>Algeria</td>\n",
              "      <td>DZ</td>\n",
              "      <td>52270</td>\n",
              "    </tr>\n",
              "    <tr>\n",
              "      <th>3</th>\n",
              "      <td>American Samoa</td>\n",
              "      <td>AS</td>\n",
              "      <td>0</td>\n",
              "    </tr>\n",
              "    <tr>\n",
              "      <th>4</th>\n",
              "      <td>Andorra</td>\n",
              "      <td>AD</td>\n",
              "      <td>2370</td>\n",
              "    </tr>\n",
              "  </tbody>\n",
              "</table>\n",
              "</div>"
            ],
            "text/plain": [
              "               국가 국가코드  확진자 수\n",
              "0     Afghanistan   AF  39422\n",
              "1         Albania   AL  14410\n",
              "2         Algeria   DZ  52270\n",
              "3  American Samoa   AS      0\n",
              "4         Andorra   AD   2370"
            ]
          },
          "metadata": {
            "tags": []
          },
          "execution_count": 98
        }
      ]
    },
    {
      "cell_type": "code",
      "metadata": {
        "id": "atiLLYeTFWB6"
      },
      "source": [
        "# Big 5 성격테스트에서 Postive 와 Negative 문제 나누기 + 필요한 열 정의\n",
        "pos_questions = [\n",
        "    'OPN1','OPN3','OPN5','OPN7','OPN8','OPN9','OPN10',        # 7 개방성\n",
        "    'CSN1','CSN3','CSN5','CSN7','CSN9','CSN10',               # 6 성실성\n",
        "    'EXT1','EXT3','EXT5','EXT7','EXT9',                       # 5 외향성\n",
        "    'AGR2','AGR4','AGR6','AGR8','AGR9','AGR10',               # 6 친화성\n",
        "    'EST1','EST3','EST5','EST6','EST7','EST8','EST9','EST10', # 8 안정성(신경성)\n",
        "]\n",
        "\n",
        "neg_questions = [\n",
        "    'OPN2','OPN4','OPN6',                # 3 개방성\n",
        "    'CSN2','CSN4','CSN6','CSN8',         # 4 성실성\n",
        "    'EXT2','EXT4','EXT6','EXT8','EXT10', # 5 외향성\n",
        "    'AGR1','AGR3','AGR5','AGR7',         # 4 친화성\n",
        "    'EST2','EST4',                       # 2 안정성(신경성)\n",
        "]\n",
        "\n",
        "use_cols = ['country'] + pos_questions + neg_questions "
      ],
      "execution_count": 64,
      "outputs": []
    },
    {
      "cell_type": "code",
      "metadata": {
        "id": "PoS6s5riD0xU"
      },
      "source": [
        "# Big Five Personality Test Import \n",
        "trait = pd.read_csv('data-final.csv', sep = '\\t', usecols=use_cols)"
      ],
      "execution_count": 65,
      "outputs": []
    },
    {
      "cell_type": "code",
      "metadata": {
        "id": "BHLWkdQ3Ok_C"
      },
      "source": [
        "# 값이 0인 경우 NaN 처리 + 해당 row 삭제\n",
        "trait = trait.replace(0,np.NaN).dropna(axis = 0).reset_index(drop = True)"
      ],
      "execution_count": 66,
      "outputs": []
    },
    {
      "cell_type": "code",
      "metadata": {
        "id": "SdcOslaG83xu"
      },
      "source": [
        "# Country Name이 None 인 경우 삭제\n",
        "i = trait.loc[trait.country == 'NONE'].index\n",
        "trait.drop(i, inplace= True)"
      ],
      "execution_count": 67,
      "outputs": []
    },
    {
      "cell_type": "code",
      "metadata": {
        "id": "oZP2LCiYPnEm",
        "outputId": "a29729e9-1f11-4b94-cbdc-15e7b0124b20",
        "colab": {
          "base_uri": "https://localhost:8080/",
          "height": 224
        }
      },
      "source": [
        "trait.head()"
      ],
      "execution_count": 68,
      "outputs": [
        {
          "output_type": "execute_result",
          "data": {
            "text/html": [
              "<div>\n",
              "<style scoped>\n",
              "    .dataframe tbody tr th:only-of-type {\n",
              "        vertical-align: middle;\n",
              "    }\n",
              "\n",
              "    .dataframe tbody tr th {\n",
              "        vertical-align: top;\n",
              "    }\n",
              "\n",
              "    .dataframe thead th {\n",
              "        text-align: right;\n",
              "    }\n",
              "</style>\n",
              "<table border=\"1\" class=\"dataframe\">\n",
              "  <thead>\n",
              "    <tr style=\"text-align: right;\">\n",
              "      <th></th>\n",
              "      <th>EXT1</th>\n",
              "      <th>EXT2</th>\n",
              "      <th>EXT3</th>\n",
              "      <th>EXT4</th>\n",
              "      <th>EXT5</th>\n",
              "      <th>EXT6</th>\n",
              "      <th>EXT7</th>\n",
              "      <th>EXT8</th>\n",
              "      <th>EXT9</th>\n",
              "      <th>EXT10</th>\n",
              "      <th>EST1</th>\n",
              "      <th>EST2</th>\n",
              "      <th>EST3</th>\n",
              "      <th>EST4</th>\n",
              "      <th>EST5</th>\n",
              "      <th>EST6</th>\n",
              "      <th>EST7</th>\n",
              "      <th>EST8</th>\n",
              "      <th>EST9</th>\n",
              "      <th>EST10</th>\n",
              "      <th>AGR1</th>\n",
              "      <th>AGR2</th>\n",
              "      <th>AGR3</th>\n",
              "      <th>AGR4</th>\n",
              "      <th>AGR5</th>\n",
              "      <th>AGR6</th>\n",
              "      <th>AGR7</th>\n",
              "      <th>AGR8</th>\n",
              "      <th>AGR9</th>\n",
              "      <th>AGR10</th>\n",
              "      <th>CSN1</th>\n",
              "      <th>CSN2</th>\n",
              "      <th>CSN3</th>\n",
              "      <th>CSN4</th>\n",
              "      <th>CSN5</th>\n",
              "      <th>CSN6</th>\n",
              "      <th>CSN7</th>\n",
              "      <th>CSN8</th>\n",
              "      <th>CSN9</th>\n",
              "      <th>CSN10</th>\n",
              "      <th>OPN1</th>\n",
              "      <th>OPN2</th>\n",
              "      <th>OPN3</th>\n",
              "      <th>OPN4</th>\n",
              "      <th>OPN5</th>\n",
              "      <th>OPN6</th>\n",
              "      <th>OPN7</th>\n",
              "      <th>OPN8</th>\n",
              "      <th>OPN9</th>\n",
              "      <th>OPN10</th>\n",
              "      <th>country</th>\n",
              "    </tr>\n",
              "  </thead>\n",
              "  <tbody>\n",
              "    <tr>\n",
              "      <th>0</th>\n",
              "      <td>4.0</td>\n",
              "      <td>1.0</td>\n",
              "      <td>5.0</td>\n",
              "      <td>2.0</td>\n",
              "      <td>5.0</td>\n",
              "      <td>1.0</td>\n",
              "      <td>5.0</td>\n",
              "      <td>2.0</td>\n",
              "      <td>4.0</td>\n",
              "      <td>1.0</td>\n",
              "      <td>1.0</td>\n",
              "      <td>4.0</td>\n",
              "      <td>4.0</td>\n",
              "      <td>2.0</td>\n",
              "      <td>2.0</td>\n",
              "      <td>2.0</td>\n",
              "      <td>2.0</td>\n",
              "      <td>2.0</td>\n",
              "      <td>3.0</td>\n",
              "      <td>2.0</td>\n",
              "      <td>2.0</td>\n",
              "      <td>5.0</td>\n",
              "      <td>2.0</td>\n",
              "      <td>4.0</td>\n",
              "      <td>2.0</td>\n",
              "      <td>3.0</td>\n",
              "      <td>2.0</td>\n",
              "      <td>4.0</td>\n",
              "      <td>3.0</td>\n",
              "      <td>4.0</td>\n",
              "      <td>3.0</td>\n",
              "      <td>4.0</td>\n",
              "      <td>3.0</td>\n",
              "      <td>2.0</td>\n",
              "      <td>2.0</td>\n",
              "      <td>4.0</td>\n",
              "      <td>4.0</td>\n",
              "      <td>2.0</td>\n",
              "      <td>4.0</td>\n",
              "      <td>4.0</td>\n",
              "      <td>5.0</td>\n",
              "      <td>1.0</td>\n",
              "      <td>4.0</td>\n",
              "      <td>1.0</td>\n",
              "      <td>4.0</td>\n",
              "      <td>1.0</td>\n",
              "      <td>5.0</td>\n",
              "      <td>3.0</td>\n",
              "      <td>4.0</td>\n",
              "      <td>5.0</td>\n",
              "      <td>GB</td>\n",
              "    </tr>\n",
              "    <tr>\n",
              "      <th>1</th>\n",
              "      <td>3.0</td>\n",
              "      <td>5.0</td>\n",
              "      <td>3.0</td>\n",
              "      <td>4.0</td>\n",
              "      <td>3.0</td>\n",
              "      <td>3.0</td>\n",
              "      <td>2.0</td>\n",
              "      <td>5.0</td>\n",
              "      <td>1.0</td>\n",
              "      <td>5.0</td>\n",
              "      <td>2.0</td>\n",
              "      <td>3.0</td>\n",
              "      <td>4.0</td>\n",
              "      <td>1.0</td>\n",
              "      <td>3.0</td>\n",
              "      <td>1.0</td>\n",
              "      <td>2.0</td>\n",
              "      <td>1.0</td>\n",
              "      <td>3.0</td>\n",
              "      <td>1.0</td>\n",
              "      <td>1.0</td>\n",
              "      <td>4.0</td>\n",
              "      <td>1.0</td>\n",
              "      <td>5.0</td>\n",
              "      <td>1.0</td>\n",
              "      <td>5.0</td>\n",
              "      <td>3.0</td>\n",
              "      <td>4.0</td>\n",
              "      <td>5.0</td>\n",
              "      <td>3.0</td>\n",
              "      <td>3.0</td>\n",
              "      <td>2.0</td>\n",
              "      <td>5.0</td>\n",
              "      <td>3.0</td>\n",
              "      <td>3.0</td>\n",
              "      <td>1.0</td>\n",
              "      <td>3.0</td>\n",
              "      <td>3.0</td>\n",
              "      <td>5.0</td>\n",
              "      <td>3.0</td>\n",
              "      <td>1.0</td>\n",
              "      <td>2.0</td>\n",
              "      <td>4.0</td>\n",
              "      <td>2.0</td>\n",
              "      <td>3.0</td>\n",
              "      <td>1.0</td>\n",
              "      <td>4.0</td>\n",
              "      <td>2.0</td>\n",
              "      <td>5.0</td>\n",
              "      <td>3.0</td>\n",
              "      <td>MY</td>\n",
              "    </tr>\n",
              "    <tr>\n",
              "      <th>2</th>\n",
              "      <td>2.0</td>\n",
              "      <td>3.0</td>\n",
              "      <td>4.0</td>\n",
              "      <td>4.0</td>\n",
              "      <td>3.0</td>\n",
              "      <td>2.0</td>\n",
              "      <td>1.0</td>\n",
              "      <td>3.0</td>\n",
              "      <td>2.0</td>\n",
              "      <td>5.0</td>\n",
              "      <td>4.0</td>\n",
              "      <td>4.0</td>\n",
              "      <td>4.0</td>\n",
              "      <td>2.0</td>\n",
              "      <td>2.0</td>\n",
              "      <td>2.0</td>\n",
              "      <td>2.0</td>\n",
              "      <td>2.0</td>\n",
              "      <td>1.0</td>\n",
              "      <td>3.0</td>\n",
              "      <td>1.0</td>\n",
              "      <td>4.0</td>\n",
              "      <td>1.0</td>\n",
              "      <td>4.0</td>\n",
              "      <td>2.0</td>\n",
              "      <td>4.0</td>\n",
              "      <td>1.0</td>\n",
              "      <td>4.0</td>\n",
              "      <td>4.0</td>\n",
              "      <td>3.0</td>\n",
              "      <td>4.0</td>\n",
              "      <td>2.0</td>\n",
              "      <td>2.0</td>\n",
              "      <td>2.0</td>\n",
              "      <td>3.0</td>\n",
              "      <td>3.0</td>\n",
              "      <td>4.0</td>\n",
              "      <td>2.0</td>\n",
              "      <td>4.0</td>\n",
              "      <td>2.0</td>\n",
              "      <td>5.0</td>\n",
              "      <td>1.0</td>\n",
              "      <td>2.0</td>\n",
              "      <td>1.0</td>\n",
              "      <td>4.0</td>\n",
              "      <td>2.0</td>\n",
              "      <td>5.0</td>\n",
              "      <td>3.0</td>\n",
              "      <td>4.0</td>\n",
              "      <td>4.0</td>\n",
              "      <td>GB</td>\n",
              "    </tr>\n",
              "    <tr>\n",
              "      <th>3</th>\n",
              "      <td>2.0</td>\n",
              "      <td>2.0</td>\n",
              "      <td>2.0</td>\n",
              "      <td>3.0</td>\n",
              "      <td>4.0</td>\n",
              "      <td>2.0</td>\n",
              "      <td>2.0</td>\n",
              "      <td>4.0</td>\n",
              "      <td>1.0</td>\n",
              "      <td>4.0</td>\n",
              "      <td>3.0</td>\n",
              "      <td>3.0</td>\n",
              "      <td>3.0</td>\n",
              "      <td>2.0</td>\n",
              "      <td>3.0</td>\n",
              "      <td>2.0</td>\n",
              "      <td>2.0</td>\n",
              "      <td>2.0</td>\n",
              "      <td>4.0</td>\n",
              "      <td>3.0</td>\n",
              "      <td>2.0</td>\n",
              "      <td>4.0</td>\n",
              "      <td>3.0</td>\n",
              "      <td>4.0</td>\n",
              "      <td>2.0</td>\n",
              "      <td>4.0</td>\n",
              "      <td>2.0</td>\n",
              "      <td>4.0</td>\n",
              "      <td>3.0</td>\n",
              "      <td>4.0</td>\n",
              "      <td>2.0</td>\n",
              "      <td>4.0</td>\n",
              "      <td>4.0</td>\n",
              "      <td>4.0</td>\n",
              "      <td>1.0</td>\n",
              "      <td>2.0</td>\n",
              "      <td>2.0</td>\n",
              "      <td>3.0</td>\n",
              "      <td>1.0</td>\n",
              "      <td>4.0</td>\n",
              "      <td>4.0</td>\n",
              "      <td>2.0</td>\n",
              "      <td>5.0</td>\n",
              "      <td>2.0</td>\n",
              "      <td>3.0</td>\n",
              "      <td>1.0</td>\n",
              "      <td>4.0</td>\n",
              "      <td>4.0</td>\n",
              "      <td>3.0</td>\n",
              "      <td>3.0</td>\n",
              "      <td>GB</td>\n",
              "    </tr>\n",
              "    <tr>\n",
              "      <th>4</th>\n",
              "      <td>3.0</td>\n",
              "      <td>3.0</td>\n",
              "      <td>3.0</td>\n",
              "      <td>3.0</td>\n",
              "      <td>5.0</td>\n",
              "      <td>3.0</td>\n",
              "      <td>3.0</td>\n",
              "      <td>5.0</td>\n",
              "      <td>3.0</td>\n",
              "      <td>4.0</td>\n",
              "      <td>1.0</td>\n",
              "      <td>5.0</td>\n",
              "      <td>5.0</td>\n",
              "      <td>3.0</td>\n",
              "      <td>1.0</td>\n",
              "      <td>1.0</td>\n",
              "      <td>1.0</td>\n",
              "      <td>1.0</td>\n",
              "      <td>3.0</td>\n",
              "      <td>2.0</td>\n",
              "      <td>1.0</td>\n",
              "      <td>5.0</td>\n",
              "      <td>1.0</td>\n",
              "      <td>5.0</td>\n",
              "      <td>1.0</td>\n",
              "      <td>3.0</td>\n",
              "      <td>1.0</td>\n",
              "      <td>5.0</td>\n",
              "      <td>5.0</td>\n",
              "      <td>3.0</td>\n",
              "      <td>5.0</td>\n",
              "      <td>1.0</td>\n",
              "      <td>5.0</td>\n",
              "      <td>1.0</td>\n",
              "      <td>3.0</td>\n",
              "      <td>1.0</td>\n",
              "      <td>5.0</td>\n",
              "      <td>1.0</td>\n",
              "      <td>5.0</td>\n",
              "      <td>5.0</td>\n",
              "      <td>5.0</td>\n",
              "      <td>1.0</td>\n",
              "      <td>5.0</td>\n",
              "      <td>1.0</td>\n",
              "      <td>5.0</td>\n",
              "      <td>1.0</td>\n",
              "      <td>5.0</td>\n",
              "      <td>3.0</td>\n",
              "      <td>5.0</td>\n",
              "      <td>5.0</td>\n",
              "      <td>KE</td>\n",
              "    </tr>\n",
              "  </tbody>\n",
              "</table>\n",
              "</div>"
            ],
            "text/plain": [
              "   EXT1  EXT2  EXT3  EXT4  EXT5  EXT6  ...  OPN6  OPN7  OPN8  OPN9  OPN10  country\n",
              "0   4.0   1.0   5.0   2.0   5.0   1.0  ...   1.0   5.0   3.0   4.0    5.0       GB\n",
              "1   3.0   5.0   3.0   4.0   3.0   3.0  ...   1.0   4.0   2.0   5.0    3.0       MY\n",
              "2   2.0   3.0   4.0   4.0   3.0   2.0  ...   2.0   5.0   3.0   4.0    4.0       GB\n",
              "3   2.0   2.0   2.0   3.0   4.0   2.0  ...   1.0   4.0   4.0   3.0    3.0       GB\n",
              "4   3.0   3.0   3.0   3.0   5.0   3.0  ...   1.0   5.0   3.0   5.0    5.0       KE\n",
              "\n",
              "[5 rows x 51 columns]"
            ]
          },
          "metadata": {
            "tags": []
          },
          "execution_count": 68
        }
      ]
    },
    {
      "cell_type": "code",
      "metadata": {
        "id": "Q4-Ikc4bP55U",
        "outputId": "5c95de10-5818-4882-b067-02ab365922f4",
        "colab": {
          "base_uri": "https://localhost:8080/"
        }
      },
      "source": [
        "# 데이터의 크기가 충분한 국가만 추출\n",
        "train_countries = pd.DataFrame(data = trait.groupby('country')\\\n",
        "                                           .agg('size')\\\n",
        "                                           .loc[trait.groupby('country').agg('size') > 1000])\n",
        "\n",
        "train_countries = train_countries.index.to_list()\n",
        "print(train_countries)\n",
        "len(train_countries)"
      ],
      "execution_count": 105,
      "outputs": [
        {
          "output_type": "stream",
          "text": [
            "['AE', 'AR', 'AT', 'AU', 'BE', 'BG', 'BR', 'CA', 'CH', 'CL', 'CN', 'CO', 'CZ', 'DE', 'DK', 'ES', 'FI', 'FR', 'GB', 'GR', 'HK', 'HR', 'HU', 'ID', 'IE', 'IL', 'IN', 'IT', 'JP', 'KE', 'KR', 'MX', 'MY', 'NL', 'NO', 'NZ', 'PE', 'PH', 'PK', 'PL', 'PT', 'RO', 'RS', 'RU', 'SE', 'SG', 'TH', 'TR', 'US', 'VN', 'ZA']\n"
          ],
          "name": "stdout"
        },
        {
          "output_type": "execute_result",
          "data": {
            "text/plain": [
              "51"
            ]
          },
          "metadata": {
            "tags": []
          },
          "execution_count": 105
        }
      ]
    },
    {
      "cell_type": "code",
      "metadata": {
        "id": "A0oCHhdGRqbj"
      },
      "source": [
        "# train 데이터와 test 데이터 \n",
        "train = trait.loc[trait.country.isin(train_countries)].reset_index(drop = True)\n",
        "test = trait.loc[~trait.country.isin(train_countries)].reset_index(drop = True)"
      ],
      "execution_count": 113,
      "outputs": []
    },
    {
      "cell_type": "code",
      "metadata": {
        "id": "EzZIcIqzTHpO",
        "outputId": "ce5ecd28-fc55-4f69-ac4a-579dc44a6c71",
        "colab": {
          "base_uri": "https://localhost:8080/"
        }
      },
      "source": [
        "# train 국가 수 확인\n",
        "print(len(train['country'].unique()))"
      ],
      "execution_count": 114,
      "outputs": [
        {
          "output_type": "stream",
          "text": [
            "51\n"
          ],
          "name": "stdout"
        }
      ]
    },
    {
      "cell_type": "code",
      "metadata": {
        "id": "qMSs3x-5TK0j",
        "outputId": "60167a5d-ed1d-4491-f4aa-4847763b110b",
        "colab": {
          "base_uri": "https://localhost:8080/"
        }
      },
      "source": [
        "# test 국가 수 확인\n",
        "print(len(test['country'].unique()))"
      ],
      "execution_count": 115,
      "outputs": [
        {
          "output_type": "stream",
          "text": [
            "171\n"
          ],
          "name": "stdout"
        }
      ]
    },
    {
      "cell_type": "code",
      "metadata": {
        "id": "1HfUXjDbQJ5B",
        "outputId": "18f16228-4801-4013-d76c-b19f7370dfdf",
        "colab": {
          "base_uri": "https://localhost:8080/",
          "height": 131
        }
      },
      "source": [
        "train.head(2)"
      ],
      "execution_count": 116,
      "outputs": [
        {
          "output_type": "execute_result",
          "data": {
            "text/html": [
              "<div>\n",
              "<style scoped>\n",
              "    .dataframe tbody tr th:only-of-type {\n",
              "        vertical-align: middle;\n",
              "    }\n",
              "\n",
              "    .dataframe tbody tr th {\n",
              "        vertical-align: top;\n",
              "    }\n",
              "\n",
              "    .dataframe thead th {\n",
              "        text-align: right;\n",
              "    }\n",
              "</style>\n",
              "<table border=\"1\" class=\"dataframe\">\n",
              "  <thead>\n",
              "    <tr style=\"text-align: right;\">\n",
              "      <th></th>\n",
              "      <th>EXT1</th>\n",
              "      <th>EXT2</th>\n",
              "      <th>EXT3</th>\n",
              "      <th>EXT4</th>\n",
              "      <th>EXT5</th>\n",
              "      <th>EXT6</th>\n",
              "      <th>EXT7</th>\n",
              "      <th>EXT8</th>\n",
              "      <th>EXT9</th>\n",
              "      <th>EXT10</th>\n",
              "      <th>EST1</th>\n",
              "      <th>EST2</th>\n",
              "      <th>EST3</th>\n",
              "      <th>EST4</th>\n",
              "      <th>EST5</th>\n",
              "      <th>EST6</th>\n",
              "      <th>EST7</th>\n",
              "      <th>EST8</th>\n",
              "      <th>EST9</th>\n",
              "      <th>EST10</th>\n",
              "      <th>AGR1</th>\n",
              "      <th>AGR2</th>\n",
              "      <th>AGR3</th>\n",
              "      <th>AGR4</th>\n",
              "      <th>AGR5</th>\n",
              "      <th>AGR6</th>\n",
              "      <th>AGR7</th>\n",
              "      <th>AGR8</th>\n",
              "      <th>AGR9</th>\n",
              "      <th>AGR10</th>\n",
              "      <th>CSN1</th>\n",
              "      <th>CSN2</th>\n",
              "      <th>CSN3</th>\n",
              "      <th>CSN4</th>\n",
              "      <th>CSN5</th>\n",
              "      <th>CSN6</th>\n",
              "      <th>CSN7</th>\n",
              "      <th>CSN8</th>\n",
              "      <th>CSN9</th>\n",
              "      <th>CSN10</th>\n",
              "      <th>OPN1</th>\n",
              "      <th>OPN2</th>\n",
              "      <th>OPN3</th>\n",
              "      <th>OPN4</th>\n",
              "      <th>OPN5</th>\n",
              "      <th>OPN6</th>\n",
              "      <th>OPN7</th>\n",
              "      <th>OPN8</th>\n",
              "      <th>OPN9</th>\n",
              "      <th>OPN10</th>\n",
              "      <th>country</th>\n",
              "    </tr>\n",
              "  </thead>\n",
              "  <tbody>\n",
              "    <tr>\n",
              "      <th>0</th>\n",
              "      <td>4.0</td>\n",
              "      <td>1.0</td>\n",
              "      <td>5.0</td>\n",
              "      <td>2.0</td>\n",
              "      <td>5.0</td>\n",
              "      <td>1.0</td>\n",
              "      <td>5.0</td>\n",
              "      <td>2.0</td>\n",
              "      <td>4.0</td>\n",
              "      <td>1.0</td>\n",
              "      <td>1.0</td>\n",
              "      <td>4.0</td>\n",
              "      <td>4.0</td>\n",
              "      <td>2.0</td>\n",
              "      <td>2.0</td>\n",
              "      <td>2.0</td>\n",
              "      <td>2.0</td>\n",
              "      <td>2.0</td>\n",
              "      <td>3.0</td>\n",
              "      <td>2.0</td>\n",
              "      <td>2.0</td>\n",
              "      <td>5.0</td>\n",
              "      <td>2.0</td>\n",
              "      <td>4.0</td>\n",
              "      <td>2.0</td>\n",
              "      <td>3.0</td>\n",
              "      <td>2.0</td>\n",
              "      <td>4.0</td>\n",
              "      <td>3.0</td>\n",
              "      <td>4.0</td>\n",
              "      <td>3.0</td>\n",
              "      <td>4.0</td>\n",
              "      <td>3.0</td>\n",
              "      <td>2.0</td>\n",
              "      <td>2.0</td>\n",
              "      <td>4.0</td>\n",
              "      <td>4.0</td>\n",
              "      <td>2.0</td>\n",
              "      <td>4.0</td>\n",
              "      <td>4.0</td>\n",
              "      <td>5.0</td>\n",
              "      <td>1.0</td>\n",
              "      <td>4.0</td>\n",
              "      <td>1.0</td>\n",
              "      <td>4.0</td>\n",
              "      <td>1.0</td>\n",
              "      <td>5.0</td>\n",
              "      <td>3.0</td>\n",
              "      <td>4.0</td>\n",
              "      <td>5.0</td>\n",
              "      <td>GB</td>\n",
              "    </tr>\n",
              "    <tr>\n",
              "      <th>1</th>\n",
              "      <td>3.0</td>\n",
              "      <td>5.0</td>\n",
              "      <td>3.0</td>\n",
              "      <td>4.0</td>\n",
              "      <td>3.0</td>\n",
              "      <td>3.0</td>\n",
              "      <td>2.0</td>\n",
              "      <td>5.0</td>\n",
              "      <td>1.0</td>\n",
              "      <td>5.0</td>\n",
              "      <td>2.0</td>\n",
              "      <td>3.0</td>\n",
              "      <td>4.0</td>\n",
              "      <td>1.0</td>\n",
              "      <td>3.0</td>\n",
              "      <td>1.0</td>\n",
              "      <td>2.0</td>\n",
              "      <td>1.0</td>\n",
              "      <td>3.0</td>\n",
              "      <td>1.0</td>\n",
              "      <td>1.0</td>\n",
              "      <td>4.0</td>\n",
              "      <td>1.0</td>\n",
              "      <td>5.0</td>\n",
              "      <td>1.0</td>\n",
              "      <td>5.0</td>\n",
              "      <td>3.0</td>\n",
              "      <td>4.0</td>\n",
              "      <td>5.0</td>\n",
              "      <td>3.0</td>\n",
              "      <td>3.0</td>\n",
              "      <td>2.0</td>\n",
              "      <td>5.0</td>\n",
              "      <td>3.0</td>\n",
              "      <td>3.0</td>\n",
              "      <td>1.0</td>\n",
              "      <td>3.0</td>\n",
              "      <td>3.0</td>\n",
              "      <td>5.0</td>\n",
              "      <td>3.0</td>\n",
              "      <td>1.0</td>\n",
              "      <td>2.0</td>\n",
              "      <td>4.0</td>\n",
              "      <td>2.0</td>\n",
              "      <td>3.0</td>\n",
              "      <td>1.0</td>\n",
              "      <td>4.0</td>\n",
              "      <td>2.0</td>\n",
              "      <td>5.0</td>\n",
              "      <td>3.0</td>\n",
              "      <td>MY</td>\n",
              "    </tr>\n",
              "  </tbody>\n",
              "</table>\n",
              "</div>"
            ],
            "text/plain": [
              "   EXT1  EXT2  EXT3  EXT4  EXT5  EXT6  ...  OPN6  OPN7  OPN8  OPN9  OPN10  country\n",
              "0   4.0   1.0   5.0   2.0   5.0   1.0  ...   1.0   5.0   3.0   4.0    5.0       GB\n",
              "1   3.0   5.0   3.0   4.0   3.0   3.0  ...   1.0   4.0   2.0   5.0    3.0       MY\n",
              "\n",
              "[2 rows x 51 columns]"
            ]
          },
          "metadata": {
            "tags": []
          },
          "execution_count": 116
        }
      ]
    },
    {
      "cell_type": "code",
      "metadata": {
        "id": "Y3fvSgMWQN6t",
        "outputId": "756ff4c8-cb49-466d-9295-aff5df97eaa1",
        "colab": {
          "base_uri": "https://localhost:8080/",
          "height": 131
        }
      },
      "source": [
        "test.head(2)"
      ],
      "execution_count": 117,
      "outputs": [
        {
          "output_type": "execute_result",
          "data": {
            "text/html": [
              "<div>\n",
              "<style scoped>\n",
              "    .dataframe tbody tr th:only-of-type {\n",
              "        vertical-align: middle;\n",
              "    }\n",
              "\n",
              "    .dataframe tbody tr th {\n",
              "        vertical-align: top;\n",
              "    }\n",
              "\n",
              "    .dataframe thead th {\n",
              "        text-align: right;\n",
              "    }\n",
              "</style>\n",
              "<table border=\"1\" class=\"dataframe\">\n",
              "  <thead>\n",
              "    <tr style=\"text-align: right;\">\n",
              "      <th></th>\n",
              "      <th>EXT1</th>\n",
              "      <th>EXT2</th>\n",
              "      <th>EXT3</th>\n",
              "      <th>EXT4</th>\n",
              "      <th>EXT5</th>\n",
              "      <th>EXT6</th>\n",
              "      <th>EXT7</th>\n",
              "      <th>EXT8</th>\n",
              "      <th>EXT9</th>\n",
              "      <th>EXT10</th>\n",
              "      <th>EST1</th>\n",
              "      <th>EST2</th>\n",
              "      <th>EST3</th>\n",
              "      <th>EST4</th>\n",
              "      <th>EST5</th>\n",
              "      <th>EST6</th>\n",
              "      <th>EST7</th>\n",
              "      <th>EST8</th>\n",
              "      <th>EST9</th>\n",
              "      <th>EST10</th>\n",
              "      <th>AGR1</th>\n",
              "      <th>AGR2</th>\n",
              "      <th>AGR3</th>\n",
              "      <th>AGR4</th>\n",
              "      <th>AGR5</th>\n",
              "      <th>AGR6</th>\n",
              "      <th>AGR7</th>\n",
              "      <th>AGR8</th>\n",
              "      <th>AGR9</th>\n",
              "      <th>AGR10</th>\n",
              "      <th>CSN1</th>\n",
              "      <th>CSN2</th>\n",
              "      <th>CSN3</th>\n",
              "      <th>CSN4</th>\n",
              "      <th>CSN5</th>\n",
              "      <th>CSN6</th>\n",
              "      <th>CSN7</th>\n",
              "      <th>CSN8</th>\n",
              "      <th>CSN9</th>\n",
              "      <th>CSN10</th>\n",
              "      <th>OPN1</th>\n",
              "      <th>OPN2</th>\n",
              "      <th>OPN3</th>\n",
              "      <th>OPN4</th>\n",
              "      <th>OPN5</th>\n",
              "      <th>OPN6</th>\n",
              "      <th>OPN7</th>\n",
              "      <th>OPN8</th>\n",
              "      <th>OPN9</th>\n",
              "      <th>OPN10</th>\n",
              "      <th>country</th>\n",
              "    </tr>\n",
              "  </thead>\n",
              "  <tbody>\n",
              "    <tr>\n",
              "      <th>0</th>\n",
              "      <td>3.0</td>\n",
              "      <td>3.0</td>\n",
              "      <td>2.0</td>\n",
              "      <td>3.0</td>\n",
              "      <td>3.0</td>\n",
              "      <td>2.0</td>\n",
              "      <td>4.0</td>\n",
              "      <td>3.0</td>\n",
              "      <td>3.0</td>\n",
              "      <td>5.0</td>\n",
              "      <td>4.0</td>\n",
              "      <td>3.0</td>\n",
              "      <td>4.0</td>\n",
              "      <td>1.0</td>\n",
              "      <td>2.0</td>\n",
              "      <td>3.0</td>\n",
              "      <td>5.0</td>\n",
              "      <td>4.0</td>\n",
              "      <td>4.0</td>\n",
              "      <td>5.0</td>\n",
              "      <td>2.0</td>\n",
              "      <td>5.0</td>\n",
              "      <td>3.0</td>\n",
              "      <td>4.0</td>\n",
              "      <td>2.0</td>\n",
              "      <td>3.0</td>\n",
              "      <td>1.0</td>\n",
              "      <td>3.0</td>\n",
              "      <td>4.0</td>\n",
              "      <td>2.0</td>\n",
              "      <td>1.0</td>\n",
              "      <td>5.0</td>\n",
              "      <td>5.0</td>\n",
              "      <td>5.0</td>\n",
              "      <td>1.0</td>\n",
              "      <td>5.0</td>\n",
              "      <td>3.0</td>\n",
              "      <td>1.0</td>\n",
              "      <td>1.0</td>\n",
              "      <td>5.0</td>\n",
              "      <td>5.0</td>\n",
              "      <td>1.0</td>\n",
              "      <td>5.0</td>\n",
              "      <td>1.0</td>\n",
              "      <td>5.0</td>\n",
              "      <td>1.0</td>\n",
              "      <td>5.0</td>\n",
              "      <td>5.0</td>\n",
              "      <td>5.0</td>\n",
              "      <td>5.0</td>\n",
              "      <td>UA</td>\n",
              "    </tr>\n",
              "    <tr>\n",
              "      <th>1</th>\n",
              "      <td>2.0</td>\n",
              "      <td>1.0</td>\n",
              "      <td>3.0</td>\n",
              "      <td>3.0</td>\n",
              "      <td>5.0</td>\n",
              "      <td>2.0</td>\n",
              "      <td>4.0</td>\n",
              "      <td>5.0</td>\n",
              "      <td>5.0</td>\n",
              "      <td>3.0</td>\n",
              "      <td>5.0</td>\n",
              "      <td>1.0</td>\n",
              "      <td>5.0</td>\n",
              "      <td>1.0</td>\n",
              "      <td>5.0</td>\n",
              "      <td>5.0</td>\n",
              "      <td>1.0</td>\n",
              "      <td>5.0</td>\n",
              "      <td>5.0</td>\n",
              "      <td>5.0</td>\n",
              "      <td>4.0</td>\n",
              "      <td>5.0</td>\n",
              "      <td>4.0</td>\n",
              "      <td>4.0</td>\n",
              "      <td>2.0</td>\n",
              "      <td>4.0</td>\n",
              "      <td>1.0</td>\n",
              "      <td>4.0</td>\n",
              "      <td>4.0</td>\n",
              "      <td>5.0</td>\n",
              "      <td>1.0</td>\n",
              "      <td>1.0</td>\n",
              "      <td>5.0</td>\n",
              "      <td>5.0</td>\n",
              "      <td>1.0</td>\n",
              "      <td>5.0</td>\n",
              "      <td>5.0</td>\n",
              "      <td>5.0</td>\n",
              "      <td>1.0</td>\n",
              "      <td>1.0</td>\n",
              "      <td>2.0</td>\n",
              "      <td>5.0</td>\n",
              "      <td>5.0</td>\n",
              "      <td>5.0</td>\n",
              "      <td>1.0</td>\n",
              "      <td>2.0</td>\n",
              "      <td>4.0</td>\n",
              "      <td>2.0</td>\n",
              "      <td>4.0</td>\n",
              "      <td>3.0</td>\n",
              "      <td>OM</td>\n",
              "    </tr>\n",
              "  </tbody>\n",
              "</table>\n",
              "</div>"
            ],
            "text/plain": [
              "   EXT1  EXT2  EXT3  EXT4  EXT5  EXT6  ...  OPN6  OPN7  OPN8  OPN9  OPN10  country\n",
              "0   3.0   3.0   2.0   3.0   3.0   2.0  ...   1.0   5.0   5.0   5.0    5.0       UA\n",
              "1   2.0   1.0   3.0   3.0   5.0   2.0  ...   2.0   4.0   2.0   4.0    3.0       OM\n",
              "\n",
              "[2 rows x 51 columns]"
            ]
          },
          "metadata": {
            "tags": []
          },
          "execution_count": 117
        }
      ]
    },
    {
      "cell_type": "code",
      "metadata": {
        "id": "N7Jr27VIwTvt",
        "outputId": "76c21b66-0d1d-49c3-be37-84bcfcf9df18",
        "colab": {
          "base_uri": "https://localhost:8080/"
        }
      },
      "source": [
        "# test 데이터 또한 샘플이 최소 500개는 가지도록 \n",
        "test_countries = test.groupby('country').size()\\\n",
        "                     .loc[test.groupby('country').size() > 500]\\\n",
        "                     .index.to_list()\n",
        "\n",
        "test = test.loc[test.country.isin(test_countries)]\n",
        "print(len(test.country.unique()))"
      ],
      "execution_count": 118,
      "outputs": [
        {
          "output_type": "stream",
          "text": [
            "16\n"
          ],
          "name": "stdout"
        }
      ]
    },
    {
      "cell_type": "code",
      "metadata": {
        "id": "7r762a2YR7Fp"
      },
      "source": [
        "# 평균 계산을 위해 negative question 점수 scale 바꾸기\n",
        "train[neg_questions] = train[neg_questions].apply(lambda x: 6 - x)\n",
        "test[neg_questions] = test[neg_questions].apply(lambda x: 6 - x)"
      ],
      "execution_count": 119,
      "outputs": []
    },
    {
      "cell_type": "code",
      "metadata": {
        "id": "2SvJ08zBK4_G"
      },
      "source": [
        "df_train = train.copy()\n",
        "df_test = test.copy()"
      ],
      "execution_count": 208,
      "outputs": []
    },
    {
      "cell_type": "code",
      "metadata": {
        "id": "Ba4Ux-iR9y_Y"
      },
      "source": [
        "# Fucntion \n",
        "def summing_axis (df):\n",
        "  traits = ['OPN','CSN','EXT','AGR','EST']\n",
        "  for trait in traits:\n",
        "    df[trait] = df[[col for col in df.columns if trait in col]].sum(axis = 1)\n",
        "  return df[traits+['country']]\n",
        "  "
      ],
      "execution_count": 123,
      "outputs": []
    },
    {
      "cell_type": "code",
      "metadata": {
        "id": "QDJsno87-ZtG"
      },
      "source": [
        "df_train = summing_axis(df_train)\n",
        "df_test = summing_axis(df_test)"
      ],
      "execution_count": 209,
      "outputs": []
    },
    {
      "cell_type": "code",
      "metadata": {
        "id": "JuoT8F3VQnRc",
        "outputId": "a3eef01b-7591-4608-f667-f15c9d8d9d9d",
        "colab": {
          "base_uri": "https://localhost:8080/",
          "height": 111
        }
      },
      "source": [
        "df_train.head(2)"
      ],
      "execution_count": 125,
      "outputs": [
        {
          "output_type": "execute_result",
          "data": {
            "text/html": [
              "<div>\n",
              "<style scoped>\n",
              "    .dataframe tbody tr th:only-of-type {\n",
              "        vertical-align: middle;\n",
              "    }\n",
              "\n",
              "    .dataframe tbody tr th {\n",
              "        vertical-align: top;\n",
              "    }\n",
              "\n",
              "    .dataframe thead th {\n",
              "        text-align: right;\n",
              "    }\n",
              "</style>\n",
              "<table border=\"1\" class=\"dataframe\">\n",
              "  <thead>\n",
              "    <tr style=\"text-align: right;\">\n",
              "      <th></th>\n",
              "      <th>OPN</th>\n",
              "      <th>CSN</th>\n",
              "      <th>EXT</th>\n",
              "      <th>AGR</th>\n",
              "      <th>EST</th>\n",
              "      <th>country</th>\n",
              "    </tr>\n",
              "  </thead>\n",
              "  <tbody>\n",
              "    <tr>\n",
              "      <th>0</th>\n",
              "      <td>45.0</td>\n",
              "      <td>32.0</td>\n",
              "      <td>46.0</td>\n",
              "      <td>39.0</td>\n",
              "      <td>24.0</td>\n",
              "      <td>GB</td>\n",
              "    </tr>\n",
              "    <tr>\n",
              "      <th>1</th>\n",
              "      <td>35.0</td>\n",
              "      <td>37.0</td>\n",
              "      <td>20.0</td>\n",
              "      <td>44.0</td>\n",
              "      <td>25.0</td>\n",
              "      <td>MY</td>\n",
              "    </tr>\n",
              "  </tbody>\n",
              "</table>\n",
              "</div>"
            ],
            "text/plain": [
              "    OPN   CSN   EXT   AGR   EST country\n",
              "0  45.0  32.0  46.0  39.0  24.0      GB\n",
              "1  35.0  37.0  20.0  44.0  25.0      MY"
            ]
          },
          "metadata": {
            "tags": []
          },
          "execution_count": 125
        }
      ]
    },
    {
      "cell_type": "code",
      "metadata": {
        "id": "8LpNn3A5R_-v",
        "outputId": "e82786dc-bdce-4688-92d3-53219c50ab76",
        "colab": {
          "base_uri": "https://localhost:8080/"
        }
      },
      "source": [
        "print(len(df_train.country.unique()))"
      ],
      "execution_count": 128,
      "outputs": [
        {
          "output_type": "stream",
          "text": [
            "51\n"
          ],
          "name": "stdout"
        }
      ]
    },
    {
      "cell_type": "code",
      "metadata": {
        "id": "b-Slt3cyT_5Q",
        "outputId": "1314e1dc-01d8-46b9-c540-d123c05a48ae",
        "colab": {
          "base_uri": "https://localhost:8080/"
        }
      },
      "source": [
        "print(len(df_test.country.unique()))"
      ],
      "execution_count": 129,
      "outputs": [
        {
          "output_type": "stream",
          "text": [
            "16\n"
          ],
          "name": "stdout"
        }
      ]
    },
    {
      "cell_type": "code",
      "metadata": {
        "id": "Dx7bF_RqQpCw",
        "outputId": "ffe807c9-705d-41f9-fe57-6a92800b1de8",
        "colab": {
          "base_uri": "https://localhost:8080/",
          "height": 111
        }
      },
      "source": [
        "df_test.head(2)"
      ],
      "execution_count": 210,
      "outputs": [
        {
          "output_type": "execute_result",
          "data": {
            "text/html": [
              "<div>\n",
              "<style scoped>\n",
              "    .dataframe tbody tr th:only-of-type {\n",
              "        vertical-align: middle;\n",
              "    }\n",
              "\n",
              "    .dataframe tbody tr th {\n",
              "        vertical-align: top;\n",
              "    }\n",
              "\n",
              "    .dataframe thead th {\n",
              "        text-align: right;\n",
              "    }\n",
              "</style>\n",
              "<table border=\"1\" class=\"dataframe\">\n",
              "  <thead>\n",
              "    <tr style=\"text-align: right;\">\n",
              "      <th></th>\n",
              "      <th>OPN</th>\n",
              "      <th>CSN</th>\n",
              "      <th>EXT</th>\n",
              "      <th>AGR</th>\n",
              "      <th>EST</th>\n",
              "      <th>country</th>\n",
              "    </tr>\n",
              "  </thead>\n",
              "  <tbody>\n",
              "    <tr>\n",
              "      <th>0</th>\n",
              "      <td>50.0</td>\n",
              "      <td>24.0</td>\n",
              "      <td>29.0</td>\n",
              "      <td>37.0</td>\n",
              "      <td>39.0</td>\n",
              "      <td>UA</td>\n",
              "    </tr>\n",
              "    <tr>\n",
              "      <th>4</th>\n",
              "      <td>32.0</td>\n",
              "      <td>28.0</td>\n",
              "      <td>36.0</td>\n",
              "      <td>41.0</td>\n",
              "      <td>19.0</td>\n",
              "      <td>NG</td>\n",
              "    </tr>\n",
              "  </tbody>\n",
              "</table>\n",
              "</div>"
            ],
            "text/plain": [
              "    OPN   CSN   EXT   AGR   EST country\n",
              "0  50.0  24.0  29.0  37.0  39.0      UA\n",
              "4  32.0  28.0  36.0  41.0  19.0      NG"
            ]
          },
          "metadata": {
            "tags": []
          },
          "execution_count": 210
        }
      ]
    },
    {
      "cell_type": "code",
      "metadata": {
        "id": "7ljM96ZAjLjK",
        "outputId": "6956f7cb-8342-43fc-ffc8-d4918bc7dfce",
        "colab": {
          "base_uri": "https://localhost:8080/",
          "height": 204
        }
      },
      "source": [
        "# 나라별로 train data mean 구하기\n",
        "mean_train = df_train.groupby('country').mean().rename_axis('country').reset_index()\n",
        "mean_train.columns = ['국가코드', '개방성', '성실성', '외향성', '우호성', '안정성']\n",
        "mean_train.head()"
      ],
      "execution_count": 211,
      "outputs": [
        {
          "output_type": "execute_result",
          "data": {
            "text/html": [
              "<div>\n",
              "<style scoped>\n",
              "    .dataframe tbody tr th:only-of-type {\n",
              "        vertical-align: middle;\n",
              "    }\n",
              "\n",
              "    .dataframe tbody tr th {\n",
              "        vertical-align: top;\n",
              "    }\n",
              "\n",
              "    .dataframe thead th {\n",
              "        text-align: right;\n",
              "    }\n",
              "</style>\n",
              "<table border=\"1\" class=\"dataframe\">\n",
              "  <thead>\n",
              "    <tr style=\"text-align: right;\">\n",
              "      <th></th>\n",
              "      <th>국가코드</th>\n",
              "      <th>개방성</th>\n",
              "      <th>성실성</th>\n",
              "      <th>외향성</th>\n",
              "      <th>우호성</th>\n",
              "      <th>안정성</th>\n",
              "    </tr>\n",
              "  </thead>\n",
              "  <tbody>\n",
              "    <tr>\n",
              "      <th>0</th>\n",
              "      <td>AE</td>\n",
              "      <td>37.639791</td>\n",
              "      <td>34.032090</td>\n",
              "      <td>30.261933</td>\n",
              "      <td>37.917770</td>\n",
              "      <td>31.475732</td>\n",
              "    </tr>\n",
              "    <tr>\n",
              "      <th>1</th>\n",
              "      <td>AR</td>\n",
              "      <td>40.133075</td>\n",
              "      <td>31.678530</td>\n",
              "      <td>28.345068</td>\n",
              "      <td>36.416248</td>\n",
              "      <td>32.381431</td>\n",
              "    </tr>\n",
              "    <tr>\n",
              "      <th>2</th>\n",
              "      <td>AT</td>\n",
              "      <td>40.836251</td>\n",
              "      <td>32.518538</td>\n",
              "      <td>29.899588</td>\n",
              "      <td>36.876931</td>\n",
              "      <td>29.856334</td>\n",
              "    </tr>\n",
              "    <tr>\n",
              "      <th>3</th>\n",
              "      <td>AU</td>\n",
              "      <td>38.551472</td>\n",
              "      <td>33.626061</td>\n",
              "      <td>29.937915</td>\n",
              "      <td>37.918328</td>\n",
              "      <td>30.393272</td>\n",
              "    </tr>\n",
              "    <tr>\n",
              "      <th>4</th>\n",
              "      <td>BE</td>\n",
              "      <td>39.308450</td>\n",
              "      <td>32.029262</td>\n",
              "      <td>29.967453</td>\n",
              "      <td>37.661989</td>\n",
              "      <td>30.598089</td>\n",
              "    </tr>\n",
              "  </tbody>\n",
              "</table>\n",
              "</div>"
            ],
            "text/plain": [
              "  국가코드        개방성        성실성        외향성        우호성        안정성\n",
              "0   AE  37.639791  34.032090  30.261933  37.917770  31.475732\n",
              "1   AR  40.133075  31.678530  28.345068  36.416248  32.381431\n",
              "2   AT  40.836251  32.518538  29.899588  36.876931  29.856334\n",
              "3   AU  38.551472  33.626061  29.937915  37.918328  30.393272\n",
              "4   BE  39.308450  32.029262  29.967453  37.661989  30.598089"
            ]
          },
          "metadata": {
            "tags": []
          },
          "execution_count": 211
        }
      ]
    },
    {
      "cell_type": "code",
      "metadata": {
        "id": "dO2Q0e06UOfm",
        "outputId": "0789436f-55c2-4b94-ca0f-da42c953a4a4",
        "colab": {
          "base_uri": "https://localhost:8080/"
        }
      },
      "source": [
        "print(len(mean_train['국가코드'].unique()))"
      ],
      "execution_count": 133,
      "outputs": [
        {
          "output_type": "stream",
          "text": [
            "51\n"
          ],
          "name": "stdout"
        }
      ]
    },
    {
      "cell_type": "code",
      "metadata": {
        "id": "egM0XTia94Nl",
        "outputId": "682710d2-0801-4450-c574-ebcd8c8033a7",
        "colab": {
          "base_uri": "https://localhost:8080/",
          "height": 204
        }
      },
      "source": [
        "# 나라별로 test data mean 구하기\n",
        "mean_test = df_test.groupby('country').mean().rename_axis('country').reset_index()\n",
        "mean_test.columns = ['국가코드', '개방성', '성실성', '외향성', '우호성', '안정성']\n",
        "mean_test.head()"
      ],
      "execution_count": 212,
      "outputs": [
        {
          "output_type": "execute_result",
          "data": {
            "text/html": [
              "<div>\n",
              "<style scoped>\n",
              "    .dataframe tbody tr th:only-of-type {\n",
              "        vertical-align: middle;\n",
              "    }\n",
              "\n",
              "    .dataframe tbody tr th {\n",
              "        vertical-align: top;\n",
              "    }\n",
              "\n",
              "    .dataframe thead th {\n",
              "        text-align: right;\n",
              "    }\n",
              "</style>\n",
              "<table border=\"1\" class=\"dataframe\">\n",
              "  <thead>\n",
              "    <tr style=\"text-align: right;\">\n",
              "      <th></th>\n",
              "      <th>국가코드</th>\n",
              "      <th>개방성</th>\n",
              "      <th>성실성</th>\n",
              "      <th>외향성</th>\n",
              "      <th>우호성</th>\n",
              "      <th>안정성</th>\n",
              "    </tr>\n",
              "  </thead>\n",
              "  <tbody>\n",
              "    <tr>\n",
              "      <th>0</th>\n",
              "      <td>CR</td>\n",
              "      <td>39.633028</td>\n",
              "      <td>32.664220</td>\n",
              "      <td>28.759633</td>\n",
              "      <td>35.908257</td>\n",
              "      <td>31.051376</td>\n",
              "    </tr>\n",
              "    <tr>\n",
              "      <th>1</th>\n",
              "      <td>EC</td>\n",
              "      <td>38.383138</td>\n",
              "      <td>31.910352</td>\n",
              "      <td>29.119530</td>\n",
              "      <td>35.337247</td>\n",
              "      <td>31.806830</td>\n",
              "    </tr>\n",
              "    <tr>\n",
              "      <th>2</th>\n",
              "      <td>EE</td>\n",
              "      <td>38.964045</td>\n",
              "      <td>32.362921</td>\n",
              "      <td>28.283146</td>\n",
              "      <td>35.783146</td>\n",
              "      <td>30.279775</td>\n",
              "    </tr>\n",
              "    <tr>\n",
              "      <th>3</th>\n",
              "      <td>EG</td>\n",
              "      <td>37.943890</td>\n",
              "      <td>33.007481</td>\n",
              "      <td>28.480050</td>\n",
              "      <td>36.966334</td>\n",
              "      <td>33.011222</td>\n",
              "    </tr>\n",
              "    <tr>\n",
              "      <th>4</th>\n",
              "      <td>IS</td>\n",
              "      <td>39.057728</td>\n",
              "      <td>32.614525</td>\n",
              "      <td>30.225326</td>\n",
              "      <td>37.696462</td>\n",
              "      <td>30.463687</td>\n",
              "    </tr>\n",
              "  </tbody>\n",
              "</table>\n",
              "</div>"
            ],
            "text/plain": [
              "  국가코드        개방성        성실성        외향성        우호성        안정성\n",
              "0   CR  39.633028  32.664220  28.759633  35.908257  31.051376\n",
              "1   EC  38.383138  31.910352  29.119530  35.337247  31.806830\n",
              "2   EE  38.964045  32.362921  28.283146  35.783146  30.279775\n",
              "3   EG  37.943890  33.007481  28.480050  36.966334  33.011222\n",
              "4   IS  39.057728  32.614525  30.225326  37.696462  30.463687"
            ]
          },
          "metadata": {
            "tags": []
          },
          "execution_count": 212
        }
      ]
    },
    {
      "cell_type": "code",
      "metadata": {
        "id": "DBuNlsflUX6r",
        "outputId": "38983535-e6cb-47db-bf8f-a42bc2debed0",
        "colab": {
          "base_uri": "https://localhost:8080/"
        }
      },
      "source": [
        "print(len(mean_test['국가코드'].unique()))"
      ],
      "execution_count": 135,
      "outputs": [
        {
          "output_type": "stream",
          "text": [
            "16\n"
          ],
          "name": "stdout"
        }
      ]
    },
    {
      "cell_type": "code",
      "metadata": {
        "id": "sieAOq8vynM2",
        "outputId": "94885317-5e1b-4432-d6df-58c2134f3928",
        "colab": {
          "base_uri": "https://localhost:8080/",
          "height": 204
        }
      },
      "source": [
        "# train 데이터 필터링\n",
        "train_covid = df_covid.loc[df_covid['국가코드'].isin(train_countries)].reset_index(drop = True)\n",
        "train_covid.head()"
      ],
      "execution_count": 213,
      "outputs": [
        {
          "output_type": "execute_result",
          "data": {
            "text/html": [
              "<div>\n",
              "<style scoped>\n",
              "    .dataframe tbody tr th:only-of-type {\n",
              "        vertical-align: middle;\n",
              "    }\n",
              "\n",
              "    .dataframe tbody tr th {\n",
              "        vertical-align: top;\n",
              "    }\n",
              "\n",
              "    .dataframe thead th {\n",
              "        text-align: right;\n",
              "    }\n",
              "</style>\n",
              "<table border=\"1\" class=\"dataframe\">\n",
              "  <thead>\n",
              "    <tr style=\"text-align: right;\">\n",
              "      <th></th>\n",
              "      <th>국가</th>\n",
              "      <th>국가코드</th>\n",
              "      <th>확진자 수</th>\n",
              "    </tr>\n",
              "  </thead>\n",
              "  <tbody>\n",
              "    <tr>\n",
              "      <th>0</th>\n",
              "      <td>Argentina</td>\n",
              "      <td>AR</td>\n",
              "      <td>798486</td>\n",
              "    </tr>\n",
              "    <tr>\n",
              "      <th>1</th>\n",
              "      <td>Australia</td>\n",
              "      <td>AU</td>\n",
              "      <td>27149</td>\n",
              "    </tr>\n",
              "    <tr>\n",
              "      <th>2</th>\n",
              "      <td>Austria</td>\n",
              "      <td>AT</td>\n",
              "      <td>49886</td>\n",
              "    </tr>\n",
              "    <tr>\n",
              "      <th>3</th>\n",
              "      <td>Belgium</td>\n",
              "      <td>BE</td>\n",
              "      <td>132109</td>\n",
              "    </tr>\n",
              "    <tr>\n",
              "      <th>4</th>\n",
              "      <td>Brazil</td>\n",
              "      <td>BR</td>\n",
              "      <td>4915289</td>\n",
              "    </tr>\n",
              "  </tbody>\n",
              "</table>\n",
              "</div>"
            ],
            "text/plain": [
              "          국가 국가코드    확진자 수\n",
              "0  Argentina   AR   798486\n",
              "1  Australia   AU    27149\n",
              "2    Austria   AT    49886\n",
              "3    Belgium   BE   132109\n",
              "4     Brazil   BR  4915289"
            ]
          },
          "metadata": {
            "tags": []
          },
          "execution_count": 213
        }
      ]
    },
    {
      "cell_type": "code",
      "metadata": {
        "id": "P9ZKYMh5UcpY",
        "outputId": "b9da4cf7-4554-4728-c4ff-96eb87f264bd",
        "colab": {
          "base_uri": "https://localhost:8080/"
        }
      },
      "source": [
        "print(len(train_covid['국가'].unique()))"
      ],
      "execution_count": 136,
      "outputs": [
        {
          "output_type": "stream",
          "text": [
            "50\n"
          ],
          "name": "stdout"
        }
      ]
    },
    {
      "cell_type": "code",
      "metadata": {
        "id": "N0rzgSZWe2ey",
        "outputId": "318f34fe-fd30-4b4f-c747-36c7396d0d28",
        "colab": {
          "base_uri": "https://localhost:8080/",
          "height": 204
        }
      },
      "source": [
        "# 빅 파이브 성격테스트와 COVID19 데이터 합치기\n",
        "df_train = train_covid.merge(mean_train, on = '국가코드')\n",
        "df_train.head()"
      ],
      "execution_count": 214,
      "outputs": [
        {
          "output_type": "execute_result",
          "data": {
            "text/html": [
              "<div>\n",
              "<style scoped>\n",
              "    .dataframe tbody tr th:only-of-type {\n",
              "        vertical-align: middle;\n",
              "    }\n",
              "\n",
              "    .dataframe tbody tr th {\n",
              "        vertical-align: top;\n",
              "    }\n",
              "\n",
              "    .dataframe thead th {\n",
              "        text-align: right;\n",
              "    }\n",
              "</style>\n",
              "<table border=\"1\" class=\"dataframe\">\n",
              "  <thead>\n",
              "    <tr style=\"text-align: right;\">\n",
              "      <th></th>\n",
              "      <th>국가</th>\n",
              "      <th>국가코드</th>\n",
              "      <th>확진자 수</th>\n",
              "      <th>개방성</th>\n",
              "      <th>성실성</th>\n",
              "      <th>외향성</th>\n",
              "      <th>우호성</th>\n",
              "      <th>안정성</th>\n",
              "    </tr>\n",
              "  </thead>\n",
              "  <tbody>\n",
              "    <tr>\n",
              "      <th>0</th>\n",
              "      <td>Argentina</td>\n",
              "      <td>AR</td>\n",
              "      <td>798486</td>\n",
              "      <td>40.133075</td>\n",
              "      <td>31.678530</td>\n",
              "      <td>28.345068</td>\n",
              "      <td>36.416248</td>\n",
              "      <td>32.381431</td>\n",
              "    </tr>\n",
              "    <tr>\n",
              "      <th>1</th>\n",
              "      <td>Australia</td>\n",
              "      <td>AU</td>\n",
              "      <td>27149</td>\n",
              "      <td>38.551472</td>\n",
              "      <td>33.626061</td>\n",
              "      <td>29.937915</td>\n",
              "      <td>37.918328</td>\n",
              "      <td>30.393272</td>\n",
              "    </tr>\n",
              "    <tr>\n",
              "      <th>2</th>\n",
              "      <td>Austria</td>\n",
              "      <td>AT</td>\n",
              "      <td>49886</td>\n",
              "      <td>40.836251</td>\n",
              "      <td>32.518538</td>\n",
              "      <td>29.899588</td>\n",
              "      <td>36.876931</td>\n",
              "      <td>29.856334</td>\n",
              "    </tr>\n",
              "    <tr>\n",
              "      <th>3</th>\n",
              "      <td>Belgium</td>\n",
              "      <td>BE</td>\n",
              "      <td>132109</td>\n",
              "      <td>39.308450</td>\n",
              "      <td>32.029262</td>\n",
              "      <td>29.967453</td>\n",
              "      <td>37.661989</td>\n",
              "      <td>30.598089</td>\n",
              "    </tr>\n",
              "    <tr>\n",
              "      <th>4</th>\n",
              "      <td>Brazil</td>\n",
              "      <td>BR</td>\n",
              "      <td>4915289</td>\n",
              "      <td>40.536946</td>\n",
              "      <td>31.240467</td>\n",
              "      <td>26.505017</td>\n",
              "      <td>34.946725</td>\n",
              "      <td>31.545703</td>\n",
              "    </tr>\n",
              "  </tbody>\n",
              "</table>\n",
              "</div>"
            ],
            "text/plain": [
              "          국가 국가코드    확진자 수  ...        외향성        우호성        안정성\n",
              "0  Argentina   AR   798486  ...  28.345068  36.416248  32.381431\n",
              "1  Australia   AU    27149  ...  29.937915  37.918328  30.393272\n",
              "2    Austria   AT    49886  ...  29.899588  36.876931  29.856334\n",
              "3    Belgium   BE   132109  ...  29.967453  37.661989  30.598089\n",
              "4     Brazil   BR  4915289  ...  26.505017  34.946725  31.545703\n",
              "\n",
              "[5 rows x 8 columns]"
            ]
          },
          "metadata": {
            "tags": []
          },
          "execution_count": 214
        }
      ]
    },
    {
      "cell_type": "code",
      "metadata": {
        "id": "iADp1qxiRjIg",
        "outputId": "09783379-137b-45b4-8be7-c0c79e0c14f9",
        "colab": {
          "base_uri": "https://localhost:8080/"
        }
      },
      "source": [
        "len(df_train)"
      ],
      "execution_count": 215,
      "outputs": [
        {
          "output_type": "execute_result",
          "data": {
            "text/plain": [
              "50"
            ]
          },
          "metadata": {
            "tags": []
          },
          "execution_count": 215
        }
      ]
    },
    {
      "cell_type": "code",
      "metadata": {
        "id": "AHAlIslok62R",
        "outputId": "748f5227-723a-4152-80d5-843cc5ba5e39",
        "colab": {
          "base_uri": "https://localhost:8080/",
          "height": 718
        }
      },
      "source": [
        "# elbow plot\n",
        "distortions = []\n",
        "K = range(1,10)\n",
        "for k in K:\n",
        "    kmeanModel = KMeans(n_clusters=k)\n",
        "    kmeanModel.fit(df_train.iloc[:,3:8])\n",
        "    distortions.append(kmeanModel.inertia_)\n",
        "   \n",
        "\n",
        "plt.figure(figsize=(16,8))\n",
        "plt.plot(K, distortions, 'bx-')\n",
        "plt.xlabel('k')\n",
        "plt.ylabel('Distance')\n",
        "plt.title('The Elbow Plot')\n",
        "plt.vlines(x=3, ymin=0, ymax=300, alpha=0.5, color='blue', linestyle='dashed', linewidth=1.0)\n",
        "plt.show()"
      ],
      "execution_count": 216,
      "outputs": [
        {
          "output_type": "display_data",
          "data": {
            "image/png": "[encoded data removed]",
            "text/plain": [
              "<Figure size 1600x800 with 1 Axes>"
            ]
          },
          "metadata": {
            "tags": []
          }
        }
      ]
    },
    {
      "cell_type": "code",
      "metadata": {
        "id": "57Ga3BNBs12k",
        "outputId": "83ffd82e-1a79-42c5-e341-67dd4b828c87",
        "colab": {
          "base_uri": "https://localhost:8080/",
          "height": 204
        }
      },
      "source": [
        "#k = 2로 설정\n",
        "kmeans = KMeans(n_clusters=2)\n",
        "kmeans.fit(df_train.iloc[:,3:8])\n",
        "df_train['군집'] = kmeans.labels_\n",
        "df_train.head()"
      ],
      "execution_count": 217,
      "outputs": [
        {
          "output_type": "execute_result",
          "data": {
            "text/html": [
              "<div>\n",
              "<style scoped>\n",
              "    .dataframe tbody tr th:only-of-type {\n",
              "        vertical-align: middle;\n",
              "    }\n",
              "\n",
              "    .dataframe tbody tr th {\n",
              "        vertical-align: top;\n",
              "    }\n",
              "\n",
              "    .dataframe thead th {\n",
              "        text-align: right;\n",
              "    }\n",
              "</style>\n",
              "<table border=\"1\" class=\"dataframe\">\n",
              "  <thead>\n",
              "    <tr style=\"text-align: right;\">\n",
              "      <th></th>\n",
              "      <th>국가</th>\n",
              "      <th>국가코드</th>\n",
              "      <th>확진자 수</th>\n",
              "      <th>개방성</th>\n",
              "      <th>성실성</th>\n",
              "      <th>외향성</th>\n",
              "      <th>우호성</th>\n",
              "      <th>안정성</th>\n",
              "      <th>군집</th>\n",
              "    </tr>\n",
              "  </thead>\n",
              "  <tbody>\n",
              "    <tr>\n",
              "      <th>0</th>\n",
              "      <td>Argentina</td>\n",
              "      <td>AR</td>\n",
              "      <td>798486</td>\n",
              "      <td>40.133075</td>\n",
              "      <td>31.678530</td>\n",
              "      <td>28.345068</td>\n",
              "      <td>36.416248</td>\n",
              "      <td>32.381431</td>\n",
              "      <td>1</td>\n",
              "    </tr>\n",
              "    <tr>\n",
              "      <th>1</th>\n",
              "      <td>Australia</td>\n",
              "      <td>AU</td>\n",
              "      <td>27149</td>\n",
              "      <td>38.551472</td>\n",
              "      <td>33.626061</td>\n",
              "      <td>29.937915</td>\n",
              "      <td>37.918328</td>\n",
              "      <td>30.393272</td>\n",
              "      <td>0</td>\n",
              "    </tr>\n",
              "    <tr>\n",
              "      <th>2</th>\n",
              "      <td>Austria</td>\n",
              "      <td>AT</td>\n",
              "      <td>49886</td>\n",
              "      <td>40.836251</td>\n",
              "      <td>32.518538</td>\n",
              "      <td>29.899588</td>\n",
              "      <td>36.876931</td>\n",
              "      <td>29.856334</td>\n",
              "      <td>0</td>\n",
              "    </tr>\n",
              "    <tr>\n",
              "      <th>3</th>\n",
              "      <td>Belgium</td>\n",
              "      <td>BE</td>\n",
              "      <td>132109</td>\n",
              "      <td>39.308450</td>\n",
              "      <td>32.029262</td>\n",
              "      <td>29.967453</td>\n",
              "      <td>37.661989</td>\n",
              "      <td>30.598089</td>\n",
              "      <td>0</td>\n",
              "    </tr>\n",
              "    <tr>\n",
              "      <th>4</th>\n",
              "      <td>Brazil</td>\n",
              "      <td>BR</td>\n",
              "      <td>4915289</td>\n",
              "      <td>40.536946</td>\n",
              "      <td>31.240467</td>\n",
              "      <td>26.505017</td>\n",
              "      <td>34.946725</td>\n",
              "      <td>31.545703</td>\n",
              "      <td>1</td>\n",
              "    </tr>\n",
              "  </tbody>\n",
              "</table>\n",
              "</div>"
            ],
            "text/plain": [
              "          국가 국가코드    확진자 수        개방성  ...        외향성        우호성        안정성  군집\n",
              "0  Argentina   AR   798486  40.133075  ...  28.345068  36.416248  32.381431   1\n",
              "1  Australia   AU    27149  38.551472  ...  29.937915  37.918328  30.393272   0\n",
              "2    Austria   AT    49886  40.836251  ...  29.899588  36.876931  29.856334   0\n",
              "3    Belgium   BE   132109  39.308450  ...  29.967453  37.661989  30.598089   0\n",
              "4     Brazil   BR  4915289  40.536946  ...  26.505017  34.946725  31.545703   1\n",
              "\n",
              "[5 rows x 9 columns]"
            ]
          },
          "metadata": {
            "tags": []
          },
          "execution_count": 217
        }
      ]
    },
    {
      "cell_type": "code",
      "metadata": {
        "id": "eTovwMTyxUbI",
        "outputId": "3de9af43-90f1-467c-eb7f-a602c8b886c0",
        "colab": {
          "base_uri": "https://localhost:8080/"
        }
      },
      "source": [
        "# label별 case 확인\n",
        "print('군집 0의 수 : ', len(df_train.loc[df_train['군집'] == 0]))\n",
        "print('군집 1의 수 : ', len(df_train.loc[df_train['군집'] == 1]))"
      ],
      "execution_count": 218,
      "outputs": [
        {
          "output_type": "stream",
          "text": [
            "군집 0의 수 :  26\n",
            "군집 1의 수 :  24\n"
          ],
          "name": "stdout"
        }
      ]
    },
    {
      "cell_type": "code",
      "metadata": {
        "id": "2_1owttZhXmY"
      },
      "source": [
        "# 결과가 좋지 않음 지나치게 outlier 인 미국과 인도를 빼자\n",
        "i = df_train.loc[(df_train['국가'] == 'India') | (df_train['국가'] == 'United States of America')].index\n",
        "df_train.drop(i, inplace=True)"
      ],
      "execution_count": 219,
      "outputs": []
    },
    {
      "cell_type": "code",
      "metadata": {
        "id": "X_ow8KCm1poH",
        "outputId": "48bf12a0-ffb6-4a32-dcb0-b5174113d0db",
        "colab": {
          "base_uri": "https://localhost:8080/",
          "height": 111
        }
      },
      "source": [
        "# Label 별로 그룹\n",
        "traits = ['개방성','성실성','외향성','우호성','안정성']\n",
        "\n",
        "train_res = df_train.iloc[:, 2:]\\\n",
        "                    .groupby('군집')\\\n",
        "                    .mean()\\\n",
        "                    .rename_axis('군집')\\\n",
        "                    .reset_index()\n",
        "train_res = train_res.apply(lambda x: x.round(2))\n",
        "train_res = train_res.sort_values('확진자 수', ascending=False).reset_index(drop=True)\n",
        "train_res"
      ],
      "execution_count": 227,
      "outputs": [
        {
          "output_type": "execute_result",
          "data": {
            "text/html": [
              "<div>\n",
              "<style scoped>\n",
              "    .dataframe tbody tr th:only-of-type {\n",
              "        vertical-align: middle;\n",
              "    }\n",
              "\n",
              "    .dataframe tbody tr th {\n",
              "        vertical-align: top;\n",
              "    }\n",
              "\n",
              "    .dataframe thead th {\n",
              "        text-align: right;\n",
              "    }\n",
              "</style>\n",
              "<table border=\"1\" class=\"dataframe\">\n",
              "  <thead>\n",
              "    <tr style=\"text-align: right;\">\n",
              "      <th></th>\n",
              "      <th>군집</th>\n",
              "      <th>확진자 수</th>\n",
              "      <th>개방성</th>\n",
              "      <th>성실성</th>\n",
              "      <th>외향성</th>\n",
              "      <th>우호성</th>\n",
              "      <th>안정성</th>\n",
              "    </tr>\n",
              "  </thead>\n",
              "  <tbody>\n",
              "    <tr>\n",
              "      <th>0</th>\n",
              "      <td>1</td>\n",
              "      <td>512379.08</td>\n",
              "      <td>39.65</td>\n",
              "      <td>32.13</td>\n",
              "      <td>28.48</td>\n",
              "      <td>35.84</td>\n",
              "      <td>31.62</td>\n",
              "    </tr>\n",
              "    <tr>\n",
              "      <th>1</th>\n",
              "      <td>0</td>\n",
              "      <td>168060.58</td>\n",
              "      <td>38.62</td>\n",
              "      <td>33.39</td>\n",
              "      <td>29.80</td>\n",
              "      <td>37.43</td>\n",
              "      <td>30.49</td>\n",
              "    </tr>\n",
              "  </tbody>\n",
              "</table>\n",
              "</div>"
            ],
            "text/plain": [
              "   군집      확진자 수    개방성    성실성    외향성    우호성    안정성\n",
              "0   1  512379.08  39.65  32.13  28.48  35.84  31.62\n",
              "1   0  168060.58  38.62  33.39  29.80  37.43  30.49"
            ]
          },
          "metadata": {
            "tags": []
          },
          "execution_count": 227
        }
      ]
    },
    {
      "cell_type": "code",
      "metadata": {
        "id": "s61aKJkL4TXI",
        "outputId": "1a906a58-9ffb-4de4-bd39-66627323a84f",
        "colab": {
          "base_uri": "https://localhost:8080/",
          "height": 204
        }
      },
      "source": [
        "# test 나라들의 데이터 예측\n",
        "mean_test['군집'] = kmeans.predict(mean_test.iloc[:,1:])\n",
        "mean_test.head()"
      ],
      "execution_count": 221,
      "outputs": [
        {
          "output_type": "execute_result",
          "data": {
            "text/html": [
              "<div>\n",
              "<style scoped>\n",
              "    .dataframe tbody tr th:only-of-type {\n",
              "        vertical-align: middle;\n",
              "    }\n",
              "\n",
              "    .dataframe tbody tr th {\n",
              "        vertical-align: top;\n",
              "    }\n",
              "\n",
              "    .dataframe thead th {\n",
              "        text-align: right;\n",
              "    }\n",
              "</style>\n",
              "<table border=\"1\" class=\"dataframe\">\n",
              "  <thead>\n",
              "    <tr style=\"text-align: right;\">\n",
              "      <th></th>\n",
              "      <th>국가코드</th>\n",
              "      <th>개방성</th>\n",
              "      <th>성실성</th>\n",
              "      <th>외향성</th>\n",
              "      <th>우호성</th>\n",
              "      <th>안정성</th>\n",
              "      <th>군집</th>\n",
              "    </tr>\n",
              "  </thead>\n",
              "  <tbody>\n",
              "    <tr>\n",
              "      <th>0</th>\n",
              "      <td>CR</td>\n",
              "      <td>39.633028</td>\n",
              "      <td>32.664220</td>\n",
              "      <td>28.759633</td>\n",
              "      <td>35.908257</td>\n",
              "      <td>31.051376</td>\n",
              "      <td>1</td>\n",
              "    </tr>\n",
              "    <tr>\n",
              "      <th>1</th>\n",
              "      <td>EC</td>\n",
              "      <td>38.383138</td>\n",
              "      <td>31.910352</td>\n",
              "      <td>29.119530</td>\n",
              "      <td>35.337247</td>\n",
              "      <td>31.806830</td>\n",
              "      <td>1</td>\n",
              "    </tr>\n",
              "    <tr>\n",
              "      <th>2</th>\n",
              "      <td>EE</td>\n",
              "      <td>38.964045</td>\n",
              "      <td>32.362921</td>\n",
              "      <td>28.283146</td>\n",
              "      <td>35.783146</td>\n",
              "      <td>30.279775</td>\n",
              "      <td>1</td>\n",
              "    </tr>\n",
              "    <tr>\n",
              "      <th>3</th>\n",
              "      <td>EG</td>\n",
              "      <td>37.943890</td>\n",
              "      <td>33.007481</td>\n",
              "      <td>28.480050</td>\n",
              "      <td>36.966334</td>\n",
              "      <td>33.011222</td>\n",
              "      <td>1</td>\n",
              "    </tr>\n",
              "    <tr>\n",
              "      <th>4</th>\n",
              "      <td>IS</td>\n",
              "      <td>39.057728</td>\n",
              "      <td>32.614525</td>\n",
              "      <td>30.225326</td>\n",
              "      <td>37.696462</td>\n",
              "      <td>30.463687</td>\n",
              "      <td>0</td>\n",
              "    </tr>\n",
              "  </tbody>\n",
              "</table>\n",
              "</div>"
            ],
            "text/plain": [
              "  국가코드        개방성        성실성        외향성        우호성        안정성  군집\n",
              "0   CR  39.633028  32.664220  28.759633  35.908257  31.051376   1\n",
              "1   EC  38.383138  31.910352  29.119530  35.337247  31.806830   1\n",
              "2   EE  38.964045  32.362921  28.283146  35.783146  30.279775   1\n",
              "3   EG  37.943890  33.007481  28.480050  36.966334  33.011222   1\n",
              "4   IS  39.057728  32.614525  30.225326  37.696462  30.463687   0"
            ]
          },
          "metadata": {
            "tags": []
          },
          "execution_count": 221
        }
      ]
    },
    {
      "cell_type": "code",
      "metadata": {
        "id": "gM0w9HfFqN4c",
        "outputId": "d7fb087c-b175-4041-f36b-7d28fcea1fd0",
        "colab": {
          "base_uri": "https://localhost:8080/",
          "height": 111
        }
      },
      "source": [
        "df_test.head(2)"
      ],
      "execution_count": 225,
      "outputs": [
        {
          "output_type": "execute_result",
          "data": {
            "text/html": [
              "<div>\n",
              "<style scoped>\n",
              "    .dataframe tbody tr th:only-of-type {\n",
              "        vertical-align: middle;\n",
              "    }\n",
              "\n",
              "    .dataframe tbody tr th {\n",
              "        vertical-align: top;\n",
              "    }\n",
              "\n",
              "    .dataframe thead th {\n",
              "        text-align: right;\n",
              "    }\n",
              "</style>\n",
              "<table border=\"1\" class=\"dataframe\">\n",
              "  <thead>\n",
              "    <tr style=\"text-align: right;\">\n",
              "      <th></th>\n",
              "      <th>국가코드</th>\n",
              "      <th>개방성</th>\n",
              "      <th>성실성</th>\n",
              "      <th>외향성</th>\n",
              "      <th>우호성</th>\n",
              "      <th>안정성</th>\n",
              "      <th>군집</th>\n",
              "      <th>국가</th>\n",
              "      <th>확진자 수</th>\n",
              "    </tr>\n",
              "  </thead>\n",
              "  <tbody>\n",
              "    <tr>\n",
              "      <th>0</th>\n",
              "      <td>CR</td>\n",
              "      <td>39.633028</td>\n",
              "      <td>32.664220</td>\n",
              "      <td>28.759633</td>\n",
              "      <td>35.908257</td>\n",
              "      <td>31.051376</td>\n",
              "      <td>1</td>\n",
              "      <td>Costa Rica</td>\n",
              "      <td>79182</td>\n",
              "    </tr>\n",
              "    <tr>\n",
              "      <th>1</th>\n",
              "      <td>EC</td>\n",
              "      <td>38.383138</td>\n",
              "      <td>31.910352</td>\n",
              "      <td>29.119530</td>\n",
              "      <td>35.337247</td>\n",
              "      <td>31.806830</td>\n",
              "      <td>1</td>\n",
              "      <td>Ecuador</td>\n",
              "      <td>141339</td>\n",
              "    </tr>\n",
              "  </tbody>\n",
              "</table>\n",
              "</div>"
            ],
            "text/plain": [
              "  국가코드        개방성        성실성        외향성  ...        안정성  군집          국가   확진자 수\n",
              "0   CR  39.633028  32.664220  28.759633  ...  31.051376   1  Costa Rica   79182\n",
              "1   EC  38.383138  31.910352  29.119530  ...  31.806830   1     Ecuador  141339\n",
              "\n",
              "[2 rows x 9 columns]"
            ]
          },
          "metadata": {
            "tags": []
          },
          "execution_count": 225
        }
      ]
    },
    {
      "cell_type": "code",
      "metadata": {
        "id": "GOb8HL6ao2DF",
        "outputId": "a43a1317-cbd0-42e0-dcca-9286f5850981",
        "colab": {
          "base_uri": "https://localhost:8080/",
          "height": 111
        }
      },
      "source": [
        "# Label 별로 그룹\n",
        "df_test = mean_test.merge(df_covid, on = '국가코드')\n",
        "\n",
        "\n",
        "test_res = df_test.loc[:, ['군집', '확진자 수'] + traits]\\\n",
        "                    .groupby('군집')\\\n",
        "                    .mean()\\\n",
        "                    .rename_axis('군집')\\\n",
        "                    .reset_index()\n",
        "test_res = test_res.apply(lambda x: x.round(2))\n",
        "test_res = test_res.sort_values('확진자 수', ascending=False).reset_index(drop=True)\n",
        "test_res"
      ],
      "execution_count": 228,
      "outputs": [
        {
          "output_type": "execute_result",
          "data": {
            "text/html": [
              "<div>\n",
              "<style scoped>\n",
              "    .dataframe tbody tr th:only-of-type {\n",
              "        vertical-align: middle;\n",
              "    }\n",
              "\n",
              "    .dataframe tbody tr th {\n",
              "        vertical-align: top;\n",
              "    }\n",
              "\n",
              "    .dataframe thead th {\n",
              "        text-align: right;\n",
              "    }\n",
              "</style>\n",
              "<table border=\"1\" class=\"dataframe\">\n",
              "  <thead>\n",
              "    <tr style=\"text-align: right;\">\n",
              "      <th></th>\n",
              "      <th>군집</th>\n",
              "      <th>확진자 수</th>\n",
              "      <th>개방성</th>\n",
              "      <th>성실성</th>\n",
              "      <th>외향성</th>\n",
              "      <th>우호성</th>\n",
              "      <th>안정성</th>\n",
              "    </tr>\n",
              "  </thead>\n",
              "  <tbody>\n",
              "    <tr>\n",
              "      <th>0</th>\n",
              "      <td>1</td>\n",
              "      <td>100305.4</td>\n",
              "      <td>39.24</td>\n",
              "      <td>32.40</td>\n",
              "      <td>28.40</td>\n",
              "      <td>35.64</td>\n",
              "      <td>31.53</td>\n",
              "    </tr>\n",
              "    <tr>\n",
              "      <th>1</th>\n",
              "      <td>0</td>\n",
              "      <td>32628.0</td>\n",
              "      <td>38.57</td>\n",
              "      <td>34.19</td>\n",
              "      <td>29.64</td>\n",
              "      <td>37.93</td>\n",
              "      <td>30.71</td>\n",
              "    </tr>\n",
              "  </tbody>\n",
              "</table>\n",
              "</div>"
            ],
            "text/plain": [
              "   군집     확진자 수    개방성    성실성    외향성    우호성    안정성\n",
              "0   1  100305.4  39.24  32.40  28.40  35.64  31.53\n",
              "1   0   32628.0  38.57  34.19  29.64  37.93  30.71"
            ]
          },
          "metadata": {
            "tags": []
          },
          "execution_count": 228
        }
      ]
    },
    {
      "cell_type": "code",
      "metadata": {
        "id": "1Kt0fYrM5CdX",
        "outputId": "5cefcd5a-44ca-4f4b-814c-313aac5edcf9",
        "colab": {
          "base_uri": "https://localhost:8080/"
        }
      },
      "source": [
        "train_res.iloc[0,1]/train_res.iloc[1,1]"
      ],
      "execution_count": 263,
      "outputs": [
        {
          "output_type": "execute_result",
          "data": {
            "text/plain": [
              "3.04877610204606"
            ]
          },
          "metadata": {
            "tags": []
          },
          "execution_count": 263
        }
      ]
    },
    {
      "cell_type": "code",
      "metadata": {
        "id": "0b1fh_lo5IG7",
        "outputId": "d5a67099-bead-44cb-f0d9-0b1f81adc6b4",
        "colab": {
          "base_uri": "https://localhost:8080/"
        }
      },
      "source": [
        "test_res.iloc[0,1]/test_res.iloc[1,1]"
      ],
      "execution_count": 264,
      "outputs": [
        {
          "output_type": "execute_result",
          "data": {
            "text/plain": [
              "3.074212332965551"
            ]
          },
          "metadata": {
            "tags": []
          },
          "execution_count": 264
        }
      ]
    },
    {
      "cell_type": "code",
      "metadata": {
        "id": "GIvHdnuA-y-6"
      },
      "source": [
        "# Plot"
      ],
      "execution_count": null,
      "outputs": []
    },
    {
      "cell_type": "code",
      "metadata": {
        "id": "CE8jW0Jqzo8d"
      },
      "source": [
        "final_df = pd.concat([train_res, test_res], axis = 0)"
      ],
      "execution_count": 241,
      "outputs": []
    },
    {
      "cell_type": "code",
      "metadata": {
        "id": "vuB2gffLwZrl",
        "outputId": "21ff483c-28a3-4d04-9028-e0431edfb326",
        "colab": {
          "base_uri": "https://localhost:8080/",
          "height": 545
        }
      },
      "source": [
        "fig, axes = plt.subplots(1,2, figsize=(10, 6))\n",
        "\n",
        "bar_width = 0.35\n",
        "\n",
        "alpha = 0.5\n",
        "\n",
        "index = np.arange(2)\n",
        "\n",
        "y1 = train_res['확진자 수']\n",
        "\n",
        "y2 = test_res['확진자 수']\n",
        "\n",
        "p1 = axes[0].bar(index, y1, \n",
        "\n",
        "             bar_width, \n",
        "\n",
        "             color=['#567572FF', '#964F4CFF'],\n",
        "\n",
        "             alpha=alpha,\n",
        "\n",
        "             label='Train')\n",
        "axes[0].set_xticks(index)\n",
        "axes[0].set_xticklabels(['Cluster 0', 'Cluster 1'])\n",
        "axes[0].set_ylabel('Confirmed Case')\n",
        "\n",
        "axes[0].set_title('Train data Clustering')\n",
        "\n",
        "p2 = axes[1].bar(index, y2, \n",
        "\n",
        "             bar_width, \n",
        "\n",
        "             color=['#567572FF', '#964F4CFF'], \n",
        "\n",
        "             alpha=alpha,\n",
        "\n",
        "             label='Test')\n",
        "\n",
        "\n",
        "axes[1].set_xticks(index)\n",
        "axes[1].set_xticklabels(['Cluster 0', 'Cluster 1'])\n",
        "\n",
        "axes[0].annotate(str(int(round(y1[0], 0))), xy=(0, y1[0]), fontsize=10, ha='center', color = '#567572FF') \n",
        "axes[0].annotate(str(int(round(y1[1], 0))), xy=(1, y1[1]), fontsize=10, ha='center', color = '#964F4CFF') \n",
        "axes[1].annotate(str(int(round(y2[0], 0))), xy=(0, y2[0]), fontsize=10, ha='center', color = '#567572FF') \n",
        "axes[1].annotate(str(int(round(y2[1], 0))), xy=(1, y2[1]), fontsize=10, ha='center', color = '#964F4CFF') \n",
        "\n",
        "plt.title('Test data Clustering')\n",
        "\n",
        "plt.show()\n",
        "\n",
        "\n"
      ],
      "execution_count": 289,
      "outputs": [
        {
          "output_type": "display_data",
          "data": {
            "image/png": "[encoded data removed]",
            "text/plain": [
              "<Figure size 1000x600 with 2 Axes>"
            ]
          },
          "metadata": {
            "tags": []
          }
        }
      ]
    },
    {
      "cell_type": "code",
      "metadata": {
        "id": "XCv4x8cJKdE2"
      },
      "source": [
        "# Geometry\n",
        "countries = gpd.read_file('99bfd9e7-bb42-4728-87b5-07f8c8ac631c2020328-1-1vef4ev.lu5nk.shp')"
      ],
      "execution_count": 155,
      "outputs": []
    },
    {
      "cell_type": "code",
      "metadata": {
        "id": "p3KkX7-gUOE_",
        "outputId": "21384d7d-b7b4-46c3-bdc0-8733c399a42a",
        "colab": {
          "base_uri": "https://localhost:8080/",
          "height": 111
        }
      },
      "source": [
        "countries.head(2)"
      ],
      "execution_count": 195,
      "outputs": [
        {
          "output_type": "execute_result",
          "data": {
            "text/html": [
              "<div>\n",
              "<style scoped>\n",
              "    .dataframe tbody tr th:only-of-type {\n",
              "        vertical-align: middle;\n",
              "    }\n",
              "\n",
              "    .dataframe tbody tr th {\n",
              "        vertical-align: top;\n",
              "    }\n",
              "\n",
              "    .dataframe thead th {\n",
              "        text-align: right;\n",
              "    }\n",
              "</style>\n",
              "<table border=\"1\" class=\"dataframe\">\n",
              "  <thead>\n",
              "    <tr style=\"text-align: right;\">\n",
              "      <th></th>\n",
              "      <th>OBJECTID</th>\n",
              "      <th>Country</th>\n",
              "      <th>geometry</th>\n",
              "    </tr>\n",
              "  </thead>\n",
              "  <tbody>\n",
              "    <tr>\n",
              "      <th>0</th>\n",
              "      <td>1</td>\n",
              "      <td>Aruba</td>\n",
              "      <td>POLYGON ((-69.88223 12.41111, -69.94695 12.436...</td>\n",
              "    </tr>\n",
              "    <tr>\n",
              "      <th>1</th>\n",
              "      <td>2</td>\n",
              "      <td>Antigua and Barbuda</td>\n",
              "      <td>MULTIPOLYGON (((-61.73889 17.54055, -61.75195 ...</td>\n",
              "    </tr>\n",
              "  </tbody>\n",
              "</table>\n",
              "</div>"
            ],
            "text/plain": [
              "   OBJECTID  ...                                           geometry\n",
              "0         1  ...  POLYGON ((-69.88223 12.41111, -69.94695 12.436...\n",
              "1         2  ...  MULTIPOLYGON (((-61.73889 17.54055, -61.75195 ...\n",
              "\n",
              "[2 rows x 3 columns]"
            ]
          },
          "metadata": {
            "tags": []
          },
          "execution_count": 195
        }
      ]
    },
    {
      "cell_type": "code",
      "metadata": {
        "id": "X-KirqCpXB03",
        "outputId": "debad261-4e83-49ab-fa82-04e9c749f3ec",
        "colab": {
          "base_uri": "https://localhost:8080/",
          "height": 111
        }
      },
      "source": [
        "corona_df.head(2)"
      ],
      "execution_count": 157,
      "outputs": [
        {
          "output_type": "execute_result",
          "data": {
            "text/html": [
              "<div>\n",
              "<style scoped>\n",
              "    .dataframe tbody tr th:only-of-type {\n",
              "        vertical-align: middle;\n",
              "    }\n",
              "\n",
              "    .dataframe tbody tr th {\n",
              "        vertical-align: top;\n",
              "    }\n",
              "\n",
              "    .dataframe thead th {\n",
              "        text-align: right;\n",
              "    }\n",
              "</style>\n",
              "<table border=\"1\" class=\"dataframe\">\n",
              "  <thead>\n",
              "    <tr style=\"text-align: right;\">\n",
              "      <th></th>\n",
              "      <th>Date_reported</th>\n",
              "      <th>Country_code</th>\n",
              "      <th>Country</th>\n",
              "      <th>WHO_region</th>\n",
              "      <th>New_cases</th>\n",
              "      <th>Cumulative_cases</th>\n",
              "      <th>New_deaths</th>\n",
              "      <th>Cumulative_deaths</th>\n",
              "    </tr>\n",
              "  </thead>\n",
              "  <tbody>\n",
              "    <tr>\n",
              "      <th>0</th>\n",
              "      <td>2020-01-03</td>\n",
              "      <td>AF</td>\n",
              "      <td>Afghanistan</td>\n",
              "      <td>EMRO</td>\n",
              "      <td>0</td>\n",
              "      <td>0</td>\n",
              "      <td>0</td>\n",
              "      <td>0</td>\n",
              "    </tr>\n",
              "    <tr>\n",
              "      <th>1</th>\n",
              "      <td>2020-01-04</td>\n",
              "      <td>AF</td>\n",
              "      <td>Afghanistan</td>\n",
              "      <td>EMRO</td>\n",
              "      <td>0</td>\n",
              "      <td>0</td>\n",
              "      <td>0</td>\n",
              "      <td>0</td>\n",
              "    </tr>\n",
              "  </tbody>\n",
              "</table>\n",
              "</div>"
            ],
            "text/plain": [
              "  Date_reported Country_code  ... New_deaths Cumulative_deaths\n",
              "0    2020-01-03           AF  ...          0                 0\n",
              "1    2020-01-04           AF  ...          0                 0\n",
              "\n",
              "[2 rows x 8 columns]"
            ]
          },
          "metadata": {
            "tags": []
          },
          "execution_count": 157
        }
      ]
    },
    {
      "cell_type": "code",
      "metadata": {
        "id": "3ULB58_hWDBP"
      },
      "source": [
        "# 열 이름 통일\n",
        "countries = countries.rename(columns={'CNTRY_NAME': 'Country'})"
      ],
      "execution_count": 158,
      "outputs": []
    },
    {
      "cell_type": "code",
      "metadata": {
        "id": "FDi1ENB2hnlA"
      },
      "source": [
        "# 코로나바이러스 데이터와, geometry 데이터와의 나라 이름 통일\n",
        "\n",
        "corona_df = corona_df.replace({'Country' : 'Republic of Korea'}, 'South Korea')\n",
        "\n",
        "corona_df = corona_df.replace({'Country' : 'United States of America'}, 'United States')\n",
        "\n",
        "corona_df = corona_df.replace({'Country' : 'Venezuela (Bolivarian Republic of)'}, 'Venezuela')\n",
        "\n",
        "corona_df = corona_df.replace({'Country' : 'Bolivia (Plurinational State of)'}, 'Bolivia')\n",
        "\n",
        "corona_df = corona_df.replace({'Country' : 'Russian Federation'}, 'Russia')\n",
        "\n",
        "corona_df = corona_df.replace({'Country' : 'Iran (Islamic Republic of)'}, 'Iran')\n",
        "\n",
        "corona_df = corona_df.replace({'Country' : 'Viet Nam'}, 'Vietnam')\n",
        "\n",
        "corona_df = corona_df.replace({'Country' : \"Lao People's Democratic Republic\"}, 'Laos')\n",
        "\n",
        "corona_df = corona_df.replace({'Country' : \"Syrian Arab Republic\"}, 'Syria')\n",
        "\n",
        "corona_df = corona_df.replace({'Country' : \"United Republic of Tanzania\"}, 'Tanzania')\n",
        "\n",
        "corona_df = corona_df.replace({'Country' : \"Democratic Republic of the Congo\"}, 'Congo')\n",
        "\n",
        "corona_df = corona_df.replace({'Country' : \n",
        "                      dict.fromkeys(['Mainland China', \n",
        "                                     'Hong Kong', \n",
        "                                     'Macau'], \n",
        "                                     'China')})\n",
        "corona_df = corona_df.replace({'Country' : 'The United Kingdom'}, \n",
        "                                'United Kingdom')\n",
        "corona_df = corona_df.replace({'Country' : 'North Ireland'}, \n",
        "                                'United Kingdom')\n",
        "corona_df = corona_df.replace({'Country' : 'Republic of Ireland'}, \n",
        "                                'Ireland')\n",
        "corona_df = corona_df.replace({'Country' : 'Vatican City'}, \n",
        "                                'Italy')\n",
        "countries = countries.replace({'Country' : 'Byelarus'}, \n",
        "                               'Belarus')\n",
        "countries = countries.replace({'Country' : 'Macedonia'}, \n",
        "                               'North Macedonia')\n",
        "countries = countries.replace({'Country' : 'Myanmar (Burma)'}, \n",
        "                               'Myanmar')\n",
        "countries = countries.replace({'Country' : 'Tanzania, United Republic of'}, \n",
        "                               'Tanzania')"
      ],
      "execution_count": 159,
      "outputs": []
    },
    {
      "cell_type": "code",
      "metadata": {
        "id": "Pu9dbpDrWYox"
      },
      "source": [
        "# 확진자가 0인경우 drop\n",
        "corona_df = corona_df[corona_df.New_cases != 0]"
      ],
      "execution_count": 160,
      "outputs": []
    },
    {
      "cell_type": "code",
      "metadata": {
        "id": "7lIB4xIqW9HZ",
        "outputId": "df5cce21-98a3-4266-a4d2-0d1699c7091a",
        "colab": {
          "base_uri": "https://localhost:8080/",
          "height": 111
        }
      },
      "source": [
        "sorted_df = corona_df.sort_values(['Country', \n",
        "                     'Date_reported']).reset_index(drop=True)\n",
        "sorted_df.head(2)                     "
      ],
      "execution_count": 161,
      "outputs": [
        {
          "output_type": "execute_result",
          "data": {
            "text/html": [
              "<div>\n",
              "<style scoped>\n",
              "    .dataframe tbody tr th:only-of-type {\n",
              "        vertical-align: middle;\n",
              "    }\n",
              "\n",
              "    .dataframe tbody tr th {\n",
              "        vertical-align: top;\n",
              "    }\n",
              "\n",
              "    .dataframe thead th {\n",
              "        text-align: right;\n",
              "    }\n",
              "</style>\n",
              "<table border=\"1\" class=\"dataframe\">\n",
              "  <thead>\n",
              "    <tr style=\"text-align: right;\">\n",
              "      <th></th>\n",
              "      <th>Date_reported</th>\n",
              "      <th>Country_code</th>\n",
              "      <th>Country</th>\n",
              "      <th>WHO_region</th>\n",
              "      <th>New_cases</th>\n",
              "      <th>Cumulative_cases</th>\n",
              "      <th>New_deaths</th>\n",
              "      <th>Cumulative_deaths</th>\n",
              "    </tr>\n",
              "  </thead>\n",
              "  <tbody>\n",
              "    <tr>\n",
              "      <th>0</th>\n",
              "      <td>2020-02-24</td>\n",
              "      <td>AF</td>\n",
              "      <td>Afghanistan</td>\n",
              "      <td>EMRO</td>\n",
              "      <td>5</td>\n",
              "      <td>5</td>\n",
              "      <td>0</td>\n",
              "      <td>0</td>\n",
              "    </tr>\n",
              "    <tr>\n",
              "      <th>1</th>\n",
              "      <td>2020-03-07</td>\n",
              "      <td>AF</td>\n",
              "      <td>Afghanistan</td>\n",
              "      <td>EMRO</td>\n",
              "      <td>3</td>\n",
              "      <td>8</td>\n",
              "      <td>0</td>\n",
              "      <td>0</td>\n",
              "    </tr>\n",
              "  </tbody>\n",
              "</table>\n",
              "</div>"
            ],
            "text/plain": [
              "  Date_reported Country_code  ... New_deaths Cumulative_deaths\n",
              "0    2020-02-24           AF  ...          0                 0\n",
              "1    2020-03-07           AF  ...          0                 0\n",
              "\n",
              "[2 rows x 8 columns]"
            ]
          },
          "metadata": {
            "tags": []
          },
          "execution_count": 161
        }
      ]
    },
    {
      "cell_type": "code",
      "metadata": {
        "id": "mvup8Vu2XMO-",
        "outputId": "a531db94-6880-4a71-d08d-fcb5504c9217",
        "colab": {
          "base_uri": "https://localhost:8080/",
          "height": 204
        }
      },
      "source": [
        "sum_df = sorted_df.groupby(['Country', 'Date_reported'], as_index=False).sum()\n",
        "sum_df.head()"
      ],
      "execution_count": 162,
      "outputs": [
        {
          "output_type": "execute_result",
          "data": {
            "text/html": [
              "<div>\n",
              "<style scoped>\n",
              "    .dataframe tbody tr th:only-of-type {\n",
              "        vertical-align: middle;\n",
              "    }\n",
              "\n",
              "    .dataframe tbody tr th {\n",
              "        vertical-align: top;\n",
              "    }\n",
              "\n",
              "    .dataframe thead th {\n",
              "        text-align: right;\n",
              "    }\n",
              "</style>\n",
              "<table border=\"1\" class=\"dataframe\">\n",
              "  <thead>\n",
              "    <tr style=\"text-align: right;\">\n",
              "      <th></th>\n",
              "      <th>Country</th>\n",
              "      <th>Date_reported</th>\n",
              "      <th>New_cases</th>\n",
              "      <th>Cumulative_cases</th>\n",
              "      <th>New_deaths</th>\n",
              "      <th>Cumulative_deaths</th>\n",
              "    </tr>\n",
              "  </thead>\n",
              "  <tbody>\n",
              "    <tr>\n",
              "      <th>0</th>\n",
              "      <td>Afghanistan</td>\n",
              "      <td>2020-02-24</td>\n",
              "      <td>5</td>\n",
              "      <td>5</td>\n",
              "      <td>0</td>\n",
              "      <td>0</td>\n",
              "    </tr>\n",
              "    <tr>\n",
              "      <th>1</th>\n",
              "      <td>Afghanistan</td>\n",
              "      <td>2020-03-07</td>\n",
              "      <td>3</td>\n",
              "      <td>8</td>\n",
              "      <td>0</td>\n",
              "      <td>0</td>\n",
              "    </tr>\n",
              "    <tr>\n",
              "      <th>2</th>\n",
              "      <td>Afghanistan</td>\n",
              "      <td>2020-03-11</td>\n",
              "      <td>3</td>\n",
              "      <td>11</td>\n",
              "      <td>0</td>\n",
              "      <td>0</td>\n",
              "    </tr>\n",
              "    <tr>\n",
              "      <th>3</th>\n",
              "      <td>Afghanistan</td>\n",
              "      <td>2020-03-14</td>\n",
              "      <td>3</td>\n",
              "      <td>14</td>\n",
              "      <td>0</td>\n",
              "      <td>0</td>\n",
              "    </tr>\n",
              "    <tr>\n",
              "      <th>4</th>\n",
              "      <td>Afghanistan</td>\n",
              "      <td>2020-03-15</td>\n",
              "      <td>6</td>\n",
              "      <td>20</td>\n",
              "      <td>0</td>\n",
              "      <td>0</td>\n",
              "    </tr>\n",
              "  </tbody>\n",
              "</table>\n",
              "</div>"
            ],
            "text/plain": [
              "       Country Date_reported  ...  New_deaths  Cumulative_deaths\n",
              "0  Afghanistan    2020-02-24  ...           0                  0\n",
              "1  Afghanistan    2020-03-07  ...           0                  0\n",
              "2  Afghanistan    2020-03-11  ...           0                  0\n",
              "3  Afghanistan    2020-03-14  ...           0                  0\n",
              "4  Afghanistan    2020-03-15  ...           0                  0\n",
              "\n",
              "[5 rows x 6 columns]"
            ]
          },
          "metadata": {
            "tags": []
          },
          "execution_count": 162
        }
      ]
    },
    {
      "cell_type": "code",
      "metadata": {
        "id": "fT8OjHUcXTJj",
        "outputId": "b4189db2-3bbe-4086-efc6-e41631b6e7c5",
        "colab": {
          "base_uri": "https://localhost:8080/",
          "height": 111
        }
      },
      "source": [
        "joined_df = sum_df.merge(countries, on='Country')\n",
        "joined_df.head(2)"
      ],
      "execution_count": 163,
      "outputs": [
        {
          "output_type": "execute_result",
          "data": {
            "text/html": [
              "<div>\n",
              "<style scoped>\n",
              "    .dataframe tbody tr th:only-of-type {\n",
              "        vertical-align: middle;\n",
              "    }\n",
              "\n",
              "    .dataframe tbody tr th {\n",
              "        vertical-align: top;\n",
              "    }\n",
              "\n",
              "    .dataframe thead th {\n",
              "        text-align: right;\n",
              "    }\n",
              "</style>\n",
              "<table border=\"1\" class=\"dataframe\">\n",
              "  <thead>\n",
              "    <tr style=\"text-align: right;\">\n",
              "      <th></th>\n",
              "      <th>Country</th>\n",
              "      <th>Date_reported</th>\n",
              "      <th>New_cases</th>\n",
              "      <th>Cumulative_cases</th>\n",
              "      <th>New_deaths</th>\n",
              "      <th>Cumulative_deaths</th>\n",
              "      <th>OBJECTID</th>\n",
              "      <th>geometry</th>\n",
              "    </tr>\n",
              "  </thead>\n",
              "  <tbody>\n",
              "    <tr>\n",
              "      <th>0</th>\n",
              "      <td>Afghanistan</td>\n",
              "      <td>2020-02-24</td>\n",
              "      <td>5</td>\n",
              "      <td>5</td>\n",
              "      <td>0</td>\n",
              "      <td>0</td>\n",
              "      <td>3</td>\n",
              "      <td>POLYGON ((61.27656 35.60725, 61.29638 35.62853...</td>\n",
              "    </tr>\n",
              "    <tr>\n",
              "      <th>1</th>\n",
              "      <td>Afghanistan</td>\n",
              "      <td>2020-03-07</td>\n",
              "      <td>3</td>\n",
              "      <td>8</td>\n",
              "      <td>0</td>\n",
              "      <td>0</td>\n",
              "      <td>3</td>\n",
              "      <td>POLYGON ((61.27656 35.60725, 61.29638 35.62853...</td>\n",
              "    </tr>\n",
              "  </tbody>\n",
              "</table>\n",
              "</div>"
            ],
            "text/plain": [
              "       Country  ...                                           geometry\n",
              "0  Afghanistan  ...  POLYGON ((61.27656 35.60725, 61.29638 35.62853...\n",
              "1  Afghanistan  ...  POLYGON ((61.27656 35.60725, 61.29638 35.62853...\n",
              "\n",
              "[2 rows x 8 columns]"
            ]
          },
          "metadata": {
            "tags": []
          },
          "execution_count": 163
        }
      ]
    },
    {
      "cell_type": "code",
      "metadata": {
        "id": "Udq_kzWoXY_c",
        "outputId": "532f0a85-2a21-4d96-e416-a561f79489fa",
        "colab": {
          "base_uri": "https://localhost:8080/"
        }
      },
      "source": [
        "joined_df['log_Confirmed'] = np.log10(joined_df['New_cases'])"
      ],
      "execution_count": 164,
      "outputs": [
        {
          "output_type": "stream",
          "text": [
            "/usr/local/lib/python3.6/dist-packages/pandas/core/series.py:726: RuntimeWarning: invalid value encountered in log10\n",
            "  result = getattr(ufunc, method)(*inputs, **kwargs)\n"
          ],
          "name": "stderr"
        }
      ]
    },
    {
      "cell_type": "code",
      "metadata": {
        "id": "JcWI1PxJXgQy"
      },
      "source": [
        "joined_df['date_sec'] = pd.to_datetime(joined_df['Date_reported']).astype(int) / 10**9\n",
        "joined_df['date_sec'] = joined_df['date_sec'].astype(int).astype(str)"
      ],
      "execution_count": 165,
      "outputs": []
    },
    {
      "cell_type": "code",
      "metadata": {
        "id": "pGOHiisZXk8q",
        "outputId": "cc331f8d-e60f-433d-eb85-b1ec7ab76df8",
        "colab": {
          "base_uri": "https://localhost:8080/",
          "height": 111
        }
      },
      "source": [
        "joined_df.head(2)"
      ],
      "execution_count": 166,
      "outputs": [
        {
          "output_type": "execute_result",
          "data": {
            "text/html": [
              "<div>\n",
              "<style scoped>\n",
              "    .dataframe tbody tr th:only-of-type {\n",
              "        vertical-align: middle;\n",
              "    }\n",
              "\n",
              "    .dataframe tbody tr th {\n",
              "        vertical-align: top;\n",
              "    }\n",
              "\n",
              "    .dataframe thead th {\n",
              "        text-align: right;\n",
              "    }\n",
              "</style>\n",
              "<table border=\"1\" class=\"dataframe\">\n",
              "  <thead>\n",
              "    <tr style=\"text-align: right;\">\n",
              "      <th></th>\n",
              "      <th>Country</th>\n",
              "      <th>Date_reported</th>\n",
              "      <th>New_cases</th>\n",
              "      <th>Cumulative_cases</th>\n",
              "      <th>New_deaths</th>\n",
              "      <th>Cumulative_deaths</th>\n",
              "      <th>OBJECTID</th>\n",
              "      <th>geometry</th>\n",
              "      <th>log_Confirmed</th>\n",
              "      <th>date_sec</th>\n",
              "    </tr>\n",
              "  </thead>\n",
              "  <tbody>\n",
              "    <tr>\n",
              "      <th>0</th>\n",
              "      <td>Afghanistan</td>\n",
              "      <td>2020-02-24</td>\n",
              "      <td>5</td>\n",
              "      <td>5</td>\n",
              "      <td>0</td>\n",
              "      <td>0</td>\n",
              "      <td>3</td>\n",
              "      <td>POLYGON ((61.27656 35.60725, 61.29638 35.62853...</td>\n",
              "      <td>0.698970</td>\n",
              "      <td>1582502400</td>\n",
              "    </tr>\n",
              "    <tr>\n",
              "      <th>1</th>\n",
              "      <td>Afghanistan</td>\n",
              "      <td>2020-03-07</td>\n",
              "      <td>3</td>\n",
              "      <td>8</td>\n",
              "      <td>0</td>\n",
              "      <td>0</td>\n",
              "      <td>3</td>\n",
              "      <td>POLYGON ((61.27656 35.60725, 61.29638 35.62853...</td>\n",
              "      <td>0.477121</td>\n",
              "      <td>1583539200</td>\n",
              "    </tr>\n",
              "  </tbody>\n",
              "</table>\n",
              "</div>"
            ],
            "text/plain": [
              "       Country Date_reported  ...  log_Confirmed    date_sec\n",
              "0  Afghanistan    2020-02-24  ...       0.698970  1582502400\n",
              "1  Afghanistan    2020-03-07  ...       0.477121  1583539200\n",
              "\n",
              "[2 rows x 10 columns]"
            ]
          },
          "metadata": {
            "tags": []
          },
          "execution_count": 166
        }
      ]
    },
    {
      "cell_type": "code",
      "metadata": {
        "id": "ps4cR2OpXqR7",
        "outputId": "62e0043d-6fef-4843-bce1-24b563f55aae",
        "colab": {
          "base_uri": "https://localhost:8080/",
          "height": 111
        }
      },
      "source": [
        "joined_df = joined_df[['Country', 'date_sec', 'log_Confirmed', 'geometry']]\n",
        "joined_df.head(2)"
      ],
      "execution_count": 167,
      "outputs": [
        {
          "output_type": "execute_result",
          "data": {
            "text/html": [
              "<div>\n",
              "<style scoped>\n",
              "    .dataframe tbody tr th:only-of-type {\n",
              "        vertical-align: middle;\n",
              "    }\n",
              "\n",
              "    .dataframe tbody tr th {\n",
              "        vertical-align: top;\n",
              "    }\n",
              "\n",
              "    .dataframe thead th {\n",
              "        text-align: right;\n",
              "    }\n",
              "</style>\n",
              "<table border=\"1\" class=\"dataframe\">\n",
              "  <thead>\n",
              "    <tr style=\"text-align: right;\">\n",
              "      <th></th>\n",
              "      <th>Country</th>\n",
              "      <th>date_sec</th>\n",
              "      <th>log_Confirmed</th>\n",
              "      <th>geometry</th>\n",
              "    </tr>\n",
              "  </thead>\n",
              "  <tbody>\n",
              "    <tr>\n",
              "      <th>0</th>\n",
              "      <td>Afghanistan</td>\n",
              "      <td>1582502400</td>\n",
              "      <td>0.698970</td>\n",
              "      <td>POLYGON ((61.27656 35.60725, 61.29638 35.62853...</td>\n",
              "    </tr>\n",
              "    <tr>\n",
              "      <th>1</th>\n",
              "      <td>Afghanistan</td>\n",
              "      <td>1583539200</td>\n",
              "      <td>0.477121</td>\n",
              "      <td>POLYGON ((61.27656 35.60725, 61.29638 35.62853...</td>\n",
              "    </tr>\n",
              "  </tbody>\n",
              "</table>\n",
              "</div>"
            ],
            "text/plain": [
              "       Country  ...                                           geometry\n",
              "0  Afghanistan  ...  POLYGON ((61.27656 35.60725, 61.29638 35.62853...\n",
              "1  Afghanistan  ...  POLYGON ((61.27656 35.60725, 61.29638 35.62853...\n",
              "\n",
              "[2 rows x 4 columns]"
            ]
          },
          "metadata": {
            "tags": []
          },
          "execution_count": 167
        }
      ]
    },
    {
      "cell_type": "code",
      "metadata": {
        "id": "FH5F3CQRiN96"
      },
      "source": [
        "joined_df = joined_df.dropna()"
      ],
      "execution_count": 168,
      "outputs": []
    },
    {
      "cell_type": "code",
      "metadata": {
        "id": "7cYREKviYne5"
      },
      "source": [
        "max_colour = max(joined_df['log_Confirmed'])\n",
        "min_colour = min(joined_df['log_Confirmed'])\n",
        "cmap = cm.linear.YlOrRd_09.scale(min_colour, max_colour)\n",
        "cmap\n",
        "joined_df['colour'] = joined_df['log_Confirmed'].map(cmap)"
      ],
      "execution_count": 169,
      "outputs": []
    },
    {
      "cell_type": "code",
      "metadata": {
        "id": "mHNIsX3Dh7oB"
      },
      "source": [
        "country_list = joined_df['Country'].unique().tolist()\n",
        "country_idx = range(len(country_list))\n",
        "\n",
        "style_dict = {}\n",
        "for i in country_idx:\n",
        "    country = country_list[i]\n",
        "    result = joined_df[joined_df['Country'] == country]\n",
        "    inner_dict = {}\n",
        "    for _, r in result.iterrows():\n",
        "        inner_dict[r['date_sec']] = {'color': r['colour'], 'opacity': 0.7}\n",
        "    style_dict[str(i)] = inner_dict"
      ],
      "execution_count": 170,
      "outputs": []
    },
    {
      "cell_type": "code",
      "metadata": {
        "id": "sUkZgGOBiuQz"
      },
      "source": [
        "countries_df = joined_df[['geometry']]\n",
        "countries_gdf = gpd.GeoDataFrame(countries_df)\n",
        "countries_gdf = countries_gdf.drop_duplicates().reset_index()"
      ],
      "execution_count": 171,
      "outputs": []
    },
    {
      "cell_type": "code",
      "metadata": {
        "id": "s7ij_NzJix5u"
      },
      "source": [
        "from folium.plugins import TimeSliderChoropleth\n",
        "\n",
        "slider_map = folium.Map(min_zoom=2, max_bounds=True,tiles='cartodbpositron')\n",
        "\n",
        "_ = TimeSliderChoropleth(\n",
        "    data=countries_gdf.to_json(),\n",
        "    styledict=style_dict,\n",
        "\n",
        ").add_to(slider_map)\n",
        "\n",
        "_ = cmap.add_to(slider_map)\n",
        "cmap.caption = \"Log of number of confirmed cases\"\n",
        "slider_map.save(outfile='Whole_Country.html')"
      ],
      "execution_count": 172,
      "outputs": []
    },
    {
      "cell_type": "code",
      "metadata": {
        "id": "Q_EWGLmQ7FT3",
        "outputId": "2f6b942d-dfcb-4744-a658-65e75fe1dec4",
        "colab": {
          "base_uri": "https://localhost:8080/",
          "height": 111
        }
      },
      "source": [
        "# Country Code\n",
        "code = pd.read_csv('wikipedia-iso-country-codes.csv', usecols=['English short name lower case', 'Alpha-2 code'])\n",
        "code.columns = ['국가', '국가코드']\n",
        "code.head(2)"
      ],
      "execution_count": 174,
      "outputs": [
        {
          "output_type": "execute_result",
          "data": {
            "text/html": [
              "<div>\n",
              "<style scoped>\n",
              "    .dataframe tbody tr th:only-of-type {\n",
              "        vertical-align: middle;\n",
              "    }\n",
              "\n",
              "    .dataframe tbody tr th {\n",
              "        vertical-align: top;\n",
              "    }\n",
              "\n",
              "    .dataframe thead th {\n",
              "        text-align: right;\n",
              "    }\n",
              "</style>\n",
              "<table border=\"1\" class=\"dataframe\">\n",
              "  <thead>\n",
              "    <tr style=\"text-align: right;\">\n",
              "      <th></th>\n",
              "      <th>국가</th>\n",
              "      <th>국가코드</th>\n",
              "    </tr>\n",
              "  </thead>\n",
              "  <tbody>\n",
              "    <tr>\n",
              "      <th>0</th>\n",
              "      <td>Afghanistan</td>\n",
              "      <td>AF</td>\n",
              "    </tr>\n",
              "    <tr>\n",
              "      <th>1</th>\n",
              "      <td>Åland Islands</td>\n",
              "      <td>AX</td>\n",
              "    </tr>\n",
              "  </tbody>\n",
              "</table>\n",
              "</div>"
            ],
            "text/plain": [
              "              국가 국가코드\n",
              "0    Afghanistan   AF\n",
              "1  Åland Islands   AX"
            ]
          },
          "metadata": {
            "tags": []
          },
          "execution_count": 174
        }
      ]
    },
    {
      "cell_type": "code",
      "metadata": {
        "id": "0NAOcAPt7X9b"
      },
      "source": [
        "# Country 이름\n",
        "mean_test = mean_test.merge(code, on = '국가코드')"
      ],
      "execution_count": 175,
      "outputs": []
    },
    {
      "cell_type": "code",
      "metadata": {
        "id": "gc2Tb89_dqQY",
        "outputId": "edebd361-f223-4081-a6db-018681de2cb5",
        "colab": {
          "base_uri": "https://localhost:8080/",
          "height": 235
        }
      },
      "source": [
        "mean_test.loc[mean_test['군집'] == 0]"
      ],
      "execution_count": 177,
      "outputs": [
        {
          "output_type": "execute_result",
          "data": {
            "text/html": [
              "<div>\n",
              "<style scoped>\n",
              "    .dataframe tbody tr th:only-of-type {\n",
              "        vertical-align: middle;\n",
              "    }\n",
              "\n",
              "    .dataframe tbody tr th {\n",
              "        vertical-align: top;\n",
              "    }\n",
              "\n",
              "    .dataframe thead th {\n",
              "        text-align: right;\n",
              "    }\n",
              "</style>\n",
              "<table border=\"1\" class=\"dataframe\">\n",
              "  <thead>\n",
              "    <tr style=\"text-align: right;\">\n",
              "      <th></th>\n",
              "      <th>국가코드</th>\n",
              "      <th>개방성</th>\n",
              "      <th>성실성</th>\n",
              "      <th>외향성</th>\n",
              "      <th>우호성</th>\n",
              "      <th>안정성</th>\n",
              "      <th>군집</th>\n",
              "      <th>국가</th>\n",
              "    </tr>\n",
              "  </thead>\n",
              "  <tbody>\n",
              "    <tr>\n",
              "      <th>4</th>\n",
              "      <td>IS</td>\n",
              "      <td>39.057728</td>\n",
              "      <td>32.614525</td>\n",
              "      <td>30.225326</td>\n",
              "      <td>37.696462</td>\n",
              "      <td>30.463687</td>\n",
              "      <td>0</td>\n",
              "      <td>Iceland</td>\n",
              "    </tr>\n",
              "    <tr>\n",
              "      <th>5</th>\n",
              "      <td>LB</td>\n",
              "      <td>38.235465</td>\n",
              "      <td>34.341570</td>\n",
              "      <td>30.559593</td>\n",
              "      <td>37.918605</td>\n",
              "      <td>31.257267</td>\n",
              "      <td>0</td>\n",
              "      <td>Lebanon</td>\n",
              "    </tr>\n",
              "    <tr>\n",
              "      <th>6</th>\n",
              "      <td>LK</td>\n",
              "      <td>36.939114</td>\n",
              "      <td>34.247232</td>\n",
              "      <td>30.289668</td>\n",
              "      <td>37.566421</td>\n",
              "      <td>31.051661</td>\n",
              "      <td>0</td>\n",
              "      <td>Sri Lanka</td>\n",
              "    </tr>\n",
              "    <tr>\n",
              "      <th>8</th>\n",
              "      <td>NG</td>\n",
              "      <td>39.150721</td>\n",
              "      <td>36.436435</td>\n",
              "      <td>28.460026</td>\n",
              "      <td>39.263434</td>\n",
              "      <td>29.598952</td>\n",
              "      <td>0</td>\n",
              "      <td>Nigeria</td>\n",
              "    </tr>\n",
              "    <tr>\n",
              "      <th>9</th>\n",
              "      <td>PR</td>\n",
              "      <td>39.487078</td>\n",
              "      <td>33.304175</td>\n",
              "      <td>28.642147</td>\n",
              "      <td>37.194831</td>\n",
              "      <td>31.163022</td>\n",
              "      <td>0</td>\n",
              "      <td>Puerto Rico</td>\n",
              "    </tr>\n",
              "    <tr>\n",
              "      <th>13</th>\n",
              "      <td>TW</td>\n",
              "      <td>37.929382</td>\n",
              "      <td>32.440101</td>\n",
              "      <td>29.620429</td>\n",
              "      <td>37.263556</td>\n",
              "      <td>30.815889</td>\n",
              "      <td>0</td>\n",
              "      <td>Taiwan</td>\n",
              "    </tr>\n",
              "  </tbody>\n",
              "</table>\n",
              "</div>"
            ],
            "text/plain": [
              "   국가코드        개방성        성실성        외향성        우호성        안정성  군집           국가\n",
              "4    IS  39.057728  32.614525  30.225326  37.696462  30.463687   0      Iceland\n",
              "5    LB  38.235465  34.341570  30.559593  37.918605  31.257267   0      Lebanon\n",
              "6    LK  36.939114  34.247232  30.289668  37.566421  31.051661   0    Sri Lanka\n",
              "8    NG  39.150721  36.436435  28.460026  39.263434  29.598952   0      Nigeria\n",
              "9    PR  39.487078  33.304175  28.642147  37.194831  31.163022   0  Puerto Rico\n",
              "13   TW  37.929382  32.440101  29.620429  37.263556  30.815889   0       Taiwan"
            ]
          },
          "metadata": {
            "tags": []
          },
          "execution_count": 177
        }
      ]
    },
    {
      "cell_type": "code",
      "metadata": {
        "id": "RWxfJQJdrVEs",
        "outputId": "880d0baa-c253-433e-b712-3ae00cd405c8",
        "colab": {
          "base_uri": "https://localhost:8080/",
          "height": 111
        }
      },
      "source": [
        "# 확진자수가 가장많은 분류군\n",
        "many_countries = mean_test.loc[mean_test['군집'] == train_res.iloc[0, 0]]['국가'].unique().tolist()\n",
        "df_many = joined_df.loc[joined_df.Country.isin(many_countries)].reset_index(drop=True)\n",
        "df_many.head(2)"
      ],
      "execution_count": 186,
      "outputs": [
        {
          "output_type": "execute_result",
          "data": {
            "text/html": [
              "<div>\n",
              "<style scoped>\n",
              "    .dataframe tbody tr th:only-of-type {\n",
              "        vertical-align: middle;\n",
              "    }\n",
              "\n",
              "    .dataframe tbody tr th {\n",
              "        vertical-align: top;\n",
              "    }\n",
              "\n",
              "    .dataframe thead th {\n",
              "        text-align: right;\n",
              "    }\n",
              "</style>\n",
              "<table border=\"1\" class=\"dataframe\">\n",
              "  <thead>\n",
              "    <tr style=\"text-align: right;\">\n",
              "      <th></th>\n",
              "      <th>Country</th>\n",
              "      <th>date_sec</th>\n",
              "      <th>log_Confirmed</th>\n",
              "      <th>geometry</th>\n",
              "      <th>colour</th>\n",
              "    </tr>\n",
              "  </thead>\n",
              "  <tbody>\n",
              "    <tr>\n",
              "      <th>0</th>\n",
              "      <td>Costa Rica</td>\n",
              "      <td>1583625600</td>\n",
              "      <td>0.954243</td>\n",
              "      <td>POLYGON ((-82.93047 9.06312, -82.88223 9.06722...</td>\n",
              "      <td>#ffe38aff</td>\n",
              "    </tr>\n",
              "    <tr>\n",
              "      <th>1</th>\n",
              "      <td>Costa Rica</td>\n",
              "      <td>1583712000</td>\n",
              "      <td>0.602060</td>\n",
              "      <td>POLYGON ((-82.93047 9.06312, -82.88223 9.06722...</td>\n",
              "      <td>#ffeea2ff</td>\n",
              "    </tr>\n",
              "  </tbody>\n",
              "</table>\n",
              "</div>"
            ],
            "text/plain": [
              "      Country  ...     colour\n",
              "0  Costa Rica  ...  #ffe38aff\n",
              "1  Costa Rica  ...  #ffeea2ff\n",
              "\n",
              "[2 rows x 5 columns]"
            ]
          },
          "metadata": {
            "tags": []
          },
          "execution_count": 186
        }
      ]
    },
    {
      "cell_type": "code",
      "metadata": {
        "id": "3fUfjnGLLmXE",
        "outputId": "1f9b84e5-5821-4930-f165-3358ac2044c3",
        "colab": {
          "base_uri": "https://localhost:8080/"
        }
      },
      "source": [
        "print(many_countries)"
      ],
      "execution_count": 187,
      "outputs": [
        {
          "output_type": "stream",
          "text": [
            "['Costa Rica', 'Ecuador', 'Estonia', 'Egypt', 'Lithuania', 'Saudi Arabia', 'Slovenia', 'Slovakia', 'Ukraine', 'Venezuela']\n"
          ],
          "name": "stdout"
        }
      ]
    },
    {
      "cell_type": "code",
      "metadata": {
        "id": "76Lkc--EsF3k"
      },
      "source": [
        "max_colour = max(joined_df['log_Confirmed'])\n",
        "min_colour = min(joined_df['log_Confirmed'])\n",
        "cmap = cm.linear.YlOrRd_09.scale(min_colour, max_colour)\n",
        "cmap\n",
        "df_many['colour'] = df_many['log_Confirmed'].map(cmap)"
      ],
      "execution_count": 188,
      "outputs": []
    },
    {
      "cell_type": "code",
      "metadata": {
        "id": "CLKcjBzOsL3U"
      },
      "source": [
        "country_list = df_many['Country'].unique().tolist()\n",
        "country_idx = range(len(country_list))\n",
        "\n",
        "style_dict = {}\n",
        "for i in country_idx:\n",
        "    country = country_list[i]\n",
        "    result = joined_df[joined_df['Country'] == country]\n",
        "    inner_dict = {}\n",
        "    for _, r in result.iterrows():\n",
        "        inner_dict[r['date_sec']] = {'color': r['colour'], 'opacity': 0.7}\n",
        "    style_dict[str(i)] = inner_dict"
      ],
      "execution_count": 189,
      "outputs": []
    },
    {
      "cell_type": "code",
      "metadata": {
        "id": "pL0HaL20sPTC"
      },
      "source": [
        "countries_df = df_many[['geometry']]\n",
        "countries_gdf = gpd.GeoDataFrame(countries_df)\n",
        "countries_gdf = countries_gdf.drop_duplicates().reset_index()"
      ],
      "execution_count": 190,
      "outputs": []
    },
    {
      "cell_type": "code",
      "metadata": {
        "id": "azkC_rjssSOL"
      },
      "source": [
        "from folium.plugins import TimeSliderChoropleth\n",
        "\n",
        "slider_map = folium.Map(min_zoom=2, max_bounds=True,tiles='cartodbpositron')\n",
        "\n",
        "_ = TimeSliderChoropleth(\n",
        "    data=countries_gdf.to_json(),\n",
        "    styledict=style_dict,\n",
        "\n",
        ").add_to(slider_map)\n",
        "\n",
        "_ = cmap.add_to(slider_map)\n",
        "cmap.caption = \"Log of number of confirmed cases\"\n",
        "slider_map.save(outfile='Many.html')"
      ],
      "execution_count": 191,
      "outputs": []
    },
    {
      "cell_type": "code",
      "metadata": {
        "id": "Nhqo5U8Ot3f_",
        "outputId": "16557194-f60c-4a37-b5e7-e1162591c118",
        "colab": {
          "base_uri": "https://localhost:8080/",
          "height": 111
        }
      },
      "source": [
        "# 확진자수가 적은 분류군\n",
        "less_countries = mean_test.loc[mean_test['군집'] == train_res.iloc[1, 0]]['국가'].unique().tolist()\n",
        "df_less = joined_df.loc[joined_df.Country.isin(less_countries)].reset_index(drop=True)\n",
        "df_less.head(2)\n"
      ],
      "execution_count": 192,
      "outputs": [
        {
          "output_type": "execute_result",
          "data": {
            "text/html": [
              "<div>\n",
              "<style scoped>\n",
              "    .dataframe tbody tr th:only-of-type {\n",
              "        vertical-align: middle;\n",
              "    }\n",
              "\n",
              "    .dataframe tbody tr th {\n",
              "        vertical-align: top;\n",
              "    }\n",
              "\n",
              "    .dataframe thead th {\n",
              "        text-align: right;\n",
              "    }\n",
              "</style>\n",
              "<table border=\"1\" class=\"dataframe\">\n",
              "  <thead>\n",
              "    <tr style=\"text-align: right;\">\n",
              "      <th></th>\n",
              "      <th>Country</th>\n",
              "      <th>date_sec</th>\n",
              "      <th>log_Confirmed</th>\n",
              "      <th>geometry</th>\n",
              "      <th>colour</th>\n",
              "    </tr>\n",
              "  </thead>\n",
              "  <tbody>\n",
              "    <tr>\n",
              "      <th>0</th>\n",
              "      <td>Iceland</td>\n",
              "      <td>1583020800</td>\n",
              "      <td>0.778151</td>\n",
              "      <td>POLYGON ((-22.02472 64.41888, -22.02444 64.443...</td>\n",
              "      <td>#ffe896ff</td>\n",
              "    </tr>\n",
              "    <tr>\n",
              "      <th>1</th>\n",
              "      <td>Iceland</td>\n",
              "      <td>1583107200</td>\n",
              "      <td>0.845098</td>\n",
              "      <td>POLYGON ((-22.02472 64.41888, -22.02444 64.443...</td>\n",
              "      <td>#ffe691ff</td>\n",
              "    </tr>\n",
              "  </tbody>\n",
              "</table>\n",
              "</div>"
            ],
            "text/plain": [
              "   Country  ...     colour\n",
              "0  Iceland  ...  #ffe896ff\n",
              "1  Iceland  ...  #ffe691ff\n",
              "\n",
              "[2 rows x 5 columns]"
            ]
          },
          "metadata": {
            "tags": []
          },
          "execution_count": 192
        }
      ]
    },
    {
      "cell_type": "code",
      "metadata": {
        "id": "YPGN94xnuDIC"
      },
      "source": [
        "max_colour = max(joined_df['log_Confirmed'])\n",
        "min_colour = min(joined_df['log_Confirmed'])\n",
        "cmap = cm.linear.YlOrRd_09.scale(min_colour, max_colour)\n",
        "cmap\n",
        "df_less['colour'] = df_less['log_Confirmed'].map(cmap)\n",
        "country_list = df_less['Country'].unique().tolist()\n",
        "country_idx = range(len(country_list))\n",
        "\n",
        "style_dict = {}\n",
        "for i in country_idx:\n",
        "    country = country_list[i]\n",
        "    result = joined_df[joined_df['Country'] == country]\n",
        "    inner_dict = {}\n",
        "    for _, r in result.iterrows():\n",
        "        inner_dict[r['date_sec']] = {'color': r['colour'], 'opacity': 0.7}\n",
        "    style_dict[str(i)] = inner_dict"
      ],
      "execution_count": 193,
      "outputs": []
    },
    {
      "cell_type": "code",
      "metadata": {
        "id": "5Lcwfu3NuIRd"
      },
      "source": [
        "countries_df = df_less[['geometry']]\n",
        "countries_gdf = gpd.GeoDataFrame(countries_df)\n",
        "countries_gdf = countries_gdf.drop_duplicates().reset_index()\n",
        "from folium.plugins import TimeSliderChoropleth\n",
        "\n",
        "slider_map = folium.Map(min_zoom=2, max_bounds=True,tiles='cartodbpositron')\n",
        "\n",
        "_ = TimeSliderChoropleth(\n",
        "    data=countries_gdf.to_json(),\n",
        "    styledict=style_dict,\n",
        "\n",
        ").add_to(slider_map)\n",
        "\n",
        "_ = cmap.add_to(slider_map)\n",
        "cmap.caption = \"Log of number of confirmed cases\"\n",
        "slider_map.save(outfile='Less.html')"
      ],
      "execution_count": 194,
      "outputs": []
    },
    {
      "cell_type": "code",
      "metadata": {
        "id": "AkVG8DOIrsBK",
        "outputId": "5a22348f-0c50-4fd3-a72f-daedb33661e8",
        "colab": {
          "base_uri": "https://localhost:8080/",
          "height": 743
        }
      },
      "source": [
        "# 한국 성격테스트 결과\n",
        "fig, ax = plt.subplots(figsize=(16, 6))\n",
        "traits = {\n",
        "    'OPN': '개방성',\n",
        "    'CSN': '성실성',\n",
        "    'EXT': '외향성',\n",
        "    'AGR': '친화성',\n",
        "    'EST': '안정성'\n",
        "}\n",
        "\n",
        "mean_OPN = np.mean(df_traits[df_traits['country'] == 'KR']['OPN'])\n",
        "mean_AGR = np.mean(df_traits[df_traits['country'] == 'KR']['AGR'])                  \n",
        "\n",
        "for trait in traits.keys():\n",
        "  if trait in ['OPN']:\n",
        "    sns.distplot(df_traits[df_traits['country'] == 'KR'][trait], bins=40, axlabel=False, hist = False, color = '#00A4CCFF')\n",
        "  elif trait in ['AGR']:\n",
        "    sns.distplot(df_traits[df_traits['country'] == 'KR'][trait], bins=40, axlabel=False, hist = False, color = '#F95700FF')\n",
        "  else:\n",
        "    sns.distplot(df_traits[df_traits['country'] == 'KR'][trait], bins=40, axlabel=False, hist = False, color='dimgray')\n",
        "\n",
        "plt.vlines(x=mean_OPN, ymin = 0, ymax=0.06, colors='#00A4CCFF', linestyles='dashed')   \n",
        "\n",
        "plt.vlines(x=mean_AGR, ymin = 0, ymax=0.06, colors='#F95700FF', linestyles='dashed')   \n",
        "\n",
        "for spine in ax.spines.values():\n",
        "    spine.set_visible(False)\n",
        "\n",
        "plt.annotate('개방성  '+ str(round(mean_OPN, 2)), xy=(mean_OPN, 0.06), xytext = (mean_OPN+3, 0.06), fontsize=14, ha='center', color = '#00A4CCFF') \n",
        "plt.annotate( str(round(mean_AGR, 2)) + '  우호성', xy=(mean_AGR, 0.06), xytext = (mean_AGR-3, 0.06), fontsize=14, ha='center', color = '#F95700FF')  \n",
        "\n",
        "plt.title('한국인의 성격 테스트 결과', loc='left', fontsize = 15)\n",
        "\n",
        "plt.ylabel(\"\")"
      ],
      "execution_count": null,
      "outputs": [
        {
          "output_type": "error",
          "ename": "NameError",
          "evalue": "ignored",
          "traceback": [
            "\u001b[0;31m---------------------------------------------------------------------------\u001b[0m",
            "\u001b[0;31mNameError\u001b[0m                                 Traceback (most recent call last)",
            "\u001b[0;32m<ipython-input-276-6c1017998762>\u001b[0m in \u001b[0;36m<module>\u001b[0;34m()\u001b[0m\n\u001b[1;32m      9\u001b[0m }\n\u001b[1;32m     10\u001b[0m \u001b[0;34m\u001b[0m\u001b[0m\n\u001b[0;32m---> 11\u001b[0;31m \u001b[0mmean_OPN\u001b[0m \u001b[0;34m=\u001b[0m \u001b[0mnp\u001b[0m\u001b[0;34m.\u001b[0m\u001b[0mmean\u001b[0m\u001b[0;34m(\u001b[0m\u001b[0mdf_traits\u001b[0m\u001b[0;34m[\u001b[0m\u001b[0mdf_traits\u001b[0m\u001b[0;34m[\u001b[0m\u001b[0;34m'country'\u001b[0m\u001b[0;34m]\u001b[0m \u001b[0;34m==\u001b[0m \u001b[0;34m'KR'\u001b[0m\u001b[0;34m]\u001b[0m\u001b[0;34m[\u001b[0m\u001b[0;34m'OPN'\u001b[0m\u001b[0;34m]\u001b[0m\u001b[0;34m)\u001b[0m\u001b[0;34m\u001b[0m\u001b[0;34m\u001b[0m\u001b[0m\n\u001b[0m\u001b[1;32m     12\u001b[0m \u001b[0mmean_AGR\u001b[0m \u001b[0;34m=\u001b[0m \u001b[0mnp\u001b[0m\u001b[0;34m.\u001b[0m\u001b[0mmean\u001b[0m\u001b[0;34m(\u001b[0m\u001b[0mdf_traits\u001b[0m\u001b[0;34m[\u001b[0m\u001b[0mdf_traits\u001b[0m\u001b[0;34m[\u001b[0m\u001b[0;34m'country'\u001b[0m\u001b[0;34m]\u001b[0m \u001b[0;34m==\u001b[0m \u001b[0;34m'KR'\u001b[0m\u001b[0;34m]\u001b[0m\u001b[0;34m[\u001b[0m\u001b[0;34m'AGR'\u001b[0m\u001b[0;34m]\u001b[0m\u001b[0;34m)\u001b[0m\u001b[0;34m\u001b[0m\u001b[0;34m\u001b[0m\u001b[0m\n\u001b[1;32m     13\u001b[0m \u001b[0;34m\u001b[0m\u001b[0m\n",
            "\u001b[0;31mNameError\u001b[0m: name 'df_traits' is not defined"
          ]
        },
        {
          "output_type": "display_data",
          "data": {
            "image/png": "[encoded data removed]",
            "text/plain": [
              "<Figure size 1600x600 with 1 Axes>"
            ]
          },
          "metadata": {
            "tags": []
          }
        }
      ]
    }
  ]
}