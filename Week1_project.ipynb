{
  "nbformat": 4,
  "nbformat_minor": 0,
  "metadata": {
    "colab": {
      "name": "Week1_project.ipynb",
      "provenance": [],
      "collapsed_sections": [],
      "authorship_tag": "ABX9TyP7mY4+o4Lv0aw24vibJOrA",
      "include_colab_link": true
    },
    "kernelspec": {
      "name": "python3",
      "display_name": "Python 3"
    }
  },
  "cells": [
    {
      "cell_type": "markdown",
      "metadata": {
        "id": "view-in-github",
        "colab_type": "text"
      },
      "source": [
        "<a href=\"https://colab.research.google.com/github/jingwoo4710/2020_project/blob/main/Week1_project.ipynb\" target=\"_parent\"><img src=\"https://colab.research.google.com/assets/colab-badge.svg\" alt=\"Open In Colab\"/></a>"
      ]
    },
    {
      "cell_type": "code",
      "metadata": {
        "id": "57UbGJj8TXWm"
      },
      "source": [
        "## geopandas 설치\n",
        "# Important library for many geopython libraries\n",
        "!apt install gdal-bin python-gdal python3-gdal \n",
        "# Install rtree - Geopandas requirment\n",
        "!apt install python3-rtree \n",
        "# Install Geopandas\n",
        "!pip install git+git://github.com/geopandas/geopandas.git\n",
        "# Install descartes - Geopandas requirment\n",
        "!pip install descartes \n",
        "# Install Folium for Geographic data visualization\n",
        "!pip install folium\n",
        "# Install plotlyExpress\n",
        "!pip install plotly_express"
      ],
      "execution_count": null,
      "outputs": []
    },
    {
      "cell_type": "code",
      "metadata": {
        "id": "fNk1RoR0B3pf"
      },
      "source": [
        "#Library\n",
        "import pandas as pd\n",
        "import numpy as np\n",
        "import matplotlib.pyplot as plt\n",
        "import seaborn as sns\n",
        "from sklearn.cluster import KMeans \n",
        "from sklearn.decomposition import PCA\n",
        "from sklearn.preprocessing import StandardScaler\n",
        "from scipy.stats import pearsonr, spearmanr\n",
        "import branca.colormap as cm\n",
        "import folium\n",
        "import geopandas as gpd\n",
        "\n",
        "plt.style.use('dark_background')"
      ],
      "execution_count": 3,
      "outputs": []
    },
    {
      "cell_type": "code",
      "metadata": {
        "id": "Ba4Ux-iR9y_Y"
      },
      "source": [
        "# Fucntion \n",
        "def summing_axis (df):\n",
        "  traits = ['OPN','CSN','EXT','AGR','EST']\n",
        "  for trait in traits:\n",
        "    df[trait] = df[[col for col in df.columns if trait in col]].sum(axis = 1)\n",
        "  return df[traits+['country']]\n",
        "  "
      ],
      "execution_count": 2,
      "outputs": []
    },
    {
      "cell_type": "code",
      "metadata": {
        "id": "8sqhKXYCCZIs"
      },
      "source": [
        "# COVID19 Data Import\n",
        "corona_df = pd.read_csv('WHO-COVID-19-global-data.csv')"
      ],
      "execution_count": 4,
      "outputs": []
    },
    {
      "cell_type": "code",
      "metadata": {
        "id": "sCy8m_geCjGd",
        "outputId": "c9def3fe-7bb2-4e4f-e8d7-552a4d4a2e50",
        "colab": {
          "base_uri": "https://localhost:8080/",
          "height": 111
        }
      },
      "source": [
        "# Header 확인\n",
        "corona_df.head(2)"
      ],
      "execution_count": 5,
      "outputs": [
        {
          "output_type": "execute_result",
          "data": {
            "text/html": [
              "<div>\n",
              "<style scoped>\n",
              "    .dataframe tbody tr th:only-of-type {\n",
              "        vertical-align: middle;\n",
              "    }\n",
              "\n",
              "    .dataframe tbody tr th {\n",
              "        vertical-align: top;\n",
              "    }\n",
              "\n",
              "    .dataframe thead th {\n",
              "        text-align: right;\n",
              "    }\n",
              "</style>\n",
              "<table border=\"1\" class=\"dataframe\">\n",
              "  <thead>\n",
              "    <tr style=\"text-align: right;\">\n",
              "      <th></th>\n",
              "      <th>Date_reported</th>\n",
              "      <th>Country_code</th>\n",
              "      <th>Country</th>\n",
              "      <th>WHO_region</th>\n",
              "      <th>New_cases</th>\n",
              "      <th>Cumulative_cases</th>\n",
              "      <th>New_deaths</th>\n",
              "      <th>Cumulative_deaths</th>\n",
              "    </tr>\n",
              "  </thead>\n",
              "  <tbody>\n",
              "    <tr>\n",
              "      <th>0</th>\n",
              "      <td>2020-01-03</td>\n",
              "      <td>AF</td>\n",
              "      <td>Afghanistan</td>\n",
              "      <td>EMRO</td>\n",
              "      <td>0</td>\n",
              "      <td>0</td>\n",
              "      <td>0</td>\n",
              "      <td>0</td>\n",
              "    </tr>\n",
              "    <tr>\n",
              "      <th>1</th>\n",
              "      <td>2020-01-04</td>\n",
              "      <td>AF</td>\n",
              "      <td>Afghanistan</td>\n",
              "      <td>EMRO</td>\n",
              "      <td>0</td>\n",
              "      <td>0</td>\n",
              "      <td>0</td>\n",
              "      <td>0</td>\n",
              "    </tr>\n",
              "  </tbody>\n",
              "</table>\n",
              "</div>"
            ],
            "text/plain": [
              "  Date_reported  Country_code  ...  New_deaths  Cumulative_deaths\n",
              "0    2020-01-03            AF  ...           0                  0\n",
              "1    2020-01-04            AF  ...           0                  0\n",
              "\n",
              "[2 rows x 8 columns]"
            ]
          },
          "metadata": {
            "tags": []
          },
          "execution_count": 5
        }
      ]
    },
    {
      "cell_type": "code",
      "metadata": {
        "id": "SfUXgi9E-g1i",
        "outputId": "16810aca-3196-4cab-c49a-338bd4098d11",
        "colab": {
          "base_uri": "https://localhost:8080/",
          "height": 111
        }
      },
      "source": [
        "# header 공백 제거\n",
        "cols = corona_df.columns.to_list()\n",
        "corona_df.columns = [element.strip() for element in cols]\n",
        "corona_df.head(2)"
      ],
      "execution_count": 6,
      "outputs": [
        {
          "output_type": "execute_result",
          "data": {
            "text/html": [
              "<div>\n",
              "<style scoped>\n",
              "    .dataframe tbody tr th:only-of-type {\n",
              "        vertical-align: middle;\n",
              "    }\n",
              "\n",
              "    .dataframe tbody tr th {\n",
              "        vertical-align: top;\n",
              "    }\n",
              "\n",
              "    .dataframe thead th {\n",
              "        text-align: right;\n",
              "    }\n",
              "</style>\n",
              "<table border=\"1\" class=\"dataframe\">\n",
              "  <thead>\n",
              "    <tr style=\"text-align: right;\">\n",
              "      <th></th>\n",
              "      <th>Date_reported</th>\n",
              "      <th>Country_code</th>\n",
              "      <th>Country</th>\n",
              "      <th>WHO_region</th>\n",
              "      <th>New_cases</th>\n",
              "      <th>Cumulative_cases</th>\n",
              "      <th>New_deaths</th>\n",
              "      <th>Cumulative_deaths</th>\n",
              "    </tr>\n",
              "  </thead>\n",
              "  <tbody>\n",
              "    <tr>\n",
              "      <th>0</th>\n",
              "      <td>2020-01-03</td>\n",
              "      <td>AF</td>\n",
              "      <td>Afghanistan</td>\n",
              "      <td>EMRO</td>\n",
              "      <td>0</td>\n",
              "      <td>0</td>\n",
              "      <td>0</td>\n",
              "      <td>0</td>\n",
              "    </tr>\n",
              "    <tr>\n",
              "      <th>1</th>\n",
              "      <td>2020-01-04</td>\n",
              "      <td>AF</td>\n",
              "      <td>Afghanistan</td>\n",
              "      <td>EMRO</td>\n",
              "      <td>0</td>\n",
              "      <td>0</td>\n",
              "      <td>0</td>\n",
              "      <td>0</td>\n",
              "    </tr>\n",
              "  </tbody>\n",
              "</table>\n",
              "</div>"
            ],
            "text/plain": [
              "  Date_reported Country_code  ... New_deaths Cumulative_deaths\n",
              "0    2020-01-03           AF  ...          0                 0\n",
              "1    2020-01-04           AF  ...          0                 0\n",
              "\n",
              "[2 rows x 8 columns]"
            ]
          },
          "metadata": {
            "tags": []
          },
          "execution_count": 6
        }
      ]
    },
    {
      "cell_type": "code",
      "metadata": {
        "id": "SPiUY-LpAGzM",
        "outputId": "9a8c43d0-9a54-41ac-cd92-4b5077bc067b",
        "colab": {
          "base_uri": "https://localhost:8080/",
          "height": 204
        }
      },
      "source": [
        "# 나라별 총 확진자수\n",
        "df_covid = corona_df.groupby(['Country', 'Country_code']).sum().rename_axis(['Country', 'Country_code']).reset_index()\n",
        "df_covid = df_covid.iloc[:,:3]\n",
        "df_covid.head()"
      ],
      "execution_count": 7,
      "outputs": [
        {
          "output_type": "execute_result",
          "data": {
            "text/html": [
              "<div>\n",
              "<style scoped>\n",
              "    .dataframe tbody tr th:only-of-type {\n",
              "        vertical-align: middle;\n",
              "    }\n",
              "\n",
              "    .dataframe tbody tr th {\n",
              "        vertical-align: top;\n",
              "    }\n",
              "\n",
              "    .dataframe thead th {\n",
              "        text-align: right;\n",
              "    }\n",
              "</style>\n",
              "<table border=\"1\" class=\"dataframe\">\n",
              "  <thead>\n",
              "    <tr style=\"text-align: right;\">\n",
              "      <th></th>\n",
              "      <th>Country</th>\n",
              "      <th>Country_code</th>\n",
              "      <th>New_cases</th>\n",
              "    </tr>\n",
              "  </thead>\n",
              "  <tbody>\n",
              "    <tr>\n",
              "      <th>0</th>\n",
              "      <td>Afghanistan</td>\n",
              "      <td>AF</td>\n",
              "      <td>39422</td>\n",
              "    </tr>\n",
              "    <tr>\n",
              "      <th>1</th>\n",
              "      <td>Albania</td>\n",
              "      <td>AL</td>\n",
              "      <td>14410</td>\n",
              "    </tr>\n",
              "    <tr>\n",
              "      <th>2</th>\n",
              "      <td>Algeria</td>\n",
              "      <td>DZ</td>\n",
              "      <td>52270</td>\n",
              "    </tr>\n",
              "    <tr>\n",
              "      <th>3</th>\n",
              "      <td>American Samoa</td>\n",
              "      <td>AS</td>\n",
              "      <td>0</td>\n",
              "    </tr>\n",
              "    <tr>\n",
              "      <th>4</th>\n",
              "      <td>Andorra</td>\n",
              "      <td>AD</td>\n",
              "      <td>2370</td>\n",
              "    </tr>\n",
              "  </tbody>\n",
              "</table>\n",
              "</div>"
            ],
            "text/plain": [
              "          Country Country_code  New_cases\n",
              "0     Afghanistan           AF      39422\n",
              "1         Albania           AL      14410\n",
              "2         Algeria           DZ      52270\n",
              "3  American Samoa           AS          0\n",
              "4         Andorra           AD       2370"
            ]
          },
          "metadata": {
            "tags": []
          },
          "execution_count": 7
        }
      ]
    },
    {
      "cell_type": "code",
      "metadata": {
        "id": "atiLLYeTFWB6"
      },
      "source": [
        "# Big 5 성격테스트에서 Postive 와 Negative 문제 나누기 + 필요한 열 정의\n",
        "pos_questions = [\n",
        "    'OPN1','OPN3','OPN5','OPN7','OPN8','OPN9','OPN10',        # 7 개방성\n",
        "    'CSN1','CSN3','CSN5','CSN7','CSN9','CSN10',               # 6 성실성\n",
        "    'EXT1','EXT3','EXT5','EXT7','EXT9',                       # 5 외향성\n",
        "    'AGR2','AGR4','AGR6','AGR8','AGR9','AGR10',               # 6 친화성\n",
        "    'EST1','EST3','EST5','EST6','EST7','EST8','EST9','EST10', # 8 안정성(신경성)\n",
        "]\n",
        "\n",
        "neg_questions = [\n",
        "    'OPN2','OPN4','OPN6',                # 3 개방성\n",
        "    'CSN2','CSN4','CSN6','CSN8',         # 4 성실성\n",
        "    'EXT2','EXT4','EXT6','EXT8','EXT10', # 5 외향성\n",
        "    'AGR1','AGR3','AGR5','AGR7',         # 4 친화성\n",
        "    'EST2','EST4',                       # 2 안정성(신경성)\n",
        "]\n",
        "\n",
        "use_cols = pos_questions + neg_questions + ['country']"
      ],
      "execution_count": 8,
      "outputs": []
    },
    {
      "cell_type": "code",
      "metadata": {
        "id": "PoS6s5riD0xU"
      },
      "source": [
        "# Big Five Personality Test Import \n",
        "trait = pd.read_csv('data-final.csv', sep = '\\t', usecols=use_cols)"
      ],
      "execution_count": 9,
      "outputs": []
    },
    {
      "cell_type": "code",
      "metadata": {
        "id": "xXX1dDmzEZdg",
        "outputId": "846b72cc-3a1b-41f7-ddc8-ef788093c3df",
        "colab": {
          "base_uri": "https://localhost:8080/"
        }
      },
      "source": [
        "# Header, Size 확인\n",
        "print(trait.head(2))\n",
        "print(trait.size)"
      ],
      "execution_count": 10,
      "outputs": [
        {
          "output_type": "stream",
          "text": [
            "   EXT1  EXT2  EXT3  EXT4  EXT5  EXT6  ...  OPN6  OPN7  OPN8  OPN9  OPN10  country\n",
            "0   4.0   1.0   5.0   2.0   5.0   1.0  ...   1.0   5.0   3.0   4.0    5.0       GB\n",
            "1   3.0   5.0   3.0   4.0   3.0   3.0  ...   1.0   4.0   2.0   5.0    3.0       MY\n",
            "\n",
            "[2 rows x 51 columns]\n",
            "51782391\n"
          ],
          "name": "stdout"
        }
      ]
    },
    {
      "cell_type": "code",
      "metadata": {
        "id": "BHLWkdQ3Ok_C"
      },
      "source": [
        "# 값이 0인 경우 NaN 처리 + 해당 row 삭제\n",
        "trait = trait.replace(0,np.NaN).dropna(axis = 0).reset_index(drop = True)"
      ],
      "execution_count": 11,
      "outputs": []
    },
    {
      "cell_type": "code",
      "metadata": {
        "id": "SdcOslaG83xu"
      },
      "source": [
        "# Country Name이 None 인 경우 삭제\n",
        "i = trait.loc[trait.country == 'NONE'].index\n",
        "trait.drop(i, inplace= True)"
      ],
      "execution_count": 12,
      "outputs": []
    },
    {
      "cell_type": "code",
      "metadata": {
        "id": "oZP2LCiYPnEm",
        "outputId": "dbed4af1-fe46-46ec-aa0e-6fd0816399f1",
        "colab": {
          "base_uri": "https://localhost:8080/",
          "height": 148
        }
      },
      "source": [
        "# 사이즈와 header 확인\n",
        "print(trait.size)\n",
        "trait.head(2)"
      ],
      "execution_count": 13,
      "outputs": [
        {
          "output_type": "stream",
          "text": [
            "43998210\n"
          ],
          "name": "stdout"
        },
        {
          "output_type": "execute_result",
          "data": {
            "text/html": [
              "<div>\n",
              "<style scoped>\n",
              "    .dataframe tbody tr th:only-of-type {\n",
              "        vertical-align: middle;\n",
              "    }\n",
              "\n",
              "    .dataframe tbody tr th {\n",
              "        vertical-align: top;\n",
              "    }\n",
              "\n",
              "    .dataframe thead th {\n",
              "        text-align: right;\n",
              "    }\n",
              "</style>\n",
              "<table border=\"1\" class=\"dataframe\">\n",
              "  <thead>\n",
              "    <tr style=\"text-align: right;\">\n",
              "      <th></th>\n",
              "      <th>EXT1</th>\n",
              "      <th>EXT2</th>\n",
              "      <th>EXT3</th>\n",
              "      <th>EXT4</th>\n",
              "      <th>EXT5</th>\n",
              "      <th>EXT6</th>\n",
              "      <th>EXT7</th>\n",
              "      <th>EXT8</th>\n",
              "      <th>EXT9</th>\n",
              "      <th>EXT10</th>\n",
              "      <th>EST1</th>\n",
              "      <th>EST2</th>\n",
              "      <th>EST3</th>\n",
              "      <th>EST4</th>\n",
              "      <th>EST5</th>\n",
              "      <th>EST6</th>\n",
              "      <th>EST7</th>\n",
              "      <th>EST8</th>\n",
              "      <th>EST9</th>\n",
              "      <th>EST10</th>\n",
              "      <th>AGR1</th>\n",
              "      <th>AGR2</th>\n",
              "      <th>AGR3</th>\n",
              "      <th>AGR4</th>\n",
              "      <th>AGR5</th>\n",
              "      <th>AGR6</th>\n",
              "      <th>AGR7</th>\n",
              "      <th>AGR8</th>\n",
              "      <th>AGR9</th>\n",
              "      <th>AGR10</th>\n",
              "      <th>CSN1</th>\n",
              "      <th>CSN2</th>\n",
              "      <th>CSN3</th>\n",
              "      <th>CSN4</th>\n",
              "      <th>CSN5</th>\n",
              "      <th>CSN6</th>\n",
              "      <th>CSN7</th>\n",
              "      <th>CSN8</th>\n",
              "      <th>CSN9</th>\n",
              "      <th>CSN10</th>\n",
              "      <th>OPN1</th>\n",
              "      <th>OPN2</th>\n",
              "      <th>OPN3</th>\n",
              "      <th>OPN4</th>\n",
              "      <th>OPN5</th>\n",
              "      <th>OPN6</th>\n",
              "      <th>OPN7</th>\n",
              "      <th>OPN8</th>\n",
              "      <th>OPN9</th>\n",
              "      <th>OPN10</th>\n",
              "      <th>country</th>\n",
              "    </tr>\n",
              "  </thead>\n",
              "  <tbody>\n",
              "    <tr>\n",
              "      <th>0</th>\n",
              "      <td>4.0</td>\n",
              "      <td>1.0</td>\n",
              "      <td>5.0</td>\n",
              "      <td>2.0</td>\n",
              "      <td>5.0</td>\n",
              "      <td>1.0</td>\n",
              "      <td>5.0</td>\n",
              "      <td>2.0</td>\n",
              "      <td>4.0</td>\n",
              "      <td>1.0</td>\n",
              "      <td>1.0</td>\n",
              "      <td>4.0</td>\n",
              "      <td>4.0</td>\n",
              "      <td>2.0</td>\n",
              "      <td>2.0</td>\n",
              "      <td>2.0</td>\n",
              "      <td>2.0</td>\n",
              "      <td>2.0</td>\n",
              "      <td>3.0</td>\n",
              "      <td>2.0</td>\n",
              "      <td>2.0</td>\n",
              "      <td>5.0</td>\n",
              "      <td>2.0</td>\n",
              "      <td>4.0</td>\n",
              "      <td>2.0</td>\n",
              "      <td>3.0</td>\n",
              "      <td>2.0</td>\n",
              "      <td>4.0</td>\n",
              "      <td>3.0</td>\n",
              "      <td>4.0</td>\n",
              "      <td>3.0</td>\n",
              "      <td>4.0</td>\n",
              "      <td>3.0</td>\n",
              "      <td>2.0</td>\n",
              "      <td>2.0</td>\n",
              "      <td>4.0</td>\n",
              "      <td>4.0</td>\n",
              "      <td>2.0</td>\n",
              "      <td>4.0</td>\n",
              "      <td>4.0</td>\n",
              "      <td>5.0</td>\n",
              "      <td>1.0</td>\n",
              "      <td>4.0</td>\n",
              "      <td>1.0</td>\n",
              "      <td>4.0</td>\n",
              "      <td>1.0</td>\n",
              "      <td>5.0</td>\n",
              "      <td>3.0</td>\n",
              "      <td>4.0</td>\n",
              "      <td>5.0</td>\n",
              "      <td>GB</td>\n",
              "    </tr>\n",
              "    <tr>\n",
              "      <th>1</th>\n",
              "      <td>3.0</td>\n",
              "      <td>5.0</td>\n",
              "      <td>3.0</td>\n",
              "      <td>4.0</td>\n",
              "      <td>3.0</td>\n",
              "      <td>3.0</td>\n",
              "      <td>2.0</td>\n",
              "      <td>5.0</td>\n",
              "      <td>1.0</td>\n",
              "      <td>5.0</td>\n",
              "      <td>2.0</td>\n",
              "      <td>3.0</td>\n",
              "      <td>4.0</td>\n",
              "      <td>1.0</td>\n",
              "      <td>3.0</td>\n",
              "      <td>1.0</td>\n",
              "      <td>2.0</td>\n",
              "      <td>1.0</td>\n",
              "      <td>3.0</td>\n",
              "      <td>1.0</td>\n",
              "      <td>1.0</td>\n",
              "      <td>4.0</td>\n",
              "      <td>1.0</td>\n",
              "      <td>5.0</td>\n",
              "      <td>1.0</td>\n",
              "      <td>5.0</td>\n",
              "      <td>3.0</td>\n",
              "      <td>4.0</td>\n",
              "      <td>5.0</td>\n",
              "      <td>3.0</td>\n",
              "      <td>3.0</td>\n",
              "      <td>2.0</td>\n",
              "      <td>5.0</td>\n",
              "      <td>3.0</td>\n",
              "      <td>3.0</td>\n",
              "      <td>1.0</td>\n",
              "      <td>3.0</td>\n",
              "      <td>3.0</td>\n",
              "      <td>5.0</td>\n",
              "      <td>3.0</td>\n",
              "      <td>1.0</td>\n",
              "      <td>2.0</td>\n",
              "      <td>4.0</td>\n",
              "      <td>2.0</td>\n",
              "      <td>3.0</td>\n",
              "      <td>1.0</td>\n",
              "      <td>4.0</td>\n",
              "      <td>2.0</td>\n",
              "      <td>5.0</td>\n",
              "      <td>3.0</td>\n",
              "      <td>MY</td>\n",
              "    </tr>\n",
              "  </tbody>\n",
              "</table>\n",
              "</div>"
            ],
            "text/plain": [
              "   EXT1  EXT2  EXT3  EXT4  EXT5  EXT6  ...  OPN6  OPN7  OPN8  OPN9  OPN10  country\n",
              "0   4.0   1.0   5.0   2.0   5.0   1.0  ...   1.0   5.0   3.0   4.0    5.0       GB\n",
              "1   3.0   5.0   3.0   4.0   3.0   3.0  ...   1.0   4.0   2.0   5.0    3.0       MY\n",
              "\n",
              "[2 rows x 51 columns]"
            ]
          },
          "metadata": {
            "tags": []
          },
          "execution_count": 13
        }
      ]
    },
    {
      "cell_type": "code",
      "metadata": {
        "id": "Q4-Ikc4bP55U"
      },
      "source": [
        "# 데이터의 크기가 충분한(= 1000 ) 나라만 추출\n",
        "filtered_countries = pd.DataFrame(data = trait.groupby('country').agg('size').loc[trait.groupby('country').agg('size') > 1000])\n",
        "filtered_countries = filtered_countries.index.to_list()"
      ],
      "execution_count": 14,
      "outputs": []
    },
    {
      "cell_type": "code",
      "metadata": {
        "id": "A0oCHhdGRqbj",
        "outputId": "25f728c3-94dc-4cd3-8fb2-60b8880d9472",
        "colab": {
          "base_uri": "https://localhost:8080/",
          "height": 204
        }
      },
      "source": [
        "# 포함된 나라와 포함되지 않은 나라 분류\n",
        "trait_use = trait.loc[trait.country.isin(filtered_countries)].reset_index()\n",
        "trait_no_use = trait.loc[~trait.country.isin(filtered_countries)].reset_index(drop = True)\n",
        "trait.iloc[:5,:11]"
      ],
      "execution_count": 15,
      "outputs": [
        {
          "output_type": "execute_result",
          "data": {
            "text/html": [
              "<div>\n",
              "<style scoped>\n",
              "    .dataframe tbody tr th:only-of-type {\n",
              "        vertical-align: middle;\n",
              "    }\n",
              "\n",
              "    .dataframe tbody tr th {\n",
              "        vertical-align: top;\n",
              "    }\n",
              "\n",
              "    .dataframe thead th {\n",
              "        text-align: right;\n",
              "    }\n",
              "</style>\n",
              "<table border=\"1\" class=\"dataframe\">\n",
              "  <thead>\n",
              "    <tr style=\"text-align: right;\">\n",
              "      <th></th>\n",
              "      <th>EXT1</th>\n",
              "      <th>EXT2</th>\n",
              "      <th>EXT3</th>\n",
              "      <th>EXT4</th>\n",
              "      <th>EXT5</th>\n",
              "      <th>EXT6</th>\n",
              "      <th>EXT7</th>\n",
              "      <th>EXT8</th>\n",
              "      <th>EXT9</th>\n",
              "      <th>EXT10</th>\n",
              "      <th>EST1</th>\n",
              "    </tr>\n",
              "  </thead>\n",
              "  <tbody>\n",
              "    <tr>\n",
              "      <th>0</th>\n",
              "      <td>4.0</td>\n",
              "      <td>1.0</td>\n",
              "      <td>5.0</td>\n",
              "      <td>2.0</td>\n",
              "      <td>5.0</td>\n",
              "      <td>1.0</td>\n",
              "      <td>5.0</td>\n",
              "      <td>2.0</td>\n",
              "      <td>4.0</td>\n",
              "      <td>1.0</td>\n",
              "      <td>1.0</td>\n",
              "    </tr>\n",
              "    <tr>\n",
              "      <th>1</th>\n",
              "      <td>3.0</td>\n",
              "      <td>5.0</td>\n",
              "      <td>3.0</td>\n",
              "      <td>4.0</td>\n",
              "      <td>3.0</td>\n",
              "      <td>3.0</td>\n",
              "      <td>2.0</td>\n",
              "      <td>5.0</td>\n",
              "      <td>1.0</td>\n",
              "      <td>5.0</td>\n",
              "      <td>2.0</td>\n",
              "    </tr>\n",
              "    <tr>\n",
              "      <th>2</th>\n",
              "      <td>2.0</td>\n",
              "      <td>3.0</td>\n",
              "      <td>4.0</td>\n",
              "      <td>4.0</td>\n",
              "      <td>3.0</td>\n",
              "      <td>2.0</td>\n",
              "      <td>1.0</td>\n",
              "      <td>3.0</td>\n",
              "      <td>2.0</td>\n",
              "      <td>5.0</td>\n",
              "      <td>4.0</td>\n",
              "    </tr>\n",
              "    <tr>\n",
              "      <th>3</th>\n",
              "      <td>2.0</td>\n",
              "      <td>2.0</td>\n",
              "      <td>2.0</td>\n",
              "      <td>3.0</td>\n",
              "      <td>4.0</td>\n",
              "      <td>2.0</td>\n",
              "      <td>2.0</td>\n",
              "      <td>4.0</td>\n",
              "      <td>1.0</td>\n",
              "      <td>4.0</td>\n",
              "      <td>3.0</td>\n",
              "    </tr>\n",
              "    <tr>\n",
              "      <th>4</th>\n",
              "      <td>3.0</td>\n",
              "      <td>3.0</td>\n",
              "      <td>3.0</td>\n",
              "      <td>3.0</td>\n",
              "      <td>5.0</td>\n",
              "      <td>3.0</td>\n",
              "      <td>3.0</td>\n",
              "      <td>5.0</td>\n",
              "      <td>3.0</td>\n",
              "      <td>4.0</td>\n",
              "      <td>1.0</td>\n",
              "    </tr>\n",
              "  </tbody>\n",
              "</table>\n",
              "</div>"
            ],
            "text/plain": [
              "   EXT1  EXT2  EXT3  EXT4  EXT5  EXT6  EXT7  EXT8  EXT9  EXT10  EST1\n",
              "0   4.0   1.0   5.0   2.0   5.0   1.0   5.0   2.0   4.0    1.0   1.0\n",
              "1   3.0   5.0   3.0   4.0   3.0   3.0   2.0   5.0   1.0    5.0   2.0\n",
              "2   2.0   3.0   4.0   4.0   3.0   2.0   1.0   3.0   2.0    5.0   4.0\n",
              "3   2.0   2.0   2.0   3.0   4.0   2.0   2.0   4.0   1.0    4.0   3.0\n",
              "4   3.0   3.0   3.0   3.0   5.0   3.0   3.0   5.0   3.0    4.0   1.0"
            ]
          },
          "metadata": {
            "tags": []
          },
          "execution_count": 15
        }
      ]
    },
    {
      "cell_type": "code",
      "metadata": {
        "id": "N7Jr27VIwTvt"
      },
      "source": [
        "# 최소 500개이상의 데이터\n",
        "filtered_no_use_country = trait_no_use.groupby('country').size().loc[trait_no_use.groupby('country').size() > 500].index.to_list()\n",
        "trait_no_use = trait_no_use.loc[trait_no_use.country.isin(filtered_no_use_country)]"
      ],
      "execution_count": 16,
      "outputs": []
    },
    {
      "cell_type": "code",
      "metadata": {
        "id": "7r762a2YR7Fp"
      },
      "source": [
        "# 평균 계산을 위해 negative question 점수 scale 바꾸기\n",
        "trait_use[neg_questions] = trait_use[neg_questions].apply(lambda x: 6 - x)\n",
        "trait_no_use[neg_questions] = trait_no_use[neg_questions].apply(lambda x: 6 - x)"
      ],
      "execution_count": 17,
      "outputs": []
    },
    {
      "cell_type": "code",
      "metadata": {
        "id": "emhjMNb1TBDN"
      },
      "source": [
        "# 같은 유형의 문항의 점수 총 합치기\n",
        "df = trait_use.copy()\n",
        "df_no_use = trait_no_use.copy()"
      ],
      "execution_count": 18,
      "outputs": []
    },
    {
      "cell_type": "code",
      "metadata": {
        "id": "QDJsno87-ZtG"
      },
      "source": [
        "df_traits = summing_axis(df)\n",
        "df_traits_no_use = summing_axis(df_no_use)"
      ],
      "execution_count": 19,
      "outputs": []
    },
    {
      "cell_type": "code",
      "metadata": {
        "id": "7ljM96ZAjLjK",
        "outputId": "ed63806c-8bbc-4a57-fec9-35c3f21b6cab",
        "colab": {
          "base_uri": "https://localhost:8080/",
          "height": 204
        }
      },
      "source": [
        "# 나라별로 mean 구하기\n",
        "mean_df = df_traits.groupby('country').mean().rename_axis('Code').reset_index()\n",
        "mean_df.head()"
      ],
      "execution_count": 20,
      "outputs": [
        {
          "output_type": "execute_result",
          "data": {
            "text/html": [
              "<div>\n",
              "<style scoped>\n",
              "    .dataframe tbody tr th:only-of-type {\n",
              "        vertical-align: middle;\n",
              "    }\n",
              "\n",
              "    .dataframe tbody tr th {\n",
              "        vertical-align: top;\n",
              "    }\n",
              "\n",
              "    .dataframe thead th {\n",
              "        text-align: right;\n",
              "    }\n",
              "</style>\n",
              "<table border=\"1\" class=\"dataframe\">\n",
              "  <thead>\n",
              "    <tr style=\"text-align: right;\">\n",
              "      <th></th>\n",
              "      <th>Code</th>\n",
              "      <th>OPN</th>\n",
              "      <th>CSN</th>\n",
              "      <th>EXT</th>\n",
              "      <th>AGR</th>\n",
              "      <th>EST</th>\n",
              "    </tr>\n",
              "  </thead>\n",
              "  <tbody>\n",
              "    <tr>\n",
              "      <th>0</th>\n",
              "      <td>AE</td>\n",
              "      <td>37.639791</td>\n",
              "      <td>34.032090</td>\n",
              "      <td>30.261933</td>\n",
              "      <td>37.917770</td>\n",
              "      <td>31.475732</td>\n",
              "    </tr>\n",
              "    <tr>\n",
              "      <th>1</th>\n",
              "      <td>AR</td>\n",
              "      <td>40.133075</td>\n",
              "      <td>31.678530</td>\n",
              "      <td>28.345068</td>\n",
              "      <td>36.416248</td>\n",
              "      <td>32.381431</td>\n",
              "    </tr>\n",
              "    <tr>\n",
              "      <th>2</th>\n",
              "      <td>AT</td>\n",
              "      <td>40.836251</td>\n",
              "      <td>32.518538</td>\n",
              "      <td>29.899588</td>\n",
              "      <td>36.876931</td>\n",
              "      <td>29.856334</td>\n",
              "    </tr>\n",
              "    <tr>\n",
              "      <th>3</th>\n",
              "      <td>AU</td>\n",
              "      <td>38.551472</td>\n",
              "      <td>33.626061</td>\n",
              "      <td>29.937915</td>\n",
              "      <td>37.918328</td>\n",
              "      <td>30.393272</td>\n",
              "    </tr>\n",
              "    <tr>\n",
              "      <th>4</th>\n",
              "      <td>BE</td>\n",
              "      <td>39.308450</td>\n",
              "      <td>32.029262</td>\n",
              "      <td>29.967453</td>\n",
              "      <td>37.661989</td>\n",
              "      <td>30.598089</td>\n",
              "    </tr>\n",
              "  </tbody>\n",
              "</table>\n",
              "</div>"
            ],
            "text/plain": [
              "  Code        OPN        CSN        EXT        AGR        EST\n",
              "0   AE  37.639791  34.032090  30.261933  37.917770  31.475732\n",
              "1   AR  40.133075  31.678530  28.345068  36.416248  32.381431\n",
              "2   AT  40.836251  32.518538  29.899588  36.876931  29.856334\n",
              "3   AU  38.551472  33.626061  29.937915  37.918328  30.393272\n",
              "4   BE  39.308450  32.029262  29.967453  37.661989  30.598089"
            ]
          },
          "metadata": {
            "tags": []
          },
          "execution_count": 20
        }
      ]
    },
    {
      "cell_type": "code",
      "metadata": {
        "id": "egM0XTia94Nl",
        "outputId": "3f3c5db9-8298-4ade-d0d5-f670549fd47b",
        "colab": {
          "base_uri": "https://localhost:8080/",
          "height": 204
        }
      },
      "source": [
        "mean_df_no_use = df_traits_no_use.groupby('country').mean().rename_axis('Code').reset_index()\n",
        "mean_df_no_use.head()"
      ],
      "execution_count": 21,
      "outputs": [
        {
          "output_type": "execute_result",
          "data": {
            "text/html": [
              "<div>\n",
              "<style scoped>\n",
              "    .dataframe tbody tr th:only-of-type {\n",
              "        vertical-align: middle;\n",
              "    }\n",
              "\n",
              "    .dataframe tbody tr th {\n",
              "        vertical-align: top;\n",
              "    }\n",
              "\n",
              "    .dataframe thead th {\n",
              "        text-align: right;\n",
              "    }\n",
              "</style>\n",
              "<table border=\"1\" class=\"dataframe\">\n",
              "  <thead>\n",
              "    <tr style=\"text-align: right;\">\n",
              "      <th></th>\n",
              "      <th>Code</th>\n",
              "      <th>OPN</th>\n",
              "      <th>CSN</th>\n",
              "      <th>EXT</th>\n",
              "      <th>AGR</th>\n",
              "      <th>EST</th>\n",
              "    </tr>\n",
              "  </thead>\n",
              "  <tbody>\n",
              "    <tr>\n",
              "      <th>0</th>\n",
              "      <td>CR</td>\n",
              "      <td>39.633028</td>\n",
              "      <td>32.664220</td>\n",
              "      <td>28.759633</td>\n",
              "      <td>35.908257</td>\n",
              "      <td>31.051376</td>\n",
              "    </tr>\n",
              "    <tr>\n",
              "      <th>1</th>\n",
              "      <td>EC</td>\n",
              "      <td>38.383138</td>\n",
              "      <td>31.910352</td>\n",
              "      <td>29.119530</td>\n",
              "      <td>35.337247</td>\n",
              "      <td>31.806830</td>\n",
              "    </tr>\n",
              "    <tr>\n",
              "      <th>2</th>\n",
              "      <td>EE</td>\n",
              "      <td>38.964045</td>\n",
              "      <td>32.362921</td>\n",
              "      <td>28.283146</td>\n",
              "      <td>35.783146</td>\n",
              "      <td>30.279775</td>\n",
              "    </tr>\n",
              "    <tr>\n",
              "      <th>3</th>\n",
              "      <td>EG</td>\n",
              "      <td>37.943890</td>\n",
              "      <td>33.007481</td>\n",
              "      <td>28.480050</td>\n",
              "      <td>36.966334</td>\n",
              "      <td>33.011222</td>\n",
              "    </tr>\n",
              "    <tr>\n",
              "      <th>4</th>\n",
              "      <td>IS</td>\n",
              "      <td>39.057728</td>\n",
              "      <td>32.614525</td>\n",
              "      <td>30.225326</td>\n",
              "      <td>37.696462</td>\n",
              "      <td>30.463687</td>\n",
              "    </tr>\n",
              "  </tbody>\n",
              "</table>\n",
              "</div>"
            ],
            "text/plain": [
              "  Code        OPN        CSN        EXT        AGR        EST\n",
              "0   CR  39.633028  32.664220  28.759633  35.908257  31.051376\n",
              "1   EC  38.383138  31.910352  29.119530  35.337247  31.806830\n",
              "2   EE  38.964045  32.362921  28.283146  35.783146  30.279775\n",
              "3   EG  37.943890  33.007481  28.480050  36.966334  33.011222\n",
              "4   IS  39.057728  32.614525  30.225326  37.696462  30.463687"
            ]
          },
          "metadata": {
            "tags": []
          },
          "execution_count": 21
        }
      ]
    },
    {
      "cell_type": "code",
      "metadata": {
        "id": "AkVG8DOIrsBK",
        "outputId": "b5729ac3-a355-4c95-9010-8fa3eee4a4ed",
        "colab": {
          "base_uri": "https://localhost:8080/",
          "height": 628
        }
      },
      "source": [
        "# 한국 성격테스트 결과\n",
        "fig = plt.figure(figsize=(16, 6))\n",
        "traits = ['OPN','CSN','EXT','AGR','EST']\n",
        "for trait in traits:\n",
        "  sns.distplot(df_traits[df_traits['country'] == 'KR'][trait], bins=40, axlabel=False)\n",
        "\n",
        "fig.legend(traits)"
      ],
      "execution_count": 22,
      "outputs": [
        {
          "output_type": "stream",
          "text": [
            "/usr/local/lib/python3.6/dist-packages/seaborn/distributions.py:2551: FutureWarning: `distplot` is a deprecated function and will be removed in a future version. Please adapt your code to use either `displot` (a figure-level function with similar flexibility) or `histplot` (an axes-level function for histograms).\n",
            "  warnings.warn(msg, FutureWarning)\n",
            "/usr/local/lib/python3.6/dist-packages/seaborn/distributions.py:2551: FutureWarning: `distplot` is a deprecated function and will be removed in a future version. Please adapt your code to use either `displot` (a figure-level function with similar flexibility) or `histplot` (an axes-level function for histograms).\n",
            "  warnings.warn(msg, FutureWarning)\n",
            "/usr/local/lib/python3.6/dist-packages/seaborn/distributions.py:2551: FutureWarning: `distplot` is a deprecated function and will be removed in a future version. Please adapt your code to use either `displot` (a figure-level function with similar flexibility) or `histplot` (an axes-level function for histograms).\n",
            "  warnings.warn(msg, FutureWarning)\n",
            "/usr/local/lib/python3.6/dist-packages/seaborn/distributions.py:2551: FutureWarning: `distplot` is a deprecated function and will be removed in a future version. Please adapt your code to use either `displot` (a figure-level function with similar flexibility) or `histplot` (an axes-level function for histograms).\n",
            "  warnings.warn(msg, FutureWarning)\n",
            "/usr/local/lib/python3.6/dist-packages/seaborn/distributions.py:2551: FutureWarning: `distplot` is a deprecated function and will be removed in a future version. Please adapt your code to use either `displot` (a figure-level function with similar flexibility) or `histplot` (an axes-level function for histograms).\n",
            "  warnings.warn(msg, FutureWarning)\n"
          ],
          "name": "stderr"
        },
        {
          "output_type": "execute_result",
          "data": {
            "text/plain": [
              "<matplotlib.legend.Legend at 0x7f25cda58fd0>"
            ]
          },
          "metadata": {
            "tags": []
          },
          "execution_count": 22
        },
        {
          "output_type": "display_data",
          "data": {
            "image/png": "[encoded data removed]",
            "text/plain": [
              "<Figure size 1152x432 with 1 Axes>"
            ]
          },
          "metadata": {
            "tags": []
          }
        }
      ]
    },
    {
      "cell_type": "code",
      "metadata": {
        "id": "sieAOq8vynM2",
        "outputId": "2f431b8b-2f86-467f-fa4a-ef72be5408f2",
        "colab": {
          "base_uri": "https://localhost:8080/",
          "height": 204
        }
      },
      "source": [
        "# Filtering Country\n",
        "df_covid = df_covid.loc[df_covid['Country_code'].isin(filtered_countries)]\n",
        "df_covid.head()"
      ],
      "execution_count": 23,
      "outputs": [
        {
          "output_type": "execute_result",
          "data": {
            "text/html": [
              "<div>\n",
              "<style scoped>\n",
              "    .dataframe tbody tr th:only-of-type {\n",
              "        vertical-align: middle;\n",
              "    }\n",
              "\n",
              "    .dataframe tbody tr th {\n",
              "        vertical-align: top;\n",
              "    }\n",
              "\n",
              "    .dataframe thead th {\n",
              "        text-align: right;\n",
              "    }\n",
              "</style>\n",
              "<table border=\"1\" class=\"dataframe\">\n",
              "  <thead>\n",
              "    <tr style=\"text-align: right;\">\n",
              "      <th></th>\n",
              "      <th>Country</th>\n",
              "      <th>Country_code</th>\n",
              "      <th>New_cases</th>\n",
              "    </tr>\n",
              "  </thead>\n",
              "  <tbody>\n",
              "    <tr>\n",
              "      <th>8</th>\n",
              "      <td>Argentina</td>\n",
              "      <td>AR</td>\n",
              "      <td>798486</td>\n",
              "    </tr>\n",
              "    <tr>\n",
              "      <th>11</th>\n",
              "      <td>Australia</td>\n",
              "      <td>AU</td>\n",
              "      <td>27149</td>\n",
              "    </tr>\n",
              "    <tr>\n",
              "      <th>12</th>\n",
              "      <td>Austria</td>\n",
              "      <td>AT</td>\n",
              "      <td>49886</td>\n",
              "    </tr>\n",
              "    <tr>\n",
              "      <th>19</th>\n",
              "      <td>Belgium</td>\n",
              "      <td>BE</td>\n",
              "      <td>132109</td>\n",
              "    </tr>\n",
              "    <tr>\n",
              "      <th>28</th>\n",
              "      <td>Brazil</td>\n",
              "      <td>BR</td>\n",
              "      <td>4915289</td>\n",
              "    </tr>\n",
              "  </tbody>\n",
              "</table>\n",
              "</div>"
            ],
            "text/plain": [
              "      Country Country_code  New_cases\n",
              "8   Argentina           AR     798486\n",
              "11  Australia           AU      27149\n",
              "12    Austria           AT      49886\n",
              "19    Belgium           BE     132109\n",
              "28     Brazil           BR    4915289"
            ]
          },
          "metadata": {
            "tags": []
          },
          "execution_count": 23
        }
      ]
    },
    {
      "cell_type": "code",
      "metadata": {
        "id": "N0rzgSZWe2ey",
        "outputId": "e16d6c75-cc50-42fa-dad9-a1521b892392",
        "colab": {
          "base_uri": "https://localhost:8080/",
          "height": 204
        }
      },
      "source": [
        "# Big 5 성격테스트와 COVID19 데이터 합치기\n",
        "df_covid.columns = ['Country', 'Code', 'New_cases']\n",
        "df_covid = df_covid.merge(mean_df, on = 'Code')\n",
        "df_covid.head()"
      ],
      "execution_count": 24,
      "outputs": [
        {
          "output_type": "execute_result",
          "data": {
            "text/html": [
              "<div>\n",
              "<style scoped>\n",
              "    .dataframe tbody tr th:only-of-type {\n",
              "        vertical-align: middle;\n",
              "    }\n",
              "\n",
              "    .dataframe tbody tr th {\n",
              "        vertical-align: top;\n",
              "    }\n",
              "\n",
              "    .dataframe thead th {\n",
              "        text-align: right;\n",
              "    }\n",
              "</style>\n",
              "<table border=\"1\" class=\"dataframe\">\n",
              "  <thead>\n",
              "    <tr style=\"text-align: right;\">\n",
              "      <th></th>\n",
              "      <th>Country</th>\n",
              "      <th>Code</th>\n",
              "      <th>New_cases</th>\n",
              "      <th>OPN</th>\n",
              "      <th>CSN</th>\n",
              "      <th>EXT</th>\n",
              "      <th>AGR</th>\n",
              "      <th>EST</th>\n",
              "    </tr>\n",
              "  </thead>\n",
              "  <tbody>\n",
              "    <tr>\n",
              "      <th>0</th>\n",
              "      <td>Argentina</td>\n",
              "      <td>AR</td>\n",
              "      <td>798486</td>\n",
              "      <td>40.133075</td>\n",
              "      <td>31.678530</td>\n",
              "      <td>28.345068</td>\n",
              "      <td>36.416248</td>\n",
              "      <td>32.381431</td>\n",
              "    </tr>\n",
              "    <tr>\n",
              "      <th>1</th>\n",
              "      <td>Australia</td>\n",
              "      <td>AU</td>\n",
              "      <td>27149</td>\n",
              "      <td>38.551472</td>\n",
              "      <td>33.626061</td>\n",
              "      <td>29.937915</td>\n",
              "      <td>37.918328</td>\n",
              "      <td>30.393272</td>\n",
              "    </tr>\n",
              "    <tr>\n",
              "      <th>2</th>\n",
              "      <td>Austria</td>\n",
              "      <td>AT</td>\n",
              "      <td>49886</td>\n",
              "      <td>40.836251</td>\n",
              "      <td>32.518538</td>\n",
              "      <td>29.899588</td>\n",
              "      <td>36.876931</td>\n",
              "      <td>29.856334</td>\n",
              "    </tr>\n",
              "    <tr>\n",
              "      <th>3</th>\n",
              "      <td>Belgium</td>\n",
              "      <td>BE</td>\n",
              "      <td>132109</td>\n",
              "      <td>39.308450</td>\n",
              "      <td>32.029262</td>\n",
              "      <td>29.967453</td>\n",
              "      <td>37.661989</td>\n",
              "      <td>30.598089</td>\n",
              "    </tr>\n",
              "    <tr>\n",
              "      <th>4</th>\n",
              "      <td>Brazil</td>\n",
              "      <td>BR</td>\n",
              "      <td>4915289</td>\n",
              "      <td>40.536946</td>\n",
              "      <td>31.240467</td>\n",
              "      <td>26.505017</td>\n",
              "      <td>34.946725</td>\n",
              "      <td>31.545703</td>\n",
              "    </tr>\n",
              "  </tbody>\n",
              "</table>\n",
              "</div>"
            ],
            "text/plain": [
              "     Country Code  New_cases  ...        EXT        AGR        EST\n",
              "0  Argentina   AR     798486  ...  28.345068  36.416248  32.381431\n",
              "1  Australia   AU      27149  ...  29.937915  37.918328  30.393272\n",
              "2    Austria   AT      49886  ...  29.899588  36.876931  29.856334\n",
              "3    Belgium   BE     132109  ...  29.967453  37.661989  30.598089\n",
              "4     Brazil   BR    4915289  ...  26.505017  34.946725  31.545703\n",
              "\n",
              "[5 rows x 8 columns]"
            ]
          },
          "metadata": {
            "tags": []
          },
          "execution_count": 24
        }
      ]
    },
    {
      "cell_type": "code",
      "metadata": {
        "id": "AHAlIslok62R",
        "outputId": "db47b195-7c88-4d0f-e1eb-967a9b9bfc5c",
        "colab": {
          "base_uri": "https://localhost:8080/",
          "height": 513
        }
      },
      "source": [
        "# K-means clustering 전 elbow plot 확인\n",
        "distortions = []\n",
        "K = range(1,10)\n",
        "for k in K:\n",
        "    kmeanModel = KMeans(n_clusters=k)\n",
        "    kmeanModel.fit(df_covid.iloc[:,3:8])\n",
        "    distortions.append(kmeanModel.inertia_)\n",
        "   \n",
        "\n",
        "plt.figure(figsize=(16,8))\n",
        "plt.plot(K, distortions, 'bx-')\n",
        "plt.xlabel('k')\n",
        "plt.ylabel('Distance')\n",
        "plt.title('The Elbow Method showing the optimal k')\n",
        "plt.show()"
      ],
      "execution_count": 26,
      "outputs": [
        {
          "output_type": "display_data",
          "data": {
            "image/png": "[encoded data removed]",
            "text/plain": [
              "<Figure size 1152x576 with 1 Axes>"
            ]
          },
          "metadata": {
            "tags": []
          }
        }
      ]
    },
    {
      "cell_type": "code",
      "metadata": {
        "id": "57Ga3BNBs12k",
        "outputId": "be8b4d94-b880-40b0-e2f9-7e20b7c0268b",
        "colab": {
          "base_uri": "https://localhost:8080/",
          "height": 204
        }
      },
      "source": [
        "#k = 3로 설정\n",
        "kmeans = KMeans(n_clusters=3)\n",
        "kmeans.fit(df_covid.iloc[:,3:8])\n",
        "df_covid['label'] = kmeans.labels_\n",
        "df_covid.head()"
      ],
      "execution_count": 27,
      "outputs": [
        {
          "output_type": "execute_result",
          "data": {
            "text/html": [
              "<div>\n",
              "<style scoped>\n",
              "    .dataframe tbody tr th:only-of-type {\n",
              "        vertical-align: middle;\n",
              "    }\n",
              "\n",
              "    .dataframe tbody tr th {\n",
              "        vertical-align: top;\n",
              "    }\n",
              "\n",
              "    .dataframe thead th {\n",
              "        text-align: right;\n",
              "    }\n",
              "</style>\n",
              "<table border=\"1\" class=\"dataframe\">\n",
              "  <thead>\n",
              "    <tr style=\"text-align: right;\">\n",
              "      <th></th>\n",
              "      <th>Country</th>\n",
              "      <th>Code</th>\n",
              "      <th>New_cases</th>\n",
              "      <th>OPN</th>\n",
              "      <th>CSN</th>\n",
              "      <th>EXT</th>\n",
              "      <th>AGR</th>\n",
              "      <th>EST</th>\n",
              "      <th>label</th>\n",
              "    </tr>\n",
              "  </thead>\n",
              "  <tbody>\n",
              "    <tr>\n",
              "      <th>0</th>\n",
              "      <td>Argentina</td>\n",
              "      <td>AR</td>\n",
              "      <td>798486</td>\n",
              "      <td>40.133075</td>\n",
              "      <td>31.678530</td>\n",
              "      <td>28.345068</td>\n",
              "      <td>36.416248</td>\n",
              "      <td>32.381431</td>\n",
              "      <td>1</td>\n",
              "    </tr>\n",
              "    <tr>\n",
              "      <th>1</th>\n",
              "      <td>Australia</td>\n",
              "      <td>AU</td>\n",
              "      <td>27149</td>\n",
              "      <td>38.551472</td>\n",
              "      <td>33.626061</td>\n",
              "      <td>29.937915</td>\n",
              "      <td>37.918328</td>\n",
              "      <td>30.393272</td>\n",
              "      <td>0</td>\n",
              "    </tr>\n",
              "    <tr>\n",
              "      <th>2</th>\n",
              "      <td>Austria</td>\n",
              "      <td>AT</td>\n",
              "      <td>49886</td>\n",
              "      <td>40.836251</td>\n",
              "      <td>32.518538</td>\n",
              "      <td>29.899588</td>\n",
              "      <td>36.876931</td>\n",
              "      <td>29.856334</td>\n",
              "      <td>0</td>\n",
              "    </tr>\n",
              "    <tr>\n",
              "      <th>3</th>\n",
              "      <td>Belgium</td>\n",
              "      <td>BE</td>\n",
              "      <td>132109</td>\n",
              "      <td>39.308450</td>\n",
              "      <td>32.029262</td>\n",
              "      <td>29.967453</td>\n",
              "      <td>37.661989</td>\n",
              "      <td>30.598089</td>\n",
              "      <td>0</td>\n",
              "    </tr>\n",
              "    <tr>\n",
              "      <th>4</th>\n",
              "      <td>Brazil</td>\n",
              "      <td>BR</td>\n",
              "      <td>4915289</td>\n",
              "      <td>40.536946</td>\n",
              "      <td>31.240467</td>\n",
              "      <td>26.505017</td>\n",
              "      <td>34.946725</td>\n",
              "      <td>31.545703</td>\n",
              "      <td>1</td>\n",
              "    </tr>\n",
              "  </tbody>\n",
              "</table>\n",
              "</div>"
            ],
            "text/plain": [
              "     Country Code  New_cases        OPN  ...        EXT        AGR        EST  label\n",
              "0  Argentina   AR     798486  40.133075  ...  28.345068  36.416248  32.381431      1\n",
              "1  Australia   AU      27149  38.551472  ...  29.937915  37.918328  30.393272      0\n",
              "2    Austria   AT      49886  40.836251  ...  29.899588  36.876931  29.856334      0\n",
              "3    Belgium   BE     132109  39.308450  ...  29.967453  37.661989  30.598089      0\n",
              "4     Brazil   BR    4915289  40.536946  ...  26.505017  34.946725  31.545703      1\n",
              "\n",
              "[5 rows x 9 columns]"
            ]
          },
          "metadata": {
            "tags": []
          },
          "execution_count": 27
        }
      ]
    },
    {
      "cell_type": "code",
      "metadata": {
        "id": "eTovwMTyxUbI",
        "outputId": "ced4cfe8-02d7-491b-b4cb-970e3e8ee840",
        "colab": {
          "base_uri": "https://localhost:8080/",
          "height": 545
        }
      },
      "source": [
        "# label별 case 확인\n",
        "df_covid.loc[df_covid.label == 0]"
      ],
      "execution_count": 28,
      "outputs": [
        {
          "output_type": "execute_result",
          "data": {
            "text/html": [
              "<div>\n",
              "<style scoped>\n",
              "    .dataframe tbody tr th:only-of-type {\n",
              "        vertical-align: middle;\n",
              "    }\n",
              "\n",
              "    .dataframe tbody tr th {\n",
              "        vertical-align: top;\n",
              "    }\n",
              "\n",
              "    .dataframe thead th {\n",
              "        text-align: right;\n",
              "    }\n",
              "</style>\n",
              "<table border=\"1\" class=\"dataframe\">\n",
              "  <thead>\n",
              "    <tr style=\"text-align: right;\">\n",
              "      <th></th>\n",
              "      <th>Country</th>\n",
              "      <th>Code</th>\n",
              "      <th>New_cases</th>\n",
              "      <th>OPN</th>\n",
              "      <th>CSN</th>\n",
              "      <th>EXT</th>\n",
              "      <th>AGR</th>\n",
              "      <th>EST</th>\n",
              "      <th>label</th>\n",
              "    </tr>\n",
              "  </thead>\n",
              "  <tbody>\n",
              "    <tr>\n",
              "      <th>1</th>\n",
              "      <td>Australia</td>\n",
              "      <td>AU</td>\n",
              "      <td>27149</td>\n",
              "      <td>38.551472</td>\n",
              "      <td>33.626061</td>\n",
              "      <td>29.937915</td>\n",
              "      <td>37.918328</td>\n",
              "      <td>30.393272</td>\n",
              "      <td>0</td>\n",
              "    </tr>\n",
              "    <tr>\n",
              "      <th>2</th>\n",
              "      <td>Austria</td>\n",
              "      <td>AT</td>\n",
              "      <td>49886</td>\n",
              "      <td>40.836251</td>\n",
              "      <td>32.518538</td>\n",
              "      <td>29.899588</td>\n",
              "      <td>36.876931</td>\n",
              "      <td>29.856334</td>\n",
              "      <td>0</td>\n",
              "    </tr>\n",
              "    <tr>\n",
              "      <th>3</th>\n",
              "      <td>Belgium</td>\n",
              "      <td>BE</td>\n",
              "      <td>132109</td>\n",
              "      <td>39.308450</td>\n",
              "      <td>32.029262</td>\n",
              "      <td>29.967453</td>\n",
              "      <td>37.661989</td>\n",
              "      <td>30.598089</td>\n",
              "      <td>0</td>\n",
              "    </tr>\n",
              "    <tr>\n",
              "      <th>6</th>\n",
              "      <td>Canada</td>\n",
              "      <td>CA</td>\n",
              "      <td>166156</td>\n",
              "      <td>39.237147</td>\n",
              "      <td>33.752232</td>\n",
              "      <td>29.557088</td>\n",
              "      <td>37.870115</td>\n",
              "      <td>30.659691</td>\n",
              "      <td>0</td>\n",
              "    </tr>\n",
              "    <tr>\n",
              "      <th>12</th>\n",
              "      <td>Denmark</td>\n",
              "      <td>DK</td>\n",
              "      <td>30057</td>\n",
              "      <td>39.624273</td>\n",
              "      <td>32.612635</td>\n",
              "      <td>30.871571</td>\n",
              "      <td>37.781380</td>\n",
              "      <td>30.394431</td>\n",
              "      <td>0</td>\n",
              "    </tr>\n",
              "    <tr>\n",
              "      <th>20</th>\n",
              "      <td>Ireland</td>\n",
              "      <td>IE</td>\n",
              "      <td>38551</td>\n",
              "      <td>39.552102</td>\n",
              "      <td>32.750438</td>\n",
              "      <td>30.004597</td>\n",
              "      <td>37.695271</td>\n",
              "      <td>31.145578</td>\n",
              "      <td>0</td>\n",
              "    </tr>\n",
              "    <tr>\n",
              "      <th>21</th>\n",
              "      <td>Israel</td>\n",
              "      <td>IL</td>\n",
              "      <td>264805</td>\n",
              "      <td>41.083536</td>\n",
              "      <td>33.291971</td>\n",
              "      <td>30.030819</td>\n",
              "      <td>37.085158</td>\n",
              "      <td>30.138686</td>\n",
              "      <td>0</td>\n",
              "    </tr>\n",
              "    <tr>\n",
              "      <th>24</th>\n",
              "      <td>Kenya</td>\n",
              "      <td>KE</td>\n",
              "      <td>39449</td>\n",
              "      <td>39.364964</td>\n",
              "      <td>36.367701</td>\n",
              "      <td>28.346715</td>\n",
              "      <td>39.477190</td>\n",
              "      <td>29.748175</td>\n",
              "      <td>0</td>\n",
              "    </tr>\n",
              "    <tr>\n",
              "      <th>27</th>\n",
              "      <td>Netherlands</td>\n",
              "      <td>NL</td>\n",
              "      <td>140321</td>\n",
              "      <td>39.647772</td>\n",
              "      <td>33.056223</td>\n",
              "      <td>30.983607</td>\n",
              "      <td>37.799931</td>\n",
              "      <td>29.167975</td>\n",
              "      <td>0</td>\n",
              "    </tr>\n",
              "    <tr>\n",
              "      <th>29</th>\n",
              "      <td>Norway</td>\n",
              "      <td>NO</td>\n",
              "      <td>14457</td>\n",
              "      <td>39.353212</td>\n",
              "      <td>33.725625</td>\n",
              "      <td>30.853373</td>\n",
              "      <td>37.831385</td>\n",
              "      <td>29.752226</td>\n",
              "      <td>0</td>\n",
              "    </tr>\n",
              "    <tr>\n",
              "      <th>40</th>\n",
              "      <td>South Africa</td>\n",
              "      <td>ZA</td>\n",
              "      <td>682215</td>\n",
              "      <td>40.198920</td>\n",
              "      <td>34.992374</td>\n",
              "      <td>29.192247</td>\n",
              "      <td>37.950111</td>\n",
              "      <td>30.204957</td>\n",
              "      <td>0</td>\n",
              "    </tr>\n",
              "    <tr>\n",
              "      <th>41</th>\n",
              "      <td>Spain</td>\n",
              "      <td>ES</td>\n",
              "      <td>789932</td>\n",
              "      <td>40.030204</td>\n",
              "      <td>32.424257</td>\n",
              "      <td>30.021840</td>\n",
              "      <td>37.400558</td>\n",
              "      <td>30.417983</td>\n",
              "      <td>0</td>\n",
              "    </tr>\n",
              "    <tr>\n",
              "      <th>42</th>\n",
              "      <td>Sweden</td>\n",
              "      <td>SE</td>\n",
              "      <td>94283</td>\n",
              "      <td>39.882263</td>\n",
              "      <td>32.914273</td>\n",
              "      <td>30.350143</td>\n",
              "      <td>36.498904</td>\n",
              "      <td>29.914931</td>\n",
              "      <td>0</td>\n",
              "    </tr>\n",
              "    <tr>\n",
              "      <th>43</th>\n",
              "      <td>Switzerland</td>\n",
              "      <td>CH</td>\n",
              "      <td>55803</td>\n",
              "      <td>40.428676</td>\n",
              "      <td>33.303950</td>\n",
              "      <td>30.294075</td>\n",
              "      <td>37.564375</td>\n",
              "      <td>29.525969</td>\n",
              "      <td>0</td>\n",
              "    </tr>\n",
              "    <tr>\n",
              "      <th>45</th>\n",
              "      <td>The United Kingdom</td>\n",
              "      <td>GB</td>\n",
              "      <td>515575</td>\n",
              "      <td>39.244396</td>\n",
              "      <td>32.541266</td>\n",
              "      <td>29.713369</td>\n",
              "      <td>37.144137</td>\n",
              "      <td>31.672674</td>\n",
              "      <td>0</td>\n",
              "    </tr>\n",
              "    <tr>\n",
              "      <th>48</th>\n",
              "      <td>United States of America</td>\n",
              "      <td>US</td>\n",
              "      <td>7341406</td>\n",
              "      <td>39.105058</td>\n",
              "      <td>34.166036</td>\n",
              "      <td>29.785421</td>\n",
              "      <td>38.338453</td>\n",
              "      <td>30.366914</td>\n",
              "      <td>0</td>\n",
              "    </tr>\n",
              "  </tbody>\n",
              "</table>\n",
              "</div>"
            ],
            "text/plain": [
              "                     Country Code  New_cases  ...        AGR        EST  label\n",
              "1                  Australia   AU      27149  ...  37.918328  30.393272      0\n",
              "2                    Austria   AT      49886  ...  36.876931  29.856334      0\n",
              "3                    Belgium   BE     132109  ...  37.661989  30.598089      0\n",
              "6                     Canada   CA     166156  ...  37.870115  30.659691      0\n",
              "12                   Denmark   DK      30057  ...  37.781380  30.394431      0\n",
              "20                   Ireland   IE      38551  ...  37.695271  31.145578      0\n",
              "21                    Israel   IL     264805  ...  37.085158  30.138686      0\n",
              "24                     Kenya   KE      39449  ...  39.477190  29.748175      0\n",
              "27               Netherlands   NL     140321  ...  37.799931  29.167975      0\n",
              "29                    Norway   NO      14457  ...  37.831385  29.752226      0\n",
              "40              South Africa   ZA     682215  ...  37.950111  30.204957      0\n",
              "41                     Spain   ES     789932  ...  37.400558  30.417983      0\n",
              "42                    Sweden   SE      94283  ...  36.498904  29.914931      0\n",
              "43               Switzerland   CH      55803  ...  37.564375  29.525969      0\n",
              "45        The United Kingdom   GB     515575  ...  37.144137  31.672674      0\n",
              "48  United States of America   US    7341406  ...  38.338453  30.366914      0\n",
              "\n",
              "[16 rows x 9 columns]"
            ]
          },
          "metadata": {
            "tags": []
          },
          "execution_count": 28
        }
      ]
    },
    {
      "cell_type": "code",
      "metadata": {
        "id": "DCzg5bwGxq_l",
        "outputId": "5a421153-c9d2-48af-e8d4-ee50f11ebd9a",
        "colab": {
          "base_uri": "https://localhost:8080/",
          "height": 731
        }
      },
      "source": [
        "df_covid.loc[df_covid.label == 1]"
      ],
      "execution_count": 29,
      "outputs": [
        {
          "output_type": "execute_result",
          "data": {
            "text/html": [
              "<div>\n",
              "<style scoped>\n",
              "    .dataframe tbody tr th:only-of-type {\n",
              "        vertical-align: middle;\n",
              "    }\n",
              "\n",
              "    .dataframe tbody tr th {\n",
              "        vertical-align: top;\n",
              "    }\n",
              "\n",
              "    .dataframe thead th {\n",
              "        text-align: right;\n",
              "    }\n",
              "</style>\n",
              "<table border=\"1\" class=\"dataframe\">\n",
              "  <thead>\n",
              "    <tr style=\"text-align: right;\">\n",
              "      <th></th>\n",
              "      <th>Country</th>\n",
              "      <th>Code</th>\n",
              "      <th>New_cases</th>\n",
              "      <th>OPN</th>\n",
              "      <th>CSN</th>\n",
              "      <th>EXT</th>\n",
              "      <th>AGR</th>\n",
              "      <th>EST</th>\n",
              "      <th>label</th>\n",
              "    </tr>\n",
              "  </thead>\n",
              "  <tbody>\n",
              "    <tr>\n",
              "      <th>0</th>\n",
              "      <td>Argentina</td>\n",
              "      <td>AR</td>\n",
              "      <td>798486</td>\n",
              "      <td>40.133075</td>\n",
              "      <td>31.678530</td>\n",
              "      <td>28.345068</td>\n",
              "      <td>36.416248</td>\n",
              "      <td>32.381431</td>\n",
              "      <td>1</td>\n",
              "    </tr>\n",
              "    <tr>\n",
              "      <th>4</th>\n",
              "      <td>Brazil</td>\n",
              "      <td>BR</td>\n",
              "      <td>4915289</td>\n",
              "      <td>40.536946</td>\n",
              "      <td>31.240467</td>\n",
              "      <td>26.505017</td>\n",
              "      <td>34.946725</td>\n",
              "      <td>31.545703</td>\n",
              "      <td>1</td>\n",
              "    </tr>\n",
              "    <tr>\n",
              "      <th>5</th>\n",
              "      <td>Bulgaria</td>\n",
              "      <td>BG</td>\n",
              "      <td>21870</td>\n",
              "      <td>40.389388</td>\n",
              "      <td>32.484712</td>\n",
              "      <td>28.957734</td>\n",
              "      <td>35.624101</td>\n",
              "      <td>31.051259</td>\n",
              "      <td>1</td>\n",
              "    </tr>\n",
              "    <tr>\n",
              "      <th>7</th>\n",
              "      <td>Chile</td>\n",
              "      <td>CL</td>\n",
              "      <td>471746</td>\n",
              "      <td>39.998914</td>\n",
              "      <td>31.696526</td>\n",
              "      <td>28.559718</td>\n",
              "      <td>36.999457</td>\n",
              "      <td>31.738871</td>\n",
              "      <td>1</td>\n",
              "    </tr>\n",
              "    <tr>\n",
              "      <th>9</th>\n",
              "      <td>Colombia</td>\n",
              "      <td>CO</td>\n",
              "      <td>855052</td>\n",
              "      <td>38.895562</td>\n",
              "      <td>31.960294</td>\n",
              "      <td>29.139473</td>\n",
              "      <td>35.873874</td>\n",
              "      <td>31.959626</td>\n",
              "      <td>1</td>\n",
              "    </tr>\n",
              "    <tr>\n",
              "      <th>10</th>\n",
              "      <td>Croatia</td>\n",
              "      <td>HR</td>\n",
              "      <td>17797</td>\n",
              "      <td>40.079114</td>\n",
              "      <td>32.482068</td>\n",
              "      <td>29.061709</td>\n",
              "      <td>35.797996</td>\n",
              "      <td>30.574367</td>\n",
              "      <td>1</td>\n",
              "    </tr>\n",
              "    <tr>\n",
              "      <th>11</th>\n",
              "      <td>Czechia</td>\n",
              "      <td>CZ</td>\n",
              "      <td>85566</td>\n",
              "      <td>39.670317</td>\n",
              "      <td>31.677233</td>\n",
              "      <td>28.497406</td>\n",
              "      <td>35.527954</td>\n",
              "      <td>31.287032</td>\n",
              "      <td>1</td>\n",
              "    </tr>\n",
              "    <tr>\n",
              "      <th>13</th>\n",
              "      <td>Finland</td>\n",
              "      <td>FI</td>\n",
              "      <td>10702</td>\n",
              "      <td>39.696498</td>\n",
              "      <td>31.717250</td>\n",
              "      <td>28.020493</td>\n",
              "      <td>35.145525</td>\n",
              "      <td>31.083528</td>\n",
              "      <td>1</td>\n",
              "    </tr>\n",
              "    <tr>\n",
              "      <th>14</th>\n",
              "      <td>France</td>\n",
              "      <td>FR</td>\n",
              "      <td>598058</td>\n",
              "      <td>40.871051</td>\n",
              "      <td>32.003880</td>\n",
              "      <td>28.815260</td>\n",
              "      <td>36.968964</td>\n",
              "      <td>31.292444</td>\n",
              "      <td>1</td>\n",
              "    </tr>\n",
              "    <tr>\n",
              "      <th>15</th>\n",
              "      <td>Germany</td>\n",
              "      <td>DE</td>\n",
              "      <td>303258</td>\n",
              "      <td>41.064345</td>\n",
              "      <td>32.262837</td>\n",
              "      <td>28.638238</td>\n",
              "      <td>36.261473</td>\n",
              "      <td>30.133023</td>\n",
              "      <td>1</td>\n",
              "    </tr>\n",
              "    <tr>\n",
              "      <th>16</th>\n",
              "      <td>Greece</td>\n",
              "      <td>GR</td>\n",
              "      <td>20142</td>\n",
              "      <td>39.888366</td>\n",
              "      <td>32.694301</td>\n",
              "      <td>28.959020</td>\n",
              "      <td>36.713613</td>\n",
              "      <td>33.069242</td>\n",
              "      <td>1</td>\n",
              "    </tr>\n",
              "    <tr>\n",
              "      <th>17</th>\n",
              "      <td>Hungary</td>\n",
              "      <td>HU</td>\n",
              "      <td>32298</td>\n",
              "      <td>40.672231</td>\n",
              "      <td>31.942337</td>\n",
              "      <td>28.371775</td>\n",
              "      <td>35.700303</td>\n",
              "      <td>31.202580</td>\n",
              "      <td>1</td>\n",
              "    </tr>\n",
              "    <tr>\n",
              "      <th>22</th>\n",
              "      <td>Italy</td>\n",
              "      <td>IT</td>\n",
              "      <td>327586</td>\n",
              "      <td>40.193612</td>\n",
              "      <td>32.803107</td>\n",
              "      <td>28.928243</td>\n",
              "      <td>36.770291</td>\n",
              "      <td>32.185955</td>\n",
              "      <td>1</td>\n",
              "    </tr>\n",
              "    <tr>\n",
              "      <th>26</th>\n",
              "      <td>Mexico</td>\n",
              "      <td>MX</td>\n",
              "      <td>761665</td>\n",
              "      <td>38.759612</td>\n",
              "      <td>32.104271</td>\n",
              "      <td>29.393333</td>\n",
              "      <td>35.713388</td>\n",
              "      <td>31.896901</td>\n",
              "      <td>1</td>\n",
              "    </tr>\n",
              "    <tr>\n",
              "      <th>31</th>\n",
              "      <td>Peru</td>\n",
              "      <td>PE</td>\n",
              "      <td>828169</td>\n",
              "      <td>38.593074</td>\n",
              "      <td>31.127706</td>\n",
              "      <td>29.316017</td>\n",
              "      <td>35.715729</td>\n",
              "      <td>32.168831</td>\n",
              "      <td>1</td>\n",
              "    </tr>\n",
              "    <tr>\n",
              "      <th>33</th>\n",
              "      <td>Poland</td>\n",
              "      <td>PL</td>\n",
              "      <td>102080</td>\n",
              "      <td>40.927395</td>\n",
              "      <td>31.188124</td>\n",
              "      <td>27.186128</td>\n",
              "      <td>33.890469</td>\n",
              "      <td>32.611776</td>\n",
              "      <td>1</td>\n",
              "    </tr>\n",
              "    <tr>\n",
              "      <th>34</th>\n",
              "      <td>Portugal</td>\n",
              "      <td>PT</td>\n",
              "      <td>79885</td>\n",
              "      <td>39.697506</td>\n",
              "      <td>31.839456</td>\n",
              "      <td>26.829932</td>\n",
              "      <td>36.285261</td>\n",
              "      <td>31.443537</td>\n",
              "      <td>1</td>\n",
              "    </tr>\n",
              "    <tr>\n",
              "      <th>35</th>\n",
              "      <td>Republic of Korea</td>\n",
              "      <td>KR</td>\n",
              "      <td>24239</td>\n",
              "      <td>38.384397</td>\n",
              "      <td>32.177305</td>\n",
              "      <td>29.107801</td>\n",
              "      <td>35.635461</td>\n",
              "      <td>30.848227</td>\n",
              "      <td>1</td>\n",
              "    </tr>\n",
              "    <tr>\n",
              "      <th>36</th>\n",
              "      <td>Romania</td>\n",
              "      <td>RO</td>\n",
              "      <td>137491</td>\n",
              "      <td>40.141659</td>\n",
              "      <td>32.501947</td>\n",
              "      <td>28.816113</td>\n",
              "      <td>35.738544</td>\n",
              "      <td>31.195867</td>\n",
              "      <td>1</td>\n",
              "    </tr>\n",
              "    <tr>\n",
              "      <th>37</th>\n",
              "      <td>Russian Federation</td>\n",
              "      <td>RU</td>\n",
              "      <td>1237504</td>\n",
              "      <td>38.984588</td>\n",
              "      <td>32.153415</td>\n",
              "      <td>27.929247</td>\n",
              "      <td>34.610508</td>\n",
              "      <td>32.576182</td>\n",
              "      <td>1</td>\n",
              "    </tr>\n",
              "    <tr>\n",
              "      <th>38</th>\n",
              "      <td>Serbia</td>\n",
              "      <td>RS</td>\n",
              "      <td>33952</td>\n",
              "      <td>40.856000</td>\n",
              "      <td>33.075429</td>\n",
              "      <td>29.213714</td>\n",
              "      <td>36.137714</td>\n",
              "      <td>31.032571</td>\n",
              "      <td>1</td>\n",
              "    </tr>\n",
              "    <tr>\n",
              "      <th>46</th>\n",
              "      <td>Turkey</td>\n",
              "      <td>TR</td>\n",
              "      <td>326046</td>\n",
              "      <td>39.706407</td>\n",
              "      <td>33.132603</td>\n",
              "      <td>29.231549</td>\n",
              "      <td>36.029197</td>\n",
              "      <td>32.375912</td>\n",
              "      <td>1</td>\n",
              "    </tr>\n",
              "  </tbody>\n",
              "</table>\n",
              "</div>"
            ],
            "text/plain": [
              "               Country Code  New_cases  ...        AGR        EST  label\n",
              "0            Argentina   AR     798486  ...  36.416248  32.381431      1\n",
              "4               Brazil   BR    4915289  ...  34.946725  31.545703      1\n",
              "5             Bulgaria   BG      21870  ...  35.624101  31.051259      1\n",
              "7                Chile   CL     471746  ...  36.999457  31.738871      1\n",
              "9             Colombia   CO     855052  ...  35.873874  31.959626      1\n",
              "10             Croatia   HR      17797  ...  35.797996  30.574367      1\n",
              "11             Czechia   CZ      85566  ...  35.527954  31.287032      1\n",
              "13             Finland   FI      10702  ...  35.145525  31.083528      1\n",
              "14              France   FR     598058  ...  36.968964  31.292444      1\n",
              "15             Germany   DE     303258  ...  36.261473  30.133023      1\n",
              "16              Greece   GR      20142  ...  36.713613  33.069242      1\n",
              "17             Hungary   HU      32298  ...  35.700303  31.202580      1\n",
              "22               Italy   IT     327586  ...  36.770291  32.185955      1\n",
              "26              Mexico   MX     761665  ...  35.713388  31.896901      1\n",
              "31                Peru   PE     828169  ...  35.715729  32.168831      1\n",
              "33              Poland   PL     102080  ...  33.890469  32.611776      1\n",
              "34            Portugal   PT      79885  ...  36.285261  31.443537      1\n",
              "35   Republic of Korea   KR      24239  ...  35.635461  30.848227      1\n",
              "36             Romania   RO     137491  ...  35.738544  31.195867      1\n",
              "37  Russian Federation   RU    1237504  ...  34.610508  32.576182      1\n",
              "38              Serbia   RS      33952  ...  36.137714  31.032571      1\n",
              "46              Turkey   TR     326046  ...  36.029197  32.375912      1\n",
              "\n",
              "[22 rows x 9 columns]"
            ]
          },
          "metadata": {
            "tags": []
          },
          "execution_count": 29
        }
      ]
    },
    {
      "cell_type": "code",
      "metadata": {
        "id": "Varhlz5JxsTx",
        "outputId": "a80b0315-30c2-441b-c1d2-7957ac7a2fbe",
        "colab": {
          "base_uri": "https://localhost:8080/",
          "height": 421
        }
      },
      "source": [
        "df_covid.loc[df_covid.label == 2]"
      ],
      "execution_count": 30,
      "outputs": [
        {
          "output_type": "execute_result",
          "data": {
            "text/html": [
              "<div>\n",
              "<style scoped>\n",
              "    .dataframe tbody tr th:only-of-type {\n",
              "        vertical-align: middle;\n",
              "    }\n",
              "\n",
              "    .dataframe tbody tr th {\n",
              "        vertical-align: top;\n",
              "    }\n",
              "\n",
              "    .dataframe thead th {\n",
              "        text-align: right;\n",
              "    }\n",
              "</style>\n",
              "<table border=\"1\" class=\"dataframe\">\n",
              "  <thead>\n",
              "    <tr style=\"text-align: right;\">\n",
              "      <th></th>\n",
              "      <th>Country</th>\n",
              "      <th>Code</th>\n",
              "      <th>New_cases</th>\n",
              "      <th>OPN</th>\n",
              "      <th>CSN</th>\n",
              "      <th>EXT</th>\n",
              "      <th>AGR</th>\n",
              "      <th>EST</th>\n",
              "      <th>label</th>\n",
              "    </tr>\n",
              "  </thead>\n",
              "  <tbody>\n",
              "    <tr>\n",
              "      <th>8</th>\n",
              "      <td>China</td>\n",
              "      <td>CN</td>\n",
              "      <td>91170</td>\n",
              "      <td>36.453737</td>\n",
              "      <td>33.510676</td>\n",
              "      <td>30.095196</td>\n",
              "      <td>37.660142</td>\n",
              "      <td>29.822954</td>\n",
              "      <td>2</td>\n",
              "    </tr>\n",
              "    <tr>\n",
              "      <th>18</th>\n",
              "      <td>India</td>\n",
              "      <td>IN</td>\n",
              "      <td>6685082</td>\n",
              "      <td>37.675013</td>\n",
              "      <td>34.043672</td>\n",
              "      <td>30.108281</td>\n",
              "      <td>37.456148</td>\n",
              "      <td>30.925174</td>\n",
              "      <td>2</td>\n",
              "    </tr>\n",
              "    <tr>\n",
              "      <th>19</th>\n",
              "      <td>Indonesia</td>\n",
              "      <td>ID</td>\n",
              "      <td>307120</td>\n",
              "      <td>37.138058</td>\n",
              "      <td>32.897995</td>\n",
              "      <td>27.954625</td>\n",
              "      <td>35.891664</td>\n",
              "      <td>31.709989</td>\n",
              "      <td>2</td>\n",
              "    </tr>\n",
              "    <tr>\n",
              "      <th>23</th>\n",
              "      <td>Japan</td>\n",
              "      <td>JP</td>\n",
              "      <td>86047</td>\n",
              "      <td>38.216888</td>\n",
              "      <td>32.449971</td>\n",
              "      <td>29.534991</td>\n",
              "      <td>36.128976</td>\n",
              "      <td>30.325043</td>\n",
              "      <td>2</td>\n",
              "    </tr>\n",
              "    <tr>\n",
              "      <th>25</th>\n",
              "      <td>Malaysia</td>\n",
              "      <td>MY</td>\n",
              "      <td>12813</td>\n",
              "      <td>34.485457</td>\n",
              "      <td>33.113003</td>\n",
              "      <td>28.601095</td>\n",
              "      <td>36.270903</td>\n",
              "      <td>31.720381</td>\n",
              "      <td>2</td>\n",
              "    </tr>\n",
              "    <tr>\n",
              "      <th>28</th>\n",
              "      <td>New Zealand</td>\n",
              "      <td>NZ</td>\n",
              "      <td>1502</td>\n",
              "      <td>37.840518</td>\n",
              "      <td>33.105907</td>\n",
              "      <td>30.304062</td>\n",
              "      <td>37.408018</td>\n",
              "      <td>30.304683</td>\n",
              "      <td>2</td>\n",
              "    </tr>\n",
              "    <tr>\n",
              "      <th>30</th>\n",
              "      <td>Pakistan</td>\n",
              "      <td>PK</td>\n",
              "      <td>315260</td>\n",
              "      <td>36.418073</td>\n",
              "      <td>34.409074</td>\n",
              "      <td>30.096363</td>\n",
              "      <td>38.664417</td>\n",
              "      <td>31.778403</td>\n",
              "      <td>2</td>\n",
              "    </tr>\n",
              "    <tr>\n",
              "      <th>32</th>\n",
              "      <td>Philippines</td>\n",
              "      <td>PH</td>\n",
              "      <td>324762</td>\n",
              "      <td>36.259472</td>\n",
              "      <td>34.214388</td>\n",
              "      <td>28.235612</td>\n",
              "      <td>36.492746</td>\n",
              "      <td>32.128897</td>\n",
              "      <td>2</td>\n",
              "    </tr>\n",
              "    <tr>\n",
              "      <th>39</th>\n",
              "      <td>Singapore</td>\n",
              "      <td>SG</td>\n",
              "      <td>57819</td>\n",
              "      <td>36.591807</td>\n",
              "      <td>33.079186</td>\n",
              "      <td>28.391894</td>\n",
              "      <td>36.836146</td>\n",
              "      <td>31.158806</td>\n",
              "      <td>2</td>\n",
              "    </tr>\n",
              "    <tr>\n",
              "      <th>44</th>\n",
              "      <td>Thailand</td>\n",
              "      <td>TH</td>\n",
              "      <td>3600</td>\n",
              "      <td>36.688630</td>\n",
              "      <td>33.443732</td>\n",
              "      <td>29.647230</td>\n",
              "      <td>36.282799</td>\n",
              "      <td>29.543440</td>\n",
              "      <td>2</td>\n",
              "    </tr>\n",
              "    <tr>\n",
              "      <th>47</th>\n",
              "      <td>United Arab Emirates</td>\n",
              "      <td>AE</td>\n",
              "      <td>99733</td>\n",
              "      <td>37.639791</td>\n",
              "      <td>34.032090</td>\n",
              "      <td>30.261933</td>\n",
              "      <td>37.917770</td>\n",
              "      <td>31.475732</td>\n",
              "      <td>2</td>\n",
              "    </tr>\n",
              "    <tr>\n",
              "      <th>49</th>\n",
              "      <td>Viet Nam</td>\n",
              "      <td>VN</td>\n",
              "      <td>1097</td>\n",
              "      <td>36.272773</td>\n",
              "      <td>32.327828</td>\n",
              "      <td>27.676677</td>\n",
              "      <td>35.792793</td>\n",
              "      <td>31.590591</td>\n",
              "      <td>2</td>\n",
              "    </tr>\n",
              "  </tbody>\n",
              "</table>\n",
              "</div>"
            ],
            "text/plain": [
              "                 Country Code  New_cases  ...        AGR        EST  label\n",
              "8                  China   CN      91170  ...  37.660142  29.822954      2\n",
              "18                 India   IN    6685082  ...  37.456148  30.925174      2\n",
              "19             Indonesia   ID     307120  ...  35.891664  31.709989      2\n",
              "23                 Japan   JP      86047  ...  36.128976  30.325043      2\n",
              "25              Malaysia   MY      12813  ...  36.270903  31.720381      2\n",
              "28           New Zealand   NZ       1502  ...  37.408018  30.304683      2\n",
              "30              Pakistan   PK     315260  ...  38.664417  31.778403      2\n",
              "32           Philippines   PH     324762  ...  36.492746  32.128897      2\n",
              "39             Singapore   SG      57819  ...  36.836146  31.158806      2\n",
              "44              Thailand   TH       3600  ...  36.282799  29.543440      2\n",
              "47  United Arab Emirates   AE      99733  ...  37.917770  31.475732      2\n",
              "49              Viet Nam   VN       1097  ...  35.792793  31.590591      2\n",
              "\n",
              "[12 rows x 9 columns]"
            ]
          },
          "metadata": {
            "tags": []
          },
          "execution_count": 30
        }
      ]
    },
    {
      "cell_type": "code",
      "metadata": {
        "id": "2_1owttZhXmY"
      },
      "source": [
        "# 결과가 좋지 않음 지나치게 outlier 인 미국과 인도를 빼자\n",
        "i = df_covid.loc[(df_covid.Country == 'India') | (df_covid.Country == 'United States of America')].index\n",
        "df_covid.drop(i, inplace=True)"
      ],
      "execution_count": 32,
      "outputs": []
    },
    {
      "cell_type": "code",
      "metadata": {
        "id": "X_ow8KCm1poH",
        "outputId": "356c828e-7533-4163-a0c9-0229a87e665d",
        "colab": {
          "base_uri": "https://localhost:8080/",
          "height": 142
        }
      },
      "source": [
        "# Label 별로 그룹\n",
        "res_df = df_covid.loc[:, ['New_cases', 'label'] + traits ].groupby('label').mean().rename_axis('label').reset_index()\n",
        "res_df = res_df.apply(lambda x: x.round(2))\n",
        "res_df = res_df.sort_values('New_cases', ascending=False).reset_index(drop=True)\n",
        "res_df"
      ],
      "execution_count": 33,
      "outputs": [
        {
          "output_type": "execute_result",
          "data": {
            "text/html": [
              "<div>\n",
              "<style scoped>\n",
              "    .dataframe tbody tr th:only-of-type {\n",
              "        vertical-align: middle;\n",
              "    }\n",
              "\n",
              "    .dataframe tbody tr th {\n",
              "        vertical-align: top;\n",
              "    }\n",
              "\n",
              "    .dataframe thead th {\n",
              "        text-align: right;\n",
              "    }\n",
              "</style>\n",
              "<table border=\"1\" class=\"dataframe\">\n",
              "  <thead>\n",
              "    <tr style=\"text-align: right;\">\n",
              "      <th></th>\n",
              "      <th>label</th>\n",
              "      <th>New_cases</th>\n",
              "      <th>OPN</th>\n",
              "      <th>CSN</th>\n",
              "      <th>EXT</th>\n",
              "      <th>AGR</th>\n",
              "      <th>EST</th>\n",
              "    </tr>\n",
              "  </thead>\n",
              "  <tbody>\n",
              "    <tr>\n",
              "      <th>0</th>\n",
              "      <td>1</td>\n",
              "      <td>544949.14</td>\n",
              "      <td>39.92</td>\n",
              "      <td>32.09</td>\n",
              "      <td>28.54</td>\n",
              "      <td>35.84</td>\n",
              "      <td>31.62</td>\n",
              "    </tr>\n",
              "    <tr>\n",
              "      <th>1</th>\n",
              "      <td>0</td>\n",
              "      <td>202716.53</td>\n",
              "      <td>39.76</td>\n",
              "      <td>33.33</td>\n",
              "      <td>30.00</td>\n",
              "      <td>37.64</td>\n",
              "      <td>30.24</td>\n",
              "    </tr>\n",
              "    <tr>\n",
              "      <th>2</th>\n",
              "      <td>2</td>\n",
              "      <td>118265.73</td>\n",
              "      <td>36.73</td>\n",
              "      <td>33.33</td>\n",
              "      <td>29.16</td>\n",
              "      <td>36.85</td>\n",
              "      <td>31.05</td>\n",
              "    </tr>\n",
              "  </tbody>\n",
              "</table>\n",
              "</div>"
            ],
            "text/plain": [
              "   label  New_cases    OPN    CSN    EXT    AGR    EST\n",
              "0      1  544949.14  39.92  32.09  28.54  35.84  31.62\n",
              "1      0  202716.53  39.76  33.33  30.00  37.64  30.24\n",
              "2      2  118265.73  36.73  33.33  29.16  36.85  31.05"
            ]
          },
          "metadata": {
            "tags": []
          },
          "execution_count": 33
        }
      ]
    },
    {
      "cell_type": "code",
      "metadata": {
        "id": "s61aKJkL4TXI",
        "outputId": "3dda4e73-5adb-40d7-ad6f-19d7927e2797",
        "colab": {
          "base_uri": "https://localhost:8080/",
          "height": 204
        }
      },
      "source": [
        "# filtered country 에 속하지 않은 나라들의 데이터 예측\n",
        "mean_df_no_use['label'] = kmeans.predict(mean_df_no_use.iloc[:,1:])\n",
        "mean_df_no_use.head()"
      ],
      "execution_count": 34,
      "outputs": [
        {
          "output_type": "execute_result",
          "data": {
            "text/html": [
              "<div>\n",
              "<style scoped>\n",
              "    .dataframe tbody tr th:only-of-type {\n",
              "        vertical-align: middle;\n",
              "    }\n",
              "\n",
              "    .dataframe tbody tr th {\n",
              "        vertical-align: top;\n",
              "    }\n",
              "\n",
              "    .dataframe thead th {\n",
              "        text-align: right;\n",
              "    }\n",
              "</style>\n",
              "<table border=\"1\" class=\"dataframe\">\n",
              "  <thead>\n",
              "    <tr style=\"text-align: right;\">\n",
              "      <th></th>\n",
              "      <th>Code</th>\n",
              "      <th>OPN</th>\n",
              "      <th>CSN</th>\n",
              "      <th>EXT</th>\n",
              "      <th>AGR</th>\n",
              "      <th>EST</th>\n",
              "      <th>label</th>\n",
              "    </tr>\n",
              "  </thead>\n",
              "  <tbody>\n",
              "    <tr>\n",
              "      <th>0</th>\n",
              "      <td>CR</td>\n",
              "      <td>39.633028</td>\n",
              "      <td>32.664220</td>\n",
              "      <td>28.759633</td>\n",
              "      <td>35.908257</td>\n",
              "      <td>31.051376</td>\n",
              "      <td>1</td>\n",
              "    </tr>\n",
              "    <tr>\n",
              "      <th>1</th>\n",
              "      <td>EC</td>\n",
              "      <td>38.383138</td>\n",
              "      <td>31.910352</td>\n",
              "      <td>29.119530</td>\n",
              "      <td>35.337247</td>\n",
              "      <td>31.806830</td>\n",
              "      <td>1</td>\n",
              "    </tr>\n",
              "    <tr>\n",
              "      <th>2</th>\n",
              "      <td>EE</td>\n",
              "      <td>38.964045</td>\n",
              "      <td>32.362921</td>\n",
              "      <td>28.283146</td>\n",
              "      <td>35.783146</td>\n",
              "      <td>30.279775</td>\n",
              "      <td>1</td>\n",
              "    </tr>\n",
              "    <tr>\n",
              "      <th>3</th>\n",
              "      <td>EG</td>\n",
              "      <td>37.943890</td>\n",
              "      <td>33.007481</td>\n",
              "      <td>28.480050</td>\n",
              "      <td>36.966334</td>\n",
              "      <td>33.011222</td>\n",
              "      <td>2</td>\n",
              "    </tr>\n",
              "    <tr>\n",
              "      <th>4</th>\n",
              "      <td>IS</td>\n",
              "      <td>39.057728</td>\n",
              "      <td>32.614525</td>\n",
              "      <td>30.225326</td>\n",
              "      <td>37.696462</td>\n",
              "      <td>30.463687</td>\n",
              "      <td>0</td>\n",
              "    </tr>\n",
              "  </tbody>\n",
              "</table>\n",
              "</div>"
            ],
            "text/plain": [
              "  Code        OPN        CSN        EXT        AGR        EST  label\n",
              "0   CR  39.633028  32.664220  28.759633  35.908257  31.051376      1\n",
              "1   EC  38.383138  31.910352  29.119530  35.337247  31.806830      1\n",
              "2   EE  38.964045  32.362921  28.283146  35.783146  30.279775      1\n",
              "3   EG  37.943890  33.007481  28.480050  36.966334  33.011222      2\n",
              "4   IS  39.057728  32.614525  30.225326  37.696462  30.463687      0"
            ]
          },
          "metadata": {
            "tags": []
          },
          "execution_count": 34
        }
      ]
    },
    {
      "cell_type": "code",
      "metadata": {
        "id": "GIvHdnuA-y-6"
      },
      "source": [
        "# Plot"
      ],
      "execution_count": null,
      "outputs": []
    },
    {
      "cell_type": "code",
      "metadata": {
        "id": "XCv4x8cJKdE2",
        "outputId": "a35a5f5d-a0e9-4d48-cc9f-ebd74d37f1e2",
        "colab": {
          "base_uri": "https://localhost:8080/",
          "height": 545
        }
      },
      "source": [
        "# Geometry\n",
        "countries = gpd.read_file('python/99bfd9e7-bb42-4728-87b5-07f8c8ac631c2020328-1-1vef4ev.lu5nk.shp')"
      ],
      "execution_count": 36,
      "outputs": [
        {
          "output_type": "error",
          "ename": "DriverError",
          "evalue": "ignored",
          "traceback": [
            "\u001b[0;31m---------------------------------------------------------------------------\u001b[0m",
            "\u001b[0;31mCPLE_OpenFailedError\u001b[0m                      Traceback (most recent call last)",
            "\u001b[0;32mfiona/_shim.pyx\u001b[0m in \u001b[0;36mfiona._shim.gdal_open_vector\u001b[0;34m()\u001b[0m\n",
            "\u001b[0;32mfiona/_err.pyx\u001b[0m in \u001b[0;36mfiona._err.exc_wrap_pointer\u001b[0;34m()\u001b[0m\n",
            "\u001b[0;31mCPLE_OpenFailedError\u001b[0m: python/99bfd9e7-bb42-4728-87b5-07f8c8ac631c2020328-1-1vef4ev.lu5nk.shp: No such file or directory",
            "\nDuring handling of the above exception, another exception occurred:\n",
            "\u001b[0;31mDriverError\u001b[0m                               Traceback (most recent call last)",
            "\u001b[0;32m<ipython-input-36-ffe4edec3ced>\u001b[0m in \u001b[0;36m<module>\u001b[0;34m()\u001b[0m\n\u001b[1;32m      1\u001b[0m \u001b[0;31m# Geometry\u001b[0m\u001b[0;34m\u001b[0m\u001b[0;34m\u001b[0m\u001b[0;34m\u001b[0m\u001b[0m\n\u001b[0;32m----> 2\u001b[0;31m \u001b[0mcountries\u001b[0m \u001b[0;34m=\u001b[0m \u001b[0mgpd\u001b[0m\u001b[0;34m.\u001b[0m\u001b[0mread_file\u001b[0m\u001b[0;34m(\u001b[0m\u001b[0;34m'python/99bfd9e7-bb42-4728-87b5-07f8c8ac631c2020328-1-1vef4ev.lu5nk.shp'\u001b[0m\u001b[0;34m)\u001b[0m\u001b[0;34m\u001b[0m\u001b[0;34m\u001b[0m\u001b[0m\n\u001b[0m",
            "\u001b[0;32m/usr/local/lib/python3.6/dist-packages/geopandas/io/file.py\u001b[0m in \u001b[0;36m_read_file\u001b[0;34m(filename, bbox, mask, rows, **kwargs)\u001b[0m\n\u001b[1;32m    123\u001b[0m \u001b[0;34m\u001b[0m\u001b[0m\n\u001b[1;32m    124\u001b[0m     \u001b[0;32mwith\u001b[0m \u001b[0mfiona_env\u001b[0m\u001b[0;34m(\u001b[0m\u001b[0;34m)\u001b[0m\u001b[0;34m:\u001b[0m\u001b[0;34m\u001b[0m\u001b[0;34m\u001b[0m\u001b[0m\n\u001b[0;32m--> 125\u001b[0;31m         \u001b[0;32mwith\u001b[0m \u001b[0mreader\u001b[0m\u001b[0;34m(\u001b[0m\u001b[0mpath_or_bytes\u001b[0m\u001b[0;34m,\u001b[0m \u001b[0;34m**\u001b[0m\u001b[0mkwargs\u001b[0m\u001b[0;34m)\u001b[0m \u001b[0;32mas\u001b[0m \u001b[0mfeatures\u001b[0m\u001b[0;34m:\u001b[0m\u001b[0;34m\u001b[0m\u001b[0;34m\u001b[0m\u001b[0m\n\u001b[0m\u001b[1;32m    126\u001b[0m \u001b[0;34m\u001b[0m\u001b[0m\n\u001b[1;32m    127\u001b[0m             \u001b[0;31m# In a future Fiona release the crs attribute of features will\u001b[0m\u001b[0;34m\u001b[0m\u001b[0;34m\u001b[0m\u001b[0;34m\u001b[0m\u001b[0m\n",
            "\u001b[0;32m/usr/local/lib/python3.6/dist-packages/fiona/env.py\u001b[0m in \u001b[0;36mwrapper\u001b[0;34m(*args, **kwargs)\u001b[0m\n\u001b[1;32m    398\u001b[0m     \u001b[0;32mdef\u001b[0m \u001b[0mwrapper\u001b[0m\u001b[0;34m(\u001b[0m\u001b[0;34m*\u001b[0m\u001b[0margs\u001b[0m\u001b[0;34m,\u001b[0m \u001b[0;34m**\u001b[0m\u001b[0mkwargs\u001b[0m\u001b[0;34m)\u001b[0m\u001b[0;34m:\u001b[0m\u001b[0;34m\u001b[0m\u001b[0;34m\u001b[0m\u001b[0m\n\u001b[1;32m    399\u001b[0m         \u001b[0;32mif\u001b[0m \u001b[0mlocal\u001b[0m\u001b[0;34m.\u001b[0m\u001b[0m_env\u001b[0m\u001b[0;34m:\u001b[0m\u001b[0;34m\u001b[0m\u001b[0;34m\u001b[0m\u001b[0m\n\u001b[0;32m--> 400\u001b[0;31m             \u001b[0;32mreturn\u001b[0m \u001b[0mf\u001b[0m\u001b[0;34m(\u001b[0m\u001b[0;34m*\u001b[0m\u001b[0margs\u001b[0m\u001b[0;34m,\u001b[0m \u001b[0;34m**\u001b[0m\u001b[0mkwargs\u001b[0m\u001b[0;34m)\u001b[0m\u001b[0;34m\u001b[0m\u001b[0;34m\u001b[0m\u001b[0m\n\u001b[0m\u001b[1;32m    401\u001b[0m         \u001b[0;32melse\u001b[0m\u001b[0;34m:\u001b[0m\u001b[0;34m\u001b[0m\u001b[0;34m\u001b[0m\u001b[0m\n\u001b[1;32m    402\u001b[0m             \u001b[0;32mif\u001b[0m \u001b[0misinstance\u001b[0m\u001b[0;34m(\u001b[0m\u001b[0margs\u001b[0m\u001b[0;34m[\u001b[0m\u001b[0;36m0\u001b[0m\u001b[0;34m]\u001b[0m\u001b[0;34m,\u001b[0m \u001b[0mstr\u001b[0m\u001b[0;34m)\u001b[0m\u001b[0;34m:\u001b[0m\u001b[0;34m\u001b[0m\u001b[0;34m\u001b[0m\u001b[0m\n",
            "\u001b[0;32m/usr/local/lib/python3.6/dist-packages/fiona/__init__.py\u001b[0m in \u001b[0;36mopen\u001b[0;34m(fp, mode, driver, schema, crs, encoding, layer, vfs, enabled_drivers, crs_wkt, **kwargs)\u001b[0m\n\u001b[1;32m    255\u001b[0m         \u001b[0;32mif\u001b[0m \u001b[0mmode\u001b[0m \u001b[0;32min\u001b[0m \u001b[0;34m(\u001b[0m\u001b[0;34m'a'\u001b[0m\u001b[0;34m,\u001b[0m \u001b[0;34m'r'\u001b[0m\u001b[0;34m)\u001b[0m\u001b[0;34m:\u001b[0m\u001b[0;34m\u001b[0m\u001b[0;34m\u001b[0m\u001b[0m\n\u001b[1;32m    256\u001b[0m             c = Collection(path, mode, driver=driver, encoding=encoding,\n\u001b[0;32m--> 257\u001b[0;31m                            layer=layer, enabled_drivers=enabled_drivers, **kwargs)\n\u001b[0m\u001b[1;32m    258\u001b[0m         \u001b[0;32melif\u001b[0m \u001b[0mmode\u001b[0m \u001b[0;34m==\u001b[0m \u001b[0;34m'w'\u001b[0m\u001b[0;34m:\u001b[0m\u001b[0;34m\u001b[0m\u001b[0;34m\u001b[0m\u001b[0m\n\u001b[1;32m    259\u001b[0m             \u001b[0;32mif\u001b[0m \u001b[0mschema\u001b[0m\u001b[0;34m:\u001b[0m\u001b[0;34m\u001b[0m\u001b[0;34m\u001b[0m\u001b[0m\n",
            "\u001b[0;32m/usr/local/lib/python3.6/dist-packages/fiona/collection.py\u001b[0m in \u001b[0;36m__init__\u001b[0;34m(self, path, mode, driver, schema, crs, encoding, layer, vsi, archive, enabled_drivers, crs_wkt, ignore_fields, ignore_geometry, **kwargs)\u001b[0m\n\u001b[1;32m    162\u001b[0m             \u001b[0;32mif\u001b[0m \u001b[0mself\u001b[0m\u001b[0;34m.\u001b[0m\u001b[0mmode\u001b[0m \u001b[0;34m==\u001b[0m \u001b[0;34m'r'\u001b[0m\u001b[0;34m:\u001b[0m\u001b[0;34m\u001b[0m\u001b[0;34m\u001b[0m\u001b[0m\n\u001b[1;32m    163\u001b[0m                 \u001b[0mself\u001b[0m\u001b[0;34m.\u001b[0m\u001b[0msession\u001b[0m \u001b[0;34m=\u001b[0m \u001b[0mSession\u001b[0m\u001b[0;34m(\u001b[0m\u001b[0;34m)\u001b[0m\u001b[0;34m\u001b[0m\u001b[0;34m\u001b[0m\u001b[0m\n\u001b[0;32m--> 164\u001b[0;31m                 \u001b[0mself\u001b[0m\u001b[0;34m.\u001b[0m\u001b[0msession\u001b[0m\u001b[0;34m.\u001b[0m\u001b[0mstart\u001b[0m\u001b[0;34m(\u001b[0m\u001b[0mself\u001b[0m\u001b[0;34m,\u001b[0m \u001b[0;34m**\u001b[0m\u001b[0mkwargs\u001b[0m\u001b[0;34m)\u001b[0m\u001b[0;34m\u001b[0m\u001b[0;34m\u001b[0m\u001b[0m\n\u001b[0m\u001b[1;32m    165\u001b[0m             \u001b[0;32melif\u001b[0m \u001b[0mself\u001b[0m\u001b[0;34m.\u001b[0m\u001b[0mmode\u001b[0m \u001b[0;32min\u001b[0m \u001b[0;34m(\u001b[0m\u001b[0;34m'a'\u001b[0m\u001b[0;34m,\u001b[0m \u001b[0;34m'w'\u001b[0m\u001b[0;34m)\u001b[0m\u001b[0;34m:\u001b[0m\u001b[0;34m\u001b[0m\u001b[0;34m\u001b[0m\u001b[0m\n\u001b[1;32m    166\u001b[0m                 \u001b[0mself\u001b[0m\u001b[0;34m.\u001b[0m\u001b[0msession\u001b[0m \u001b[0;34m=\u001b[0m \u001b[0mWritingSession\u001b[0m\u001b[0;34m(\u001b[0m\u001b[0;34m)\u001b[0m\u001b[0;34m\u001b[0m\u001b[0;34m\u001b[0m\u001b[0m\n",
            "\u001b[0;32mfiona/ogrext.pyx\u001b[0m in \u001b[0;36mfiona.ogrext.Session.start\u001b[0;34m()\u001b[0m\n",
            "\u001b[0;32mfiona/_shim.pyx\u001b[0m in \u001b[0;36mfiona._shim.gdal_open_vector\u001b[0;34m()\u001b[0m\n",
            "\u001b[0;31mDriverError\u001b[0m: python/99bfd9e7-bb42-4728-87b5-07f8c8ac631c2020328-1-1vef4ev.lu5nk.shp: No such file or directory"
          ]
        }
      ]
    },
    {
      "cell_type": "code",
      "metadata": {
        "id": "p3KkX7-gUOE_",
        "outputId": "661cd18c-8ebd-4fa5-dbe0-35d0f56240d9",
        "colab": {
          "base_uri": "https://localhost:8080/",
          "height": 111
        }
      },
      "source": [
        "countries.head(2)"
      ],
      "execution_count": null,
      "outputs": [
        {
          "output_type": "execute_result",
          "data": {
            "text/html": [
              "<div>\n",
              "<style scoped>\n",
              "    .dataframe tbody tr th:only-of-type {\n",
              "        vertical-align: middle;\n",
              "    }\n",
              "\n",
              "    .dataframe tbody tr th {\n",
              "        vertical-align: top;\n",
              "    }\n",
              "\n",
              "    .dataframe thead th {\n",
              "        text-align: right;\n",
              "    }\n",
              "</style>\n",
              "<table border=\"1\" class=\"dataframe\">\n",
              "  <thead>\n",
              "    <tr style=\"text-align: right;\">\n",
              "      <th></th>\n",
              "      <th>OBJECTID</th>\n",
              "      <th>CNTRY_NAME</th>\n",
              "      <th>geometry</th>\n",
              "    </tr>\n",
              "  </thead>\n",
              "  <tbody>\n",
              "    <tr>\n",
              "      <th>0</th>\n",
              "      <td>1</td>\n",
              "      <td>Aruba</td>\n",
              "      <td>POLYGON ((-69.88223 12.41111, -69.94695 12.436...</td>\n",
              "    </tr>\n",
              "    <tr>\n",
              "      <th>1</th>\n",
              "      <td>2</td>\n",
              "      <td>Antigua and Barbuda</td>\n",
              "      <td>MULTIPOLYGON (((-61.73889 17.54055, -61.75195 ...</td>\n",
              "    </tr>\n",
              "  </tbody>\n",
              "</table>\n",
              "</div>"
            ],
            "text/plain": [
              "   OBJECTID  ...                                           geometry\n",
              "0         1  ...  POLYGON ((-69.88223 12.41111, -69.94695 12.436...\n",
              "1         2  ...  MULTIPOLYGON (((-61.73889 17.54055, -61.75195 ...\n",
              "\n",
              "[2 rows x 3 columns]"
            ]
          },
          "metadata": {
            "tags": []
          },
          "execution_count": 36
        }
      ]
    },
    {
      "cell_type": "code",
      "metadata": {
        "id": "X-KirqCpXB03",
        "outputId": "0d15df04-e93e-4e1d-8c58-0adfa12fe565",
        "colab": {
          "base_uri": "https://localhost:8080/",
          "height": 111
        }
      },
      "source": [
        "corona_df.head(2)"
      ],
      "execution_count": null,
      "outputs": [
        {
          "output_type": "execute_result",
          "data": {
            "text/html": [
              "<div>\n",
              "<style scoped>\n",
              "    .dataframe tbody tr th:only-of-type {\n",
              "        vertical-align: middle;\n",
              "    }\n",
              "\n",
              "    .dataframe tbody tr th {\n",
              "        vertical-align: top;\n",
              "    }\n",
              "\n",
              "    .dataframe thead th {\n",
              "        text-align: right;\n",
              "    }\n",
              "</style>\n",
              "<table border=\"1\" class=\"dataframe\">\n",
              "  <thead>\n",
              "    <tr style=\"text-align: right;\">\n",
              "      <th></th>\n",
              "      <th>Date_reported</th>\n",
              "      <th>Country_code</th>\n",
              "      <th>Country</th>\n",
              "      <th>WHO_region</th>\n",
              "      <th>New_cases</th>\n",
              "      <th>Cumulative_cases</th>\n",
              "      <th>New_deaths</th>\n",
              "      <th>Cumulative_deaths</th>\n",
              "    </tr>\n",
              "  </thead>\n",
              "  <tbody>\n",
              "    <tr>\n",
              "      <th>0</th>\n",
              "      <td>2020-01-03</td>\n",
              "      <td>AF</td>\n",
              "      <td>Afghanistan</td>\n",
              "      <td>EMRO</td>\n",
              "      <td>0</td>\n",
              "      <td>0</td>\n",
              "      <td>0</td>\n",
              "      <td>0</td>\n",
              "    </tr>\n",
              "    <tr>\n",
              "      <th>1</th>\n",
              "      <td>2020-01-04</td>\n",
              "      <td>AF</td>\n",
              "      <td>Afghanistan</td>\n",
              "      <td>EMRO</td>\n",
              "      <td>0</td>\n",
              "      <td>0</td>\n",
              "      <td>0</td>\n",
              "      <td>0</td>\n",
              "    </tr>\n",
              "  </tbody>\n",
              "</table>\n",
              "</div>"
            ],
            "text/plain": [
              "  Date_reported Country_code  ... New_deaths Cumulative_deaths\n",
              "0    2020-01-03           AF  ...          0                 0\n",
              "1    2020-01-04           AF  ...          0                 0\n",
              "\n",
              "[2 rows x 8 columns]"
            ]
          },
          "metadata": {
            "tags": []
          },
          "execution_count": 37
        }
      ]
    },
    {
      "cell_type": "code",
      "metadata": {
        "id": "3ULB58_hWDBP"
      },
      "source": [
        "# 열 이름 통일\n",
        "countries = countries.rename(columns={'CNTRY_NAME': 'Country'})"
      ],
      "execution_count": null,
      "outputs": []
    },
    {
      "cell_type": "code",
      "metadata": {
        "id": "Pu9dbpDrWYox"
      },
      "source": [
        "corona_df = corona_df[corona_df.New_cases != 0]"
      ],
      "execution_count": null,
      "outputs": []
    },
    {
      "cell_type": "code",
      "metadata": {
        "id": "FDi1ENB2hnlA"
      },
      "source": [
        "corona_df = corona_df.replace({'Country' : 'Republic of Korea'}, 'South Korea')\n",
        "\n",
        "corona_df = corona_df.replace({'Country' : 'United States of America'}, 'United States')\n",
        "\n",
        "corona_df = corona_df.replace({'Country' : 'Venezuela (Bolivarian Republic of)'}, 'Venezuela')\n",
        "\n",
        "corona_df = corona_df.replace({'Country' : 'Bolivia (Plurinational State of)'}, 'Bolivia')\n",
        "\n",
        "corona_df = corona_df.replace({'Country' : 'Russian Federation'}, 'Russia')\n",
        "\n",
        "corona_df = corona_df.replace({'Country' : 'Iran (Islamic Republic of)'}, 'Iran')\n",
        "\n",
        "corona_df = corona_df.replace({'Country' : 'Viet Nam'}, 'Vietnam')\n",
        "\n",
        "corona_df = corona_df.replace({'Country' : \"Lao People's Democratic Republic\"}, 'Laos')\n",
        "\n",
        "corona_df = corona_df.replace({'Country' : \"Syrian Arab Republic\"}, 'Syria')\n",
        "\n",
        "corona_df = corona_df.replace({'Country' : \"United Republic of Tanzania\"}, 'Tanzania')\n",
        "\n",
        "corona_df = corona_df.replace({'Country' : \"Democratic Republic of the Congo\"}, 'Congo')\n",
        "\n",
        "corona_df = corona_df.replace({'Country' : \n",
        "                      dict.fromkeys(['Taiwan', \n",
        "                                     'Mainland China', \n",
        "                                     'Hong Kong', \n",
        "                                     'Macau'], \n",
        "                                     'China')})\n",
        "corona_df = corona_df.replace({'Country' : 'The United Kingdom'}, \n",
        "                                'United Kingdom')\n",
        "corona_df = corona_df.replace({'Country' : 'North Ireland'}, \n",
        "                                'United Kingdom')\n",
        "corona_df = corona_df.replace({'Country' : 'Republic of Ireland'}, \n",
        "                                'Ireland')\n",
        "corona_df = corona_df.replace({'Country' : 'Vatican City'}, \n",
        "                                'Italy')\n",
        "countries = countries.replace({'Country' : 'Byelarus'}, \n",
        "                               'Belarus')\n",
        "countries = countries.replace({'Country' : 'Macedonia'}, \n",
        "                               'North Macedonia')\n",
        "countries = countries.replace({'Country' : 'Myanmar (Burma)'}, \n",
        "                               'Myanmar')\n",
        "countries = countries.replace({'Country' : 'Tanzania, United Republic of'}, \n",
        "                               'Tanzania')"
      ],
      "execution_count": null,
      "outputs": []
    },
    {
      "cell_type": "code",
      "metadata": {
        "id": "7lIB4xIqW9HZ",
        "outputId": "605c04ea-9e8a-4c19-c1b1-24037e1eb016",
        "colab": {
          "base_uri": "https://localhost:8080/",
          "height": 111
        }
      },
      "source": [
        "sorted_df = corona_df.sort_values(['Country', \n",
        "                     'Date_reported']).reset_index(drop=True)\n",
        "sorted_df.head(2)                     "
      ],
      "execution_count": null,
      "outputs": [
        {
          "output_type": "execute_result",
          "data": {
            "text/html": [
              "<div>\n",
              "<style scoped>\n",
              "    .dataframe tbody tr th:only-of-type {\n",
              "        vertical-align: middle;\n",
              "    }\n",
              "\n",
              "    .dataframe tbody tr th {\n",
              "        vertical-align: top;\n",
              "    }\n",
              "\n",
              "    .dataframe thead th {\n",
              "        text-align: right;\n",
              "    }\n",
              "</style>\n",
              "<table border=\"1\" class=\"dataframe\">\n",
              "  <thead>\n",
              "    <tr style=\"text-align: right;\">\n",
              "      <th></th>\n",
              "      <th>Date_reported</th>\n",
              "      <th>Country_code</th>\n",
              "      <th>Country</th>\n",
              "      <th>WHO_region</th>\n",
              "      <th>New_cases</th>\n",
              "      <th>Cumulative_cases</th>\n",
              "      <th>New_deaths</th>\n",
              "      <th>Cumulative_deaths</th>\n",
              "    </tr>\n",
              "  </thead>\n",
              "  <tbody>\n",
              "    <tr>\n",
              "      <th>0</th>\n",
              "      <td>2020-02-24</td>\n",
              "      <td>AF</td>\n",
              "      <td>Afghanistan</td>\n",
              "      <td>EMRO</td>\n",
              "      <td>5</td>\n",
              "      <td>5</td>\n",
              "      <td>0</td>\n",
              "      <td>0</td>\n",
              "    </tr>\n",
              "    <tr>\n",
              "      <th>1</th>\n",
              "      <td>2020-03-07</td>\n",
              "      <td>AF</td>\n",
              "      <td>Afghanistan</td>\n",
              "      <td>EMRO</td>\n",
              "      <td>3</td>\n",
              "      <td>8</td>\n",
              "      <td>0</td>\n",
              "      <td>0</td>\n",
              "    </tr>\n",
              "  </tbody>\n",
              "</table>\n",
              "</div>"
            ],
            "text/plain": [
              "  Date_reported Country_code  ... New_deaths Cumulative_deaths\n",
              "0    2020-02-24           AF  ...          0                 0\n",
              "1    2020-03-07           AF  ...          0                 0\n",
              "\n",
              "[2 rows x 8 columns]"
            ]
          },
          "metadata": {
            "tags": []
          },
          "execution_count": 42
        }
      ]
    },
    {
      "cell_type": "code",
      "metadata": {
        "id": "mvup8Vu2XMO-",
        "outputId": "ebd05932-8894-4c36-908c-e235f2d41014",
        "colab": {
          "base_uri": "https://localhost:8080/",
          "height": 204
        }
      },
      "source": [
        "sum_df = sorted_df.groupby(['Country', 'Date_reported'], as_index=False).sum()\n",
        "sum_df.head()"
      ],
      "execution_count": null,
      "outputs": [
        {
          "output_type": "execute_result",
          "data": {
            "text/html": [
              "<div>\n",
              "<style scoped>\n",
              "    .dataframe tbody tr th:only-of-type {\n",
              "        vertical-align: middle;\n",
              "    }\n",
              "\n",
              "    .dataframe tbody tr th {\n",
              "        vertical-align: top;\n",
              "    }\n",
              "\n",
              "    .dataframe thead th {\n",
              "        text-align: right;\n",
              "    }\n",
              "</style>\n",
              "<table border=\"1\" class=\"dataframe\">\n",
              "  <thead>\n",
              "    <tr style=\"text-align: right;\">\n",
              "      <th></th>\n",
              "      <th>Country</th>\n",
              "      <th>Date_reported</th>\n",
              "      <th>New_cases</th>\n",
              "      <th>Cumulative_cases</th>\n",
              "      <th>New_deaths</th>\n",
              "      <th>Cumulative_deaths</th>\n",
              "    </tr>\n",
              "  </thead>\n",
              "  <tbody>\n",
              "    <tr>\n",
              "      <th>0</th>\n",
              "      <td>Afghanistan</td>\n",
              "      <td>2020-02-24</td>\n",
              "      <td>5</td>\n",
              "      <td>5</td>\n",
              "      <td>0</td>\n",
              "      <td>0</td>\n",
              "    </tr>\n",
              "    <tr>\n",
              "      <th>1</th>\n",
              "      <td>Afghanistan</td>\n",
              "      <td>2020-03-07</td>\n",
              "      <td>3</td>\n",
              "      <td>8</td>\n",
              "      <td>0</td>\n",
              "      <td>0</td>\n",
              "    </tr>\n",
              "    <tr>\n",
              "      <th>2</th>\n",
              "      <td>Afghanistan</td>\n",
              "      <td>2020-03-11</td>\n",
              "      <td>3</td>\n",
              "      <td>11</td>\n",
              "      <td>0</td>\n",
              "      <td>0</td>\n",
              "    </tr>\n",
              "    <tr>\n",
              "      <th>3</th>\n",
              "      <td>Afghanistan</td>\n",
              "      <td>2020-03-14</td>\n",
              "      <td>3</td>\n",
              "      <td>14</td>\n",
              "      <td>0</td>\n",
              "      <td>0</td>\n",
              "    </tr>\n",
              "    <tr>\n",
              "      <th>4</th>\n",
              "      <td>Afghanistan</td>\n",
              "      <td>2020-03-15</td>\n",
              "      <td>6</td>\n",
              "      <td>20</td>\n",
              "      <td>0</td>\n",
              "      <td>0</td>\n",
              "    </tr>\n",
              "  </tbody>\n",
              "</table>\n",
              "</div>"
            ],
            "text/plain": [
              "       Country Date_reported  ...  New_deaths  Cumulative_deaths\n",
              "0  Afghanistan    2020-02-24  ...           0                  0\n",
              "1  Afghanistan    2020-03-07  ...           0                  0\n",
              "2  Afghanistan    2020-03-11  ...           0                  0\n",
              "3  Afghanistan    2020-03-14  ...           0                  0\n",
              "4  Afghanistan    2020-03-15  ...           0                  0\n",
              "\n",
              "[5 rows x 6 columns]"
            ]
          },
          "metadata": {
            "tags": []
          },
          "execution_count": 43
        }
      ]
    },
    {
      "cell_type": "code",
      "metadata": {
        "id": "fT8OjHUcXTJj",
        "outputId": "c951b5d6-e80c-4729-f691-143247df25f7",
        "colab": {
          "base_uri": "https://localhost:8080/",
          "height": 111
        }
      },
      "source": [
        "joined_df = sum_df.merge(countries, on='Country')\n",
        "joined_df.head(2)"
      ],
      "execution_count": null,
      "outputs": [
        {
          "output_type": "execute_result",
          "data": {
            "text/html": [
              "<div>\n",
              "<style scoped>\n",
              "    .dataframe tbody tr th:only-of-type {\n",
              "        vertical-align: middle;\n",
              "    }\n",
              "\n",
              "    .dataframe tbody tr th {\n",
              "        vertical-align: top;\n",
              "    }\n",
              "\n",
              "    .dataframe thead th {\n",
              "        text-align: right;\n",
              "    }\n",
              "</style>\n",
              "<table border=\"1\" class=\"dataframe\">\n",
              "  <thead>\n",
              "    <tr style=\"text-align: right;\">\n",
              "      <th></th>\n",
              "      <th>Country</th>\n",
              "      <th>Date_reported</th>\n",
              "      <th>New_cases</th>\n",
              "      <th>Cumulative_cases</th>\n",
              "      <th>New_deaths</th>\n",
              "      <th>Cumulative_deaths</th>\n",
              "      <th>OBJECTID</th>\n",
              "      <th>geometry</th>\n",
              "    </tr>\n",
              "  </thead>\n",
              "  <tbody>\n",
              "    <tr>\n",
              "      <th>0</th>\n",
              "      <td>Afghanistan</td>\n",
              "      <td>2020-02-24</td>\n",
              "      <td>5</td>\n",
              "      <td>5</td>\n",
              "      <td>0</td>\n",
              "      <td>0</td>\n",
              "      <td>3</td>\n",
              "      <td>POLYGON ((61.27656 35.60725, 61.29638 35.62853...</td>\n",
              "    </tr>\n",
              "    <tr>\n",
              "      <th>1</th>\n",
              "      <td>Afghanistan</td>\n",
              "      <td>2020-03-07</td>\n",
              "      <td>3</td>\n",
              "      <td>8</td>\n",
              "      <td>0</td>\n",
              "      <td>0</td>\n",
              "      <td>3</td>\n",
              "      <td>POLYGON ((61.27656 35.60725, 61.29638 35.62853...</td>\n",
              "    </tr>\n",
              "  </tbody>\n",
              "</table>\n",
              "</div>"
            ],
            "text/plain": [
              "       Country  ...                                           geometry\n",
              "0  Afghanistan  ...  POLYGON ((61.27656 35.60725, 61.29638 35.62853...\n",
              "1  Afghanistan  ...  POLYGON ((61.27656 35.60725, 61.29638 35.62853...\n",
              "\n",
              "[2 rows x 8 columns]"
            ]
          },
          "metadata": {
            "tags": []
          },
          "execution_count": 44
        }
      ]
    },
    {
      "cell_type": "code",
      "metadata": {
        "id": "Udq_kzWoXY_c",
        "outputId": "a1d313e8-74b5-4a89-f5d6-50644f78735b",
        "colab": {
          "base_uri": "https://localhost:8080/",
          "height": 51
        }
      },
      "source": [
        "joined_df['log_Confirmed'] = np.log10(joined_df['New_cases'])"
      ],
      "execution_count": null,
      "outputs": [
        {
          "output_type": "stream",
          "text": [
            "/usr/local/lib/python3.6/dist-packages/pandas/core/series.py:726: RuntimeWarning: invalid value encountered in log10\n",
            "  result = getattr(ufunc, method)(*inputs, **kwargs)\n"
          ],
          "name": "stderr"
        }
      ]
    },
    {
      "cell_type": "code",
      "metadata": {
        "id": "JcWI1PxJXgQy"
      },
      "source": [
        "joined_df['date_sec'] = pd.to_datetime(joined_df['Date_reported']).astype(int) / 10**9\n",
        "joined_df['date_sec'] = joined_df['date_sec'].astype(int).astype(str)"
      ],
      "execution_count": null,
      "outputs": []
    },
    {
      "cell_type": "code",
      "metadata": {
        "id": "pGOHiisZXk8q",
        "outputId": "cfc95f57-2d8c-44ae-9472-2839932b7e2b",
        "colab": {
          "base_uri": "https://localhost:8080/",
          "height": 111
        }
      },
      "source": [
        "joined_df.head(2)"
      ],
      "execution_count": null,
      "outputs": [
        {
          "output_type": "execute_result",
          "data": {
            "text/html": [
              "<div>\n",
              "<style scoped>\n",
              "    .dataframe tbody tr th:only-of-type {\n",
              "        vertical-align: middle;\n",
              "    }\n",
              "\n",
              "    .dataframe tbody tr th {\n",
              "        vertical-align: top;\n",
              "    }\n",
              "\n",
              "    .dataframe thead th {\n",
              "        text-align: right;\n",
              "    }\n",
              "</style>\n",
              "<table border=\"1\" class=\"dataframe\">\n",
              "  <thead>\n",
              "    <tr style=\"text-align: right;\">\n",
              "      <th></th>\n",
              "      <th>Country</th>\n",
              "      <th>Date_reported</th>\n",
              "      <th>New_cases</th>\n",
              "      <th>Cumulative_cases</th>\n",
              "      <th>New_deaths</th>\n",
              "      <th>Cumulative_deaths</th>\n",
              "      <th>OBJECTID</th>\n",
              "      <th>geometry</th>\n",
              "      <th>log_Confirmed</th>\n",
              "      <th>date_sec</th>\n",
              "    </tr>\n",
              "  </thead>\n",
              "  <tbody>\n",
              "    <tr>\n",
              "      <th>0</th>\n",
              "      <td>Afghanistan</td>\n",
              "      <td>2020-02-24</td>\n",
              "      <td>5</td>\n",
              "      <td>5</td>\n",
              "      <td>0</td>\n",
              "      <td>0</td>\n",
              "      <td>3</td>\n",
              "      <td>POLYGON ((61.27656 35.60725, 61.29638 35.62853...</td>\n",
              "      <td>0.698970</td>\n",
              "      <td>1582502400</td>\n",
              "    </tr>\n",
              "    <tr>\n",
              "      <th>1</th>\n",
              "      <td>Afghanistan</td>\n",
              "      <td>2020-03-07</td>\n",
              "      <td>3</td>\n",
              "      <td>8</td>\n",
              "      <td>0</td>\n",
              "      <td>0</td>\n",
              "      <td>3</td>\n",
              "      <td>POLYGON ((61.27656 35.60725, 61.29638 35.62853...</td>\n",
              "      <td>0.477121</td>\n",
              "      <td>1583539200</td>\n",
              "    </tr>\n",
              "  </tbody>\n",
              "</table>\n",
              "</div>"
            ],
            "text/plain": [
              "       Country Date_reported  ...  log_Confirmed    date_sec\n",
              "0  Afghanistan    2020-02-24  ...       0.698970  1582502400\n",
              "1  Afghanistan    2020-03-07  ...       0.477121  1583539200\n",
              "\n",
              "[2 rows x 10 columns]"
            ]
          },
          "metadata": {
            "tags": []
          },
          "execution_count": 47
        }
      ]
    },
    {
      "cell_type": "code",
      "metadata": {
        "id": "ps4cR2OpXqR7",
        "outputId": "ae50e962-072e-4115-f0bf-1211dca6d2ec",
        "colab": {
          "base_uri": "https://localhost:8080/",
          "height": 111
        }
      },
      "source": [
        "joined_df = joined_df[['Country', 'date_sec', 'log_Confirmed', 'geometry']]\n",
        "joined_df.head(2)"
      ],
      "execution_count": null,
      "outputs": [
        {
          "output_type": "execute_result",
          "data": {
            "text/html": [
              "<div>\n",
              "<style scoped>\n",
              "    .dataframe tbody tr th:only-of-type {\n",
              "        vertical-align: middle;\n",
              "    }\n",
              "\n",
              "    .dataframe tbody tr th {\n",
              "        vertical-align: top;\n",
              "    }\n",
              "\n",
              "    .dataframe thead th {\n",
              "        text-align: right;\n",
              "    }\n",
              "</style>\n",
              "<table border=\"1\" class=\"dataframe\">\n",
              "  <thead>\n",
              "    <tr style=\"text-align: right;\">\n",
              "      <th></th>\n",
              "      <th>Country</th>\n",
              "      <th>date_sec</th>\n",
              "      <th>log_Confirmed</th>\n",
              "      <th>geometry</th>\n",
              "    </tr>\n",
              "  </thead>\n",
              "  <tbody>\n",
              "    <tr>\n",
              "      <th>0</th>\n",
              "      <td>Afghanistan</td>\n",
              "      <td>1582502400</td>\n",
              "      <td>0.698970</td>\n",
              "      <td>POLYGON ((61.27656 35.60725, 61.29638 35.62853...</td>\n",
              "    </tr>\n",
              "    <tr>\n",
              "      <th>1</th>\n",
              "      <td>Afghanistan</td>\n",
              "      <td>1583539200</td>\n",
              "      <td>0.477121</td>\n",
              "      <td>POLYGON ((61.27656 35.60725, 61.29638 35.62853...</td>\n",
              "    </tr>\n",
              "  </tbody>\n",
              "</table>\n",
              "</div>"
            ],
            "text/plain": [
              "       Country  ...                                           geometry\n",
              "0  Afghanistan  ...  POLYGON ((61.27656 35.60725, 61.29638 35.62853...\n",
              "1  Afghanistan  ...  POLYGON ((61.27656 35.60725, 61.29638 35.62853...\n",
              "\n",
              "[2 rows x 4 columns]"
            ]
          },
          "metadata": {
            "tags": []
          },
          "execution_count": 48
        }
      ]
    },
    {
      "cell_type": "code",
      "metadata": {
        "id": "FH5F3CQRiN96"
      },
      "source": [
        "joined_df = joined_df.dropna()"
      ],
      "execution_count": null,
      "outputs": []
    },
    {
      "cell_type": "code",
      "metadata": {
        "id": "7cYREKviYne5"
      },
      "source": [
        "max_colour = max(joined_df['log_Confirmed'])\n",
        "min_colour = min(joined_df['log_Confirmed'])\n",
        "cmap = cm.linear.YlOrRd_09.scale(min_colour, max_colour)\n",
        "cmap\n",
        "joined_df['colour'] = joined_df['log_Confirmed'].map(cmap)"
      ],
      "execution_count": null,
      "outputs": []
    },
    {
      "cell_type": "code",
      "metadata": {
        "id": "mHNIsX3Dh7oB"
      },
      "source": [
        "country_list = joined_df['Country'].unique().tolist()\n",
        "country_idx = range(len(country_list))\n",
        "\n",
        "style_dict = {}\n",
        "for i in country_idx:\n",
        "    country = country_list[i]\n",
        "    result = joined_df[joined_df['Country'] == country]\n",
        "    inner_dict = {}\n",
        "    for _, r in result.iterrows():\n",
        "        inner_dict[r['date_sec']] = {'color': r['colour'], 'opacity': 0.7}\n",
        "    style_dict[str(i)] = inner_dict"
      ],
      "execution_count": null,
      "outputs": []
    },
    {
      "cell_type": "code",
      "metadata": {
        "id": "sUkZgGOBiuQz"
      },
      "source": [
        "countries_df = joined_df[['geometry']]\n",
        "countries_gdf = gpd.GeoDataFrame(countries_df)\n",
        "countries_gdf = countries_gdf.drop_duplicates().reset_index()"
      ],
      "execution_count": null,
      "outputs": []
    },
    {
      "cell_type": "code",
      "metadata": {
        "id": "s7ij_NzJix5u"
      },
      "source": [
        "from folium.plugins import TimeSliderChoropleth\n",
        "\n",
        "slider_map = folium.Map(min_zoom=2, max_bounds=True,tiles='cartodbpositron')\n",
        "\n",
        "_ = TimeSliderChoropleth(\n",
        "    data=countries_gdf.to_json(),\n",
        "    styledict=style_dict,\n",
        "\n",
        ").add_to(slider_map)\n",
        "\n",
        "_ = cmap.add_to(slider_map)\n",
        "cmap.caption = \"Log of number of confirmed cases\"\n",
        "slider_map.save(outfile='Whole_Country.html')"
      ],
      "execution_count": null,
      "outputs": []
    },
    {
      "cell_type": "code",
      "metadata": {
        "id": "Q_EWGLmQ7FT3",
        "outputId": "b45e966a-24dc-47e4-ef3f-973534945508",
        "colab": {
          "base_uri": "https://localhost:8080/",
          "height": 111
        }
      },
      "source": [
        "# Country Code\n",
        "code = pd.read_csv('wikipedia-iso-country-codes.csv', usecols=['English short name lower case', 'Alpha-2 code'])\n",
        "code.columns = ['Country', 'Code']\n",
        "code.head(2)"
      ],
      "execution_count": null,
      "outputs": [
        {
          "output_type": "execute_result",
          "data": {
            "text/html": [
              "<div>\n",
              "<style scoped>\n",
              "    .dataframe tbody tr th:only-of-type {\n",
              "        vertical-align: middle;\n",
              "    }\n",
              "\n",
              "    .dataframe tbody tr th {\n",
              "        vertical-align: top;\n",
              "    }\n",
              "\n",
              "    .dataframe thead th {\n",
              "        text-align: right;\n",
              "    }\n",
              "</style>\n",
              "<table border=\"1\" class=\"dataframe\">\n",
              "  <thead>\n",
              "    <tr style=\"text-align: right;\">\n",
              "      <th></th>\n",
              "      <th>Country</th>\n",
              "      <th>Code</th>\n",
              "    </tr>\n",
              "  </thead>\n",
              "  <tbody>\n",
              "    <tr>\n",
              "      <th>0</th>\n",
              "      <td>Afghanistan</td>\n",
              "      <td>AF</td>\n",
              "    </tr>\n",
              "    <tr>\n",
              "      <th>1</th>\n",
              "      <td>Åland Islands</td>\n",
              "      <td>AX</td>\n",
              "    </tr>\n",
              "  </tbody>\n",
              "</table>\n",
              "</div>"
            ],
            "text/plain": [
              "         Country Code\n",
              "0    Afghanistan   AF\n",
              "1  Åland Islands   AX"
            ]
          },
          "metadata": {
            "tags": []
          },
          "execution_count": 54
        }
      ]
    },
    {
      "cell_type": "code",
      "metadata": {
        "id": "0NAOcAPt7X9b"
      },
      "source": [
        "# Country 이름\n",
        "mean_df_no_use = mean_df_no_use.merge(code, on = 'Code')"
      ],
      "execution_count": null,
      "outputs": []
    },
    {
      "cell_type": "code",
      "metadata": {
        "id": "irgb2xGFdxz0",
        "outputId": "df7bebe1-3bca-45b9-e1d7-d95baec7e768",
        "colab": {
          "base_uri": "https://localhost:8080/",
          "height": 142
        }
      },
      "source": [
        "res_df"
      ],
      "execution_count": null,
      "outputs": [
        {
          "output_type": "execute_result",
          "data": {
            "text/html": [
              "<div>\n",
              "<style scoped>\n",
              "    .dataframe tbody tr th:only-of-type {\n",
              "        vertical-align: middle;\n",
              "    }\n",
              "\n",
              "    .dataframe tbody tr th {\n",
              "        vertical-align: top;\n",
              "    }\n",
              "\n",
              "    .dataframe thead th {\n",
              "        text-align: right;\n",
              "    }\n",
              "</style>\n",
              "<table border=\"1\" class=\"dataframe\">\n",
              "  <thead>\n",
              "    <tr style=\"text-align: right;\">\n",
              "      <th></th>\n",
              "      <th>label</th>\n",
              "      <th>New_cases</th>\n",
              "      <th>OPN</th>\n",
              "      <th>CSN</th>\n",
              "      <th>EXT</th>\n",
              "      <th>AGR</th>\n",
              "      <th>EST</th>\n",
              "    </tr>\n",
              "  </thead>\n",
              "  <tbody>\n",
              "    <tr>\n",
              "      <th>0</th>\n",
              "      <td>2</td>\n",
              "      <td>665500.42</td>\n",
              "      <td>36.81</td>\n",
              "      <td>33.39</td>\n",
              "      <td>29.24</td>\n",
              "      <td>36.90</td>\n",
              "      <td>31.04</td>\n",
              "    </tr>\n",
              "    <tr>\n",
              "      <th>1</th>\n",
              "      <td>0</td>\n",
              "      <td>648884.62</td>\n",
              "      <td>39.72</td>\n",
              "      <td>33.38</td>\n",
              "      <td>29.99</td>\n",
              "      <td>37.68</td>\n",
              "      <td>30.25</td>\n",
              "    </tr>\n",
              "    <tr>\n",
              "      <th>2</th>\n",
              "      <td>1</td>\n",
              "      <td>544949.14</td>\n",
              "      <td>39.92</td>\n",
              "      <td>32.09</td>\n",
              "      <td>28.54</td>\n",
              "      <td>35.84</td>\n",
              "      <td>31.62</td>\n",
              "    </tr>\n",
              "  </tbody>\n",
              "</table>\n",
              "</div>"
            ],
            "text/plain": [
              "   label  New_cases    OPN    CSN    EXT    AGR    EST\n",
              "0      2  665500.42  36.81  33.39  29.24  36.90  31.04\n",
              "1      0  648884.62  39.72  33.38  29.99  37.68  30.25\n",
              "2      1  544949.14  39.92  32.09  28.54  35.84  31.62"
            ]
          },
          "metadata": {
            "tags": []
          },
          "execution_count": 75
        }
      ]
    },
    {
      "cell_type": "code",
      "metadata": {
        "id": "gc2Tb89_dqQY",
        "outputId": "2edf7b9d-bb04-44d0-eb1a-e77554e9ff61",
        "colab": {
          "base_uri": "https://localhost:8080/",
          "height": 173
        }
      },
      "source": [
        "mean_df_no_use.loc[mean_df_no_use.label == 0]"
      ],
      "execution_count": null,
      "outputs": [
        {
          "output_type": "execute_result",
          "data": {
            "text/html": [
              "<div>\n",
              "<style scoped>\n",
              "    .dataframe tbody tr th:only-of-type {\n",
              "        vertical-align: middle;\n",
              "    }\n",
              "\n",
              "    .dataframe tbody tr th {\n",
              "        vertical-align: top;\n",
              "    }\n",
              "\n",
              "    .dataframe thead th {\n",
              "        text-align: right;\n",
              "    }\n",
              "</style>\n",
              "<table border=\"1\" class=\"dataframe\">\n",
              "  <thead>\n",
              "    <tr style=\"text-align: right;\">\n",
              "      <th></th>\n",
              "      <th>Code</th>\n",
              "      <th>OPN</th>\n",
              "      <th>CSN</th>\n",
              "      <th>EXT</th>\n",
              "      <th>AGR</th>\n",
              "      <th>EST</th>\n",
              "      <th>label</th>\n",
              "      <th>Country</th>\n",
              "    </tr>\n",
              "  </thead>\n",
              "  <tbody>\n",
              "    <tr>\n",
              "      <th>4</th>\n",
              "      <td>IS</td>\n",
              "      <td>39.057728</td>\n",
              "      <td>32.614525</td>\n",
              "      <td>30.225326</td>\n",
              "      <td>37.696462</td>\n",
              "      <td>30.463687</td>\n",
              "      <td>0</td>\n",
              "      <td>Iceland</td>\n",
              "    </tr>\n",
              "    <tr>\n",
              "      <th>5</th>\n",
              "      <td>LB</td>\n",
              "      <td>38.235465</td>\n",
              "      <td>34.341570</td>\n",
              "      <td>30.559593</td>\n",
              "      <td>37.918605</td>\n",
              "      <td>31.257267</td>\n",
              "      <td>0</td>\n",
              "      <td>Lebanon</td>\n",
              "    </tr>\n",
              "    <tr>\n",
              "      <th>8</th>\n",
              "      <td>NG</td>\n",
              "      <td>39.150721</td>\n",
              "      <td>36.436435</td>\n",
              "      <td>28.460026</td>\n",
              "      <td>39.263434</td>\n",
              "      <td>29.598952</td>\n",
              "      <td>0</td>\n",
              "      <td>Nigeria</td>\n",
              "    </tr>\n",
              "    <tr>\n",
              "      <th>9</th>\n",
              "      <td>PR</td>\n",
              "      <td>39.487078</td>\n",
              "      <td>33.304175</td>\n",
              "      <td>28.642147</td>\n",
              "      <td>37.194831</td>\n",
              "      <td>31.163022</td>\n",
              "      <td>0</td>\n",
              "      <td>Puerto Rico</td>\n",
              "    </tr>\n",
              "  </tbody>\n",
              "</table>\n",
              "</div>"
            ],
            "text/plain": [
              "  Code        OPN        CSN  ...        EST  label      Country\n",
              "4   IS  39.057728  32.614525  ...  30.463687      0      Iceland\n",
              "5   LB  38.235465  34.341570  ...  31.257267      0      Lebanon\n",
              "8   NG  39.150721  36.436435  ...  29.598952      0      Nigeria\n",
              "9   PR  39.487078  33.304175  ...  31.163022      0  Puerto Rico\n",
              "\n",
              "[4 rows x 8 columns]"
            ]
          },
          "metadata": {
            "tags": []
          },
          "execution_count": 76
        }
      ]
    },
    {
      "cell_type": "code",
      "metadata": {
        "id": "5gP6WaKUdnO2",
        "outputId": "4277a929-940c-45d4-96f7-56b920615f72",
        "colab": {
          "base_uri": "https://localhost:8080/",
          "height": 170
        }
      },
      "source": [
        "mean_df_no_use.loc[mean_df_no_use.label != res_df.iloc[2, 0]].Country"
      ],
      "execution_count": null,
      "outputs": [
        {
          "output_type": "execute_result",
          "data": {
            "text/plain": [
              "3            Egypt\n",
              "4          Iceland\n",
              "5          Lebanon\n",
              "6        Sri Lanka\n",
              "8          Nigeria\n",
              "9      Puerto Rico\n",
              "10    Saudi Arabia\n",
              "13          Taiwan\n",
              "Name: Country, dtype: object"
            ]
          },
          "metadata": {
            "tags": []
          },
          "execution_count": 73
        }
      ]
    },
    {
      "cell_type": "code",
      "metadata": {
        "id": "RWxfJQJdrVEs",
        "outputId": "f927b41d-7806-44cc-ec0c-16cc89ff50ca",
        "colab": {
          "base_uri": "https://localhost:8080/",
          "height": 111
        }
      },
      "source": [
        "# 확진자수가 가장많은 분류군\n",
        "label_0_country = mean_df_no_use.loc[mean_df_no_use.label != res_df.iloc[2, 0]].Country.unique().tolist()\n",
        "label_0 = joined_df.loc[joined_df.Country.isin(label_0_country)].reset_index(drop=True)\n",
        "label_0.head(2)\n"
      ],
      "execution_count": null,
      "outputs": [
        {
          "output_type": "execute_result",
          "data": {
            "text/html": [
              "<div>\n",
              "<style scoped>\n",
              "    .dataframe tbody tr th:only-of-type {\n",
              "        vertical-align: middle;\n",
              "    }\n",
              "\n",
              "    .dataframe tbody tr th {\n",
              "        vertical-align: top;\n",
              "    }\n",
              "\n",
              "    .dataframe thead th {\n",
              "        text-align: right;\n",
              "    }\n",
              "</style>\n",
              "<table border=\"1\" class=\"dataframe\">\n",
              "  <thead>\n",
              "    <tr style=\"text-align: right;\">\n",
              "      <th></th>\n",
              "      <th>Country</th>\n",
              "      <th>date_sec</th>\n",
              "      <th>log_Confirmed</th>\n",
              "      <th>geometry</th>\n",
              "      <th>colour</th>\n",
              "    </tr>\n",
              "  </thead>\n",
              "  <tbody>\n",
              "    <tr>\n",
              "      <th>0</th>\n",
              "      <td>Costa Rica</td>\n",
              "      <td>1583625600</td>\n",
              "      <td>0.954243</td>\n",
              "      <td>POLYGON ((-82.93047 9.06312, -82.88223 9.06722...</td>\n",
              "      <td>#ffe38aff</td>\n",
              "    </tr>\n",
              "    <tr>\n",
              "      <th>1</th>\n",
              "      <td>Costa Rica</td>\n",
              "      <td>1583712000</td>\n",
              "      <td>0.602060</td>\n",
              "      <td>POLYGON ((-82.93047 9.06312, -82.88223 9.06722...</td>\n",
              "      <td>#ffeea2ff</td>\n",
              "    </tr>\n",
              "  </tbody>\n",
              "</table>\n",
              "</div>"
            ],
            "text/plain": [
              "      Country  ...     colour\n",
              "0  Costa Rica  ...  #ffe38aff\n",
              "1  Costa Rica  ...  #ffeea2ff\n",
              "\n",
              "[2 rows x 5 columns]"
            ]
          },
          "metadata": {
            "tags": []
          },
          "execution_count": 89
        }
      ]
    },
    {
      "cell_type": "code",
      "metadata": {
        "id": "3fUfjnGLLmXE",
        "outputId": "8f454500-7567-4e8e-c725-0b8b441b5bdc",
        "colab": {
          "base_uri": "https://localhost:8080/",
          "height": 34
        }
      },
      "source": [
        "print(label_0_country)"
      ],
      "execution_count": null,
      "outputs": [
        {
          "output_type": "stream",
          "text": [
            "['Costa Rica', 'Ecuador', 'Estonia', 'Iceland', 'Lebanon', 'Lithuania', 'Nigeria', 'Puerto Rico', 'Slovenia', 'Slovakia', 'Ukraine', 'Venezuela']\n"
          ],
          "name": "stdout"
        }
      ]
    },
    {
      "cell_type": "code",
      "metadata": {
        "id": "76Lkc--EsF3k"
      },
      "source": [
        "max_colour = max(joined_df['log_Confirmed'])\n",
        "min_colour = min(joined_df['log_Confirmed'])\n",
        "cmap = cm.linear.YlOrRd_09.scale(min_colour, max_colour)\n",
        "cmap\n",
        "label_0['colour'] = label_0['log_Confirmed'].map(cmap)"
      ],
      "execution_count": null,
      "outputs": []
    },
    {
      "cell_type": "code",
      "metadata": {
        "id": "CLKcjBzOsL3U"
      },
      "source": [
        "country_list = label_0['Country'].unique().tolist()\n",
        "country_idx = range(len(country_list))\n",
        "\n",
        "style_dict = {}\n",
        "for i in country_idx:\n",
        "    country = country_list[i]\n",
        "    result = joined_df[joined_df['Country'] == country]\n",
        "    inner_dict = {}\n",
        "    for _, r in result.iterrows():\n",
        "        inner_dict[r['date_sec']] = {'color': r['colour'], 'opacity': 0.7}\n",
        "    style_dict[str(i)] = inner_dict"
      ],
      "execution_count": null,
      "outputs": []
    },
    {
      "cell_type": "code",
      "metadata": {
        "id": "pL0HaL20sPTC"
      },
      "source": [
        "countries_df = label_0[['geometry']]\n",
        "countries_gdf = gpd.GeoDataFrame(countries_df)\n",
        "countries_gdf = countries_gdf.drop_duplicates().reset_index()"
      ],
      "execution_count": null,
      "outputs": []
    },
    {
      "cell_type": "code",
      "metadata": {
        "id": "azkC_rjssSOL"
      },
      "source": [
        "from folium.plugins import TimeSliderChoropleth\n",
        "\n",
        "slider_map = folium.Map(min_zoom=2, max_bounds=True,tiles='cartodbpositron')\n",
        "\n",
        "_ = TimeSliderChoropleth(\n",
        "    data=countries_gdf.to_json(),\n",
        "    styledict=style_dict,\n",
        "\n",
        ").add_to(slider_map)\n",
        "\n",
        "_ = cmap.add_to(slider_map)\n",
        "cmap.caption = \"Log of number of confirmed cases\"\n",
        "slider_map.save(outfile='Many.html')"
      ],
      "execution_count": null,
      "outputs": []
    },
    {
      "cell_type": "code",
      "metadata": {
        "id": "Nhqo5U8Ot3f_",
        "outputId": "429f604f-0632-461f-b5af-27c24bd84b8e",
        "colab": {
          "base_uri": "https://localhost:8080/",
          "height": 111
        }
      },
      "source": [
        "label_2_country = mean_df_no_use.loc[mean_df_no_use.label == res_df.iloc[2, 0]].Country.unique().tolist()\n",
        "label_2 = joined_df.loc[joined_df.Country.isin(label_2_country)].reset_index(drop=True)\n",
        "label_2.head(2)\n"
      ],
      "execution_count": null,
      "outputs": [
        {
          "output_type": "execute_result",
          "data": {
            "text/html": [
              "<div>\n",
              "<style scoped>\n",
              "    .dataframe tbody tr th:only-of-type {\n",
              "        vertical-align: middle;\n",
              "    }\n",
              "\n",
              "    .dataframe tbody tr th {\n",
              "        vertical-align: top;\n",
              "    }\n",
              "\n",
              "    .dataframe thead th {\n",
              "        text-align: right;\n",
              "    }\n",
              "</style>\n",
              "<table border=\"1\" class=\"dataframe\">\n",
              "  <thead>\n",
              "    <tr style=\"text-align: right;\">\n",
              "      <th></th>\n",
              "      <th>Country</th>\n",
              "      <th>date_sec</th>\n",
              "      <th>log_Confirmed</th>\n",
              "      <th>geometry</th>\n",
              "      <th>colour</th>\n",
              "    </tr>\n",
              "  </thead>\n",
              "  <tbody>\n",
              "    <tr>\n",
              "      <th>0</th>\n",
              "      <td>Egypt</td>\n",
              "      <td>1581638400</td>\n",
              "      <td>0.69897</td>\n",
              "      <td>POLYGON ((32.64902 29.78836, 32.60791 29.82361...</td>\n",
              "      <td>#ffeb9bff</td>\n",
              "    </tr>\n",
              "    <tr>\n",
              "      <th>1</th>\n",
              "      <td>Egypt</td>\n",
              "      <td>1583107200</td>\n",
              "      <td>0.00000</td>\n",
              "      <td>POLYGON ((32.64902 29.78836, 32.60791 29.82361...</td>\n",
              "      <td>#ffffccff</td>\n",
              "    </tr>\n",
              "  </tbody>\n",
              "</table>\n",
              "</div>"
            ],
            "text/plain": [
              "  Country  ...     colour\n",
              "0   Egypt  ...  #ffeb9bff\n",
              "1   Egypt  ...  #ffffccff\n",
              "\n",
              "[2 rows x 5 columns]"
            ]
          },
          "metadata": {
            "tags": []
          },
          "execution_count": 95
        }
      ]
    },
    {
      "cell_type": "code",
      "metadata": {
        "id": "YPGN94xnuDIC"
      },
      "source": [
        "max_colour = max(joined_df['log_Confirmed'])\n",
        "min_colour = min(joined_df['log_Confirmed'])\n",
        "cmap = cm.linear.YlOrRd_09.scale(min_colour, max_colour)\n",
        "cmap\n",
        "label_2['colour'] = label_2['log_Confirmed'].map(cmap)\n",
        "country_list = label_2['Country'].unique().tolist()\n",
        "country_idx = range(len(country_list))\n",
        "\n",
        "style_dict = {}\n",
        "for i in country_idx:\n",
        "    country = country_list[i]\n",
        "    result = joined_df[joined_df['Country'] == country]\n",
        "    inner_dict = {}\n",
        "    for _, r in result.iterrows():\n",
        "        inner_dict[r['date_sec']] = {'color': r['colour'], 'opacity': 0.7}\n",
        "    style_dict[str(i)] = inner_dict"
      ],
      "execution_count": null,
      "outputs": []
    },
    {
      "cell_type": "code",
      "metadata": {
        "id": "5Lcwfu3NuIRd"
      },
      "source": [
        "countries_df = label_2[['geometry']]\n",
        "countries_gdf = gpd.GeoDataFrame(countries_df)\n",
        "countries_gdf = countries_gdf.drop_duplicates().reset_index()\n",
        "from folium.plugins import TimeSliderChoropleth\n",
        "\n",
        "slider_map = folium.Map(min_zoom=2, max_bounds=True,tiles='cartodbpositron')\n",
        "\n",
        "_ = TimeSliderChoropleth(\n",
        "    data=countries_gdf.to_json(),\n",
        "    styledict=style_dict,\n",
        "\n",
        ").add_to(slider_map)\n",
        "\n",
        "_ = cmap.add_to(slider_map)\n",
        "cmap.caption = \"Log of number of confirmed cases\"\n",
        "slider_map.save(outfile='Less.html')"
      ],
      "execution_count": null,
      "outputs": []
    }
  ]
}