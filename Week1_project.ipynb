{
  "nbformat": 4,
  "nbformat_minor": 0,
  "metadata": {
    "colab": {
      "name": "Week1_project.ipynb",
      "provenance": [],
      "collapsed_sections": [],
      "authorship_tag": "ABX9TyMrKXWwP8VwQqROP7AxrtJa",
      "include_colab_link": true
    },
    "kernelspec": {
      "name": "python3",
      "display_name": "Python 3"
    }
  },
  "cells": [
    {
      "cell_type": "markdown",
      "metadata": {
        "id": "view-in-github",
        "colab_type": "text"
      },
      "source": [
        "<a href=\"https://colab.research.google.com/github/jingwoo4710/2020_project/blob/main/Week1_project.ipynb\" target=\"_parent\"><img src=\"https://colab.research.google.com/assets/colab-badge.svg\" alt=\"Open In Colab\"/></a>"
      ]
    },
    {
      "cell_type": "code",
      "metadata": {
        "id": "fNk1RoR0B3pf",
        "outputId": "14eb10b1-2144-4783-c3e4-9511b53c7933",
        "colab": {
          "base_uri": "https://localhost:8080/"
        }
      },
      "source": [
        "#Library\n",
        "import pandas as pd\n",
        "import numpy as np\n",
        "import matplotlib.pyplot as plt\n",
        "import seaborn as sns\n",
        "from sklearn.cluster import KMeans \n",
        "from sklearn.decomposition import PCA\n",
        "from sklearn.preprocessing import StandardScaler\n",
        "from scipy.stats import pearsonr, spearmanr\n",
        "import matplotlib.font_manager as fm\n",
        "import matplotlib as mpl\n",
        "import branca.colormap as cm\n",
        "import folium\n",
        "import geopandas as gpd\n",
        "\n",
        "\n",
        "plt.style.use('default')\n",
        "path = '/usr/share/fonts/truetype/nanum/NanumGothicEco.ttf'  # 설치된 나눔글꼴중 원하는 녀석의 전체 경로를 가져오자\n",
        "font_name = fm.FontProperties(fname=path, size=50).get_name()\n",
        "print(font_name)\n",
        "plt.rc('font', family=font_name)\n",
        "fm._rebuild()"
      ],
      "execution_count": 2,
      "outputs": [
        {
          "output_type": "stream",
          "text": [
            "NanumGothic Eco\n"
          ],
          "name": "stdout"
        }
      ]
    },
    {
      "cell_type": "code",
      "metadata": {
        "id": "8sqhKXYCCZIs"
      },
      "source": [
        "# COVID19 Data Import\n",
        "corona_df = pd.read_csv('WHO-COVID-19-global-data.csv')"
      ],
      "execution_count": 3,
      "outputs": []
    },
    {
      "cell_type": "code",
      "metadata": {
        "id": "sCy8m_geCjGd",
        "outputId": "98c2b509-c26a-4bcd-cc8e-b2ebaa40b92f",
        "colab": {
          "base_uri": "https://localhost:8080/",
          "height": 111
        }
      },
      "source": [
        "# Header 확인\n",
        "corona_df.head(2)"
      ],
      "execution_count": 4,
      "outputs": [
        {
          "output_type": "execute_result",
          "data": {
            "text/html": [
              "<div>\n",
              "<style scoped>\n",
              "    .dataframe tbody tr th:only-of-type {\n",
              "        vertical-align: middle;\n",
              "    }\n",
              "\n",
              "    .dataframe tbody tr th {\n",
              "        vertical-align: top;\n",
              "    }\n",
              "\n",
              "    .dataframe thead th {\n",
              "        text-align: right;\n",
              "    }\n",
              "</style>\n",
              "<table border=\"1\" class=\"dataframe\">\n",
              "  <thead>\n",
              "    <tr style=\"text-align: right;\">\n",
              "      <th></th>\n",
              "      <th>Date_reported</th>\n",
              "      <th>Country_code</th>\n",
              "      <th>Country</th>\n",
              "      <th>WHO_region</th>\n",
              "      <th>New_cases</th>\n",
              "      <th>Cumulative_cases</th>\n",
              "      <th>New_deaths</th>\n",
              "      <th>Cumulative_deaths</th>\n",
              "    </tr>\n",
              "  </thead>\n",
              "  <tbody>\n",
              "    <tr>\n",
              "      <th>0</th>\n",
              "      <td>2020-01-03</td>\n",
              "      <td>AF</td>\n",
              "      <td>Afghanistan</td>\n",
              "      <td>EMRO</td>\n",
              "      <td>0</td>\n",
              "      <td>0</td>\n",
              "      <td>0</td>\n",
              "      <td>0</td>\n",
              "    </tr>\n",
              "    <tr>\n",
              "      <th>1</th>\n",
              "      <td>2020-01-04</td>\n",
              "      <td>AF</td>\n",
              "      <td>Afghanistan</td>\n",
              "      <td>EMRO</td>\n",
              "      <td>0</td>\n",
              "      <td>0</td>\n",
              "      <td>0</td>\n",
              "      <td>0</td>\n",
              "    </tr>\n",
              "  </tbody>\n",
              "</table>\n",
              "</div>"
            ],
            "text/plain": [
              "  Date_reported  Country_code  ...  New_deaths  Cumulative_deaths\n",
              "0    2020-01-03            AF  ...           0                  0\n",
              "1    2020-01-04            AF  ...           0                  0\n",
              "\n",
              "[2 rows x 8 columns]"
            ]
          },
          "metadata": {
            "tags": []
          },
          "execution_count": 4
        }
      ]
    },
    {
      "cell_type": "code",
      "metadata": {
        "id": "SfUXgi9E-g1i",
        "outputId": "7b6c6f26-c423-4954-fbff-d3f08e03d49d",
        "colab": {
          "base_uri": "https://localhost:8080/",
          "height": 111
        }
      },
      "source": [
        "# header 공백 제거\n",
        "cols = corona_df.columns.to_list()\n",
        "corona_df.columns = [element.strip() for element in cols]\n",
        "corona_df.head(2)"
      ],
      "execution_count": 5,
      "outputs": [
        {
          "output_type": "execute_result",
          "data": {
            "text/html": [
              "<div>\n",
              "<style scoped>\n",
              "    .dataframe tbody tr th:only-of-type {\n",
              "        vertical-align: middle;\n",
              "    }\n",
              "\n",
              "    .dataframe tbody tr th {\n",
              "        vertical-align: top;\n",
              "    }\n",
              "\n",
              "    .dataframe thead th {\n",
              "        text-align: right;\n",
              "    }\n",
              "</style>\n",
              "<table border=\"1\" class=\"dataframe\">\n",
              "  <thead>\n",
              "    <tr style=\"text-align: right;\">\n",
              "      <th></th>\n",
              "      <th>Date_reported</th>\n",
              "      <th>Country_code</th>\n",
              "      <th>Country</th>\n",
              "      <th>WHO_region</th>\n",
              "      <th>New_cases</th>\n",
              "      <th>Cumulative_cases</th>\n",
              "      <th>New_deaths</th>\n",
              "      <th>Cumulative_deaths</th>\n",
              "    </tr>\n",
              "  </thead>\n",
              "  <tbody>\n",
              "    <tr>\n",
              "      <th>0</th>\n",
              "      <td>2020-01-03</td>\n",
              "      <td>AF</td>\n",
              "      <td>Afghanistan</td>\n",
              "      <td>EMRO</td>\n",
              "      <td>0</td>\n",
              "      <td>0</td>\n",
              "      <td>0</td>\n",
              "      <td>0</td>\n",
              "    </tr>\n",
              "    <tr>\n",
              "      <th>1</th>\n",
              "      <td>2020-01-04</td>\n",
              "      <td>AF</td>\n",
              "      <td>Afghanistan</td>\n",
              "      <td>EMRO</td>\n",
              "      <td>0</td>\n",
              "      <td>0</td>\n",
              "      <td>0</td>\n",
              "      <td>0</td>\n",
              "    </tr>\n",
              "  </tbody>\n",
              "</table>\n",
              "</div>"
            ],
            "text/plain": [
              "  Date_reported Country_code  ... New_deaths Cumulative_deaths\n",
              "0    2020-01-03           AF  ...          0                 0\n",
              "1    2020-01-04           AF  ...          0                 0\n",
              "\n",
              "[2 rows x 8 columns]"
            ]
          },
          "metadata": {
            "tags": []
          },
          "execution_count": 5
        }
      ]
    },
    {
      "cell_type": "code",
      "metadata": {
        "id": "SPiUY-LpAGzM",
        "outputId": "d2073ccc-d013-4cad-d8ce-5b368068f668",
        "colab": {
          "base_uri": "https://localhost:8080/",
          "height": 204
        }
      },
      "source": [
        "# 국가별 총 확진자수\n",
        "df_covid = corona_df.groupby(['Country', 'Country_code'])\\\n",
        "                    .sum()\\\n",
        "                    .rename_axis(['Country', 'Country_code'])\\\n",
        "                    .reset_index()\n",
        "df_covid = df_covid.iloc[:,:3]\n",
        "df_covid.columns = ['국가', '국가코드', '확진자 수']\n",
        "df_covid.head()"
      ],
      "execution_count": 6,
      "outputs": [
        {
          "output_type": "execute_result",
          "data": {
            "text/html": [
              "<div>\n",
              "<style scoped>\n",
              "    .dataframe tbody tr th:only-of-type {\n",
              "        vertical-align: middle;\n",
              "    }\n",
              "\n",
              "    .dataframe tbody tr th {\n",
              "        vertical-align: top;\n",
              "    }\n",
              "\n",
              "    .dataframe thead th {\n",
              "        text-align: right;\n",
              "    }\n",
              "</style>\n",
              "<table border=\"1\" class=\"dataframe\">\n",
              "  <thead>\n",
              "    <tr style=\"text-align: right;\">\n",
              "      <th></th>\n",
              "      <th>국가</th>\n",
              "      <th>국가코드</th>\n",
              "      <th>확진자 수</th>\n",
              "    </tr>\n",
              "  </thead>\n",
              "  <tbody>\n",
              "    <tr>\n",
              "      <th>0</th>\n",
              "      <td>Afghanistan</td>\n",
              "      <td>AF</td>\n",
              "      <td>39422</td>\n",
              "    </tr>\n",
              "    <tr>\n",
              "      <th>1</th>\n",
              "      <td>Albania</td>\n",
              "      <td>AL</td>\n",
              "      <td>14410</td>\n",
              "    </tr>\n",
              "    <tr>\n",
              "      <th>2</th>\n",
              "      <td>Algeria</td>\n",
              "      <td>DZ</td>\n",
              "      <td>52270</td>\n",
              "    </tr>\n",
              "    <tr>\n",
              "      <th>3</th>\n",
              "      <td>American Samoa</td>\n",
              "      <td>AS</td>\n",
              "      <td>0</td>\n",
              "    </tr>\n",
              "    <tr>\n",
              "      <th>4</th>\n",
              "      <td>Andorra</td>\n",
              "      <td>AD</td>\n",
              "      <td>2370</td>\n",
              "    </tr>\n",
              "  </tbody>\n",
              "</table>\n",
              "</div>"
            ],
            "text/plain": [
              "               국가 국가코드  확진자 수\n",
              "0     Afghanistan   AF  39422\n",
              "1         Albania   AL  14410\n",
              "2         Algeria   DZ  52270\n",
              "3  American Samoa   AS      0\n",
              "4         Andorra   AD   2370"
            ]
          },
          "metadata": {
            "tags": []
          },
          "execution_count": 6
        }
      ]
    },
    {
      "cell_type": "code",
      "metadata": {
        "id": "atiLLYeTFWB6"
      },
      "source": [
        "# Big 5 성격테스트에서 Postive 와 Negative 문제 나누기 + 필요한 열 정의\n",
        "pos_questions = [\n",
        "    'OPN1','OPN3','OPN5','OPN7','OPN8','OPN9','OPN10',        # 7 개방성\n",
        "    'CSN1','CSN3','CSN5','CSN7','CSN9','CSN10',               # 6 성실성\n",
        "    'EXT1','EXT3','EXT5','EXT7','EXT9',                       # 5 외향성\n",
        "    'AGR2','AGR4','AGR6','AGR8','AGR9','AGR10',               # 6 친화성\n",
        "    'EST1','EST3','EST5','EST6','EST7','EST8','EST9','EST10', # 8 안정성(신경성)\n",
        "]\n",
        "\n",
        "neg_questions = [\n",
        "    'OPN2','OPN4','OPN6',                # 3 개방성\n",
        "    'CSN2','CSN4','CSN6','CSN8',         # 4 성실성\n",
        "    'EXT2','EXT4','EXT6','EXT8','EXT10', # 5 외향성\n",
        "    'AGR1','AGR3','AGR5','AGR7',         # 4 친화성\n",
        "    'EST2','EST4',                       # 2 안정성(신경성)\n",
        "]\n",
        "\n",
        "use_cols = ['country'] + pos_questions + neg_questions "
      ],
      "execution_count": 7,
      "outputs": []
    },
    {
      "cell_type": "code",
      "metadata": {
        "id": "PoS6s5riD0xU"
      },
      "source": [
        "# Big Five Personality Test Import \n",
        "trait = pd.read_csv('data-final.csv', sep = '\\t', usecols=use_cols)"
      ],
      "execution_count": 8,
      "outputs": []
    },
    {
      "cell_type": "code",
      "metadata": {
        "id": "BHLWkdQ3Ok_C"
      },
      "source": [
        "# 값이 0인 경우 NaN 처리 + 해당 row 삭제\n",
        "trait = trait.replace(0,np.NaN).dropna(axis = 0).reset_index(drop = True)"
      ],
      "execution_count": 9,
      "outputs": []
    },
    {
      "cell_type": "code",
      "metadata": {
        "id": "SdcOslaG83xu"
      },
      "source": [
        "# Country Name이 None 인 경우 삭제\n",
        "i = trait.loc[trait.country == 'NONE'].index\n",
        "trait.drop(i, inplace= True)"
      ],
      "execution_count": 10,
      "outputs": []
    },
    {
      "cell_type": "code",
      "metadata": {
        "id": "oZP2LCiYPnEm",
        "outputId": "58250055-df4a-4047-9fe9-41f740d5cf8a",
        "colab": {
          "base_uri": "https://localhost:8080/",
          "height": 204
        }
      },
      "source": [
        "trait.loc[:,['EXT'+str(i) for i in range(1,11)]+['country']].head(5)"
      ],
      "execution_count": 74,
      "outputs": [
        {
          "output_type": "execute_result",
          "data": {
            "text/html": [
              "<div>\n",
              "<style scoped>\n",
              "    .dataframe tbody tr th:only-of-type {\n",
              "        vertical-align: middle;\n",
              "    }\n",
              "\n",
              "    .dataframe tbody tr th {\n",
              "        vertical-align: top;\n",
              "    }\n",
              "\n",
              "    .dataframe thead th {\n",
              "        text-align: right;\n",
              "    }\n",
              "</style>\n",
              "<table border=\"1\" class=\"dataframe\">\n",
              "  <thead>\n",
              "    <tr style=\"text-align: right;\">\n",
              "      <th></th>\n",
              "      <th>EXT1</th>\n",
              "      <th>EXT2</th>\n",
              "      <th>EXT3</th>\n",
              "      <th>EXT4</th>\n",
              "      <th>EXT5</th>\n",
              "      <th>EXT6</th>\n",
              "      <th>EXT7</th>\n",
              "      <th>EXT8</th>\n",
              "      <th>EXT9</th>\n",
              "      <th>EXT10</th>\n",
              "      <th>country</th>\n",
              "    </tr>\n",
              "  </thead>\n",
              "  <tbody>\n",
              "    <tr>\n",
              "      <th>0</th>\n",
              "      <td>4.0</td>\n",
              "      <td>1.0</td>\n",
              "      <td>5.0</td>\n",
              "      <td>2.0</td>\n",
              "      <td>5.0</td>\n",
              "      <td>1.0</td>\n",
              "      <td>5.0</td>\n",
              "      <td>2.0</td>\n",
              "      <td>4.0</td>\n",
              "      <td>1.0</td>\n",
              "      <td>GB</td>\n",
              "    </tr>\n",
              "    <tr>\n",
              "      <th>1</th>\n",
              "      <td>3.0</td>\n",
              "      <td>5.0</td>\n",
              "      <td>3.0</td>\n",
              "      <td>4.0</td>\n",
              "      <td>3.0</td>\n",
              "      <td>3.0</td>\n",
              "      <td>2.0</td>\n",
              "      <td>5.0</td>\n",
              "      <td>1.0</td>\n",
              "      <td>5.0</td>\n",
              "      <td>MY</td>\n",
              "    </tr>\n",
              "    <tr>\n",
              "      <th>2</th>\n",
              "      <td>2.0</td>\n",
              "      <td>3.0</td>\n",
              "      <td>4.0</td>\n",
              "      <td>4.0</td>\n",
              "      <td>3.0</td>\n",
              "      <td>2.0</td>\n",
              "      <td>1.0</td>\n",
              "      <td>3.0</td>\n",
              "      <td>2.0</td>\n",
              "      <td>5.0</td>\n",
              "      <td>GB</td>\n",
              "    </tr>\n",
              "    <tr>\n",
              "      <th>3</th>\n",
              "      <td>2.0</td>\n",
              "      <td>2.0</td>\n",
              "      <td>2.0</td>\n",
              "      <td>3.0</td>\n",
              "      <td>4.0</td>\n",
              "      <td>2.0</td>\n",
              "      <td>2.0</td>\n",
              "      <td>4.0</td>\n",
              "      <td>1.0</td>\n",
              "      <td>4.0</td>\n",
              "      <td>GB</td>\n",
              "    </tr>\n",
              "    <tr>\n",
              "      <th>4</th>\n",
              "      <td>3.0</td>\n",
              "      <td>3.0</td>\n",
              "      <td>3.0</td>\n",
              "      <td>3.0</td>\n",
              "      <td>5.0</td>\n",
              "      <td>3.0</td>\n",
              "      <td>3.0</td>\n",
              "      <td>5.0</td>\n",
              "      <td>3.0</td>\n",
              "      <td>4.0</td>\n",
              "      <td>KE</td>\n",
              "    </tr>\n",
              "  </tbody>\n",
              "</table>\n",
              "</div>"
            ],
            "text/plain": [
              "   EXT1  EXT2  EXT3  EXT4  EXT5  EXT6  EXT7  EXT8  EXT9  EXT10 country\n",
              "0   4.0   1.0   5.0   2.0   5.0   1.0   5.0   2.0   4.0    1.0      GB\n",
              "1   3.0   5.0   3.0   4.0   3.0   3.0   2.0   5.0   1.0    5.0      MY\n",
              "2   2.0   3.0   4.0   4.0   3.0   2.0   1.0   3.0   2.0    5.0      GB\n",
              "3   2.0   2.0   2.0   3.0   4.0   2.0   2.0   4.0   1.0    4.0      GB\n",
              "4   3.0   3.0   3.0   3.0   5.0   3.0   3.0   5.0   3.0    4.0      KE"
            ]
          },
          "metadata": {
            "tags": []
          },
          "execution_count": 74
        }
      ]
    },
    {
      "cell_type": "code",
      "metadata": {
        "id": "zJ_6b1OZXbM3",
        "outputId": "6bf151ea-7b0d-48f0-a96a-fde5ec4b2ff2",
        "colab": {
          "base_uri": "https://localhost:8080/"
        }
      },
      "source": [
        "['EXT'+str(i) for i in range(1,11)]"
      ],
      "execution_count": 72,
      "outputs": [
        {
          "output_type": "execute_result",
          "data": {
            "text/plain": [
              "['EXT1',\n",
              " 'EXT2',\n",
              " 'EXT3',\n",
              " 'EXT4',\n",
              " 'EXT5',\n",
              " 'EXT6',\n",
              " 'EXT7',\n",
              " 'EXT8',\n",
              " 'EXT9',\n",
              " 'EXT10']"
            ]
          },
          "metadata": {
            "tags": []
          },
          "execution_count": 72
        }
      ]
    },
    {
      "cell_type": "code",
      "metadata": {
        "id": "Q4-Ikc4bP55U",
        "outputId": "d2ec06e4-f471-49e0-e42c-19809daec119",
        "colab": {
          "base_uri": "https://localhost:8080/"
        }
      },
      "source": [
        "# 데이터의 크기가 충분한 국가만 추출\n",
        "train_countries = pd.DataFrame(data = trait.groupby('country')\\\n",
        "                                           .agg('size')\\\n",
        "                                           .loc[trait.groupby('country').agg('size') > 1000])\n",
        "\n",
        "train_countries = train_countries.index.to_list()\n",
        "print(train_countries)\n",
        "len(train_countries)"
      ],
      "execution_count": 12,
      "outputs": [
        {
          "output_type": "stream",
          "text": [
            "['AE', 'AR', 'AT', 'AU', 'BE', 'BG', 'BR', 'CA', 'CH', 'CL', 'CN', 'CO', 'CZ', 'DE', 'DK', 'ES', 'FI', 'FR', 'GB', 'GR', 'HK', 'HR', 'HU', 'ID', 'IE', 'IL', 'IN', 'IT', 'JP', 'KE', 'KR', 'MX', 'MY', 'NL', 'NO', 'NZ', 'PE', 'PH', 'PK', 'PL', 'PT', 'RO', 'RS', 'RU', 'SE', 'SG', 'TH', 'TR', 'US', 'VN', 'ZA']\n"
          ],
          "name": "stdout"
        },
        {
          "output_type": "execute_result",
          "data": {
            "text/plain": [
              "51"
            ]
          },
          "metadata": {
            "tags": []
          },
          "execution_count": 12
        }
      ]
    },
    {
      "cell_type": "code",
      "metadata": {
        "id": "A0oCHhdGRqbj"
      },
      "source": [
        "# train 데이터와 test 데이터 \n",
        "train = trait.loc[trait.country.isin(train_countries)].reset_index(drop = True)\n",
        "test = trait.loc[~trait.country.isin(train_countries)].reset_index(drop = True)"
      ],
      "execution_count": 13,
      "outputs": []
    },
    {
      "cell_type": "code",
      "metadata": {
        "id": "EzZIcIqzTHpO",
        "outputId": "b61842f5-a73b-48d7-fff6-64149fab69b8",
        "colab": {
          "base_uri": "https://localhost:8080/"
        }
      },
      "source": [
        "# train 국가 수 확인\n",
        "print(len(train['country'].unique()))"
      ],
      "execution_count": 14,
      "outputs": [
        {
          "output_type": "stream",
          "text": [
            "51\n"
          ],
          "name": "stdout"
        }
      ]
    },
    {
      "cell_type": "code",
      "metadata": {
        "id": "qMSs3x-5TK0j",
        "outputId": "f453aea5-1b2a-45b4-f9e7-b35a29824676",
        "colab": {
          "base_uri": "https://localhost:8080/"
        }
      },
      "source": [
        "# test 국가 수 확인\n",
        "print(len(test['country'].unique()))"
      ],
      "execution_count": 15,
      "outputs": [
        {
          "output_type": "stream",
          "text": [
            "171\n"
          ],
          "name": "stdout"
        }
      ]
    },
    {
      "cell_type": "code",
      "metadata": {
        "id": "1HfUXjDbQJ5B",
        "outputId": "14a02cc3-646b-4287-cc88-46d4dd369ccb",
        "colab": {
          "base_uri": "https://localhost:8080/",
          "height": 131
        }
      },
      "source": [
        "train.head(2)"
      ],
      "execution_count": 16,
      "outputs": [
        {
          "output_type": "execute_result",
          "data": {
            "text/html": [
              "<div>\n",
              "<style scoped>\n",
              "    .dataframe tbody tr th:only-of-type {\n",
              "        vertical-align: middle;\n",
              "    }\n",
              "\n",
              "    .dataframe tbody tr th {\n",
              "        vertical-align: top;\n",
              "    }\n",
              "\n",
              "    .dataframe thead th {\n",
              "        text-align: right;\n",
              "    }\n",
              "</style>\n",
              "<table border=\"1\" class=\"dataframe\">\n",
              "  <thead>\n",
              "    <tr style=\"text-align: right;\">\n",
              "      <th></th>\n",
              "      <th>EXT1</th>\n",
              "      <th>EXT2</th>\n",
              "      <th>EXT3</th>\n",
              "      <th>EXT4</th>\n",
              "      <th>EXT5</th>\n",
              "      <th>EXT6</th>\n",
              "      <th>EXT7</th>\n",
              "      <th>EXT8</th>\n",
              "      <th>EXT9</th>\n",
              "      <th>EXT10</th>\n",
              "      <th>EST1</th>\n",
              "      <th>EST2</th>\n",
              "      <th>EST3</th>\n",
              "      <th>EST4</th>\n",
              "      <th>EST5</th>\n",
              "      <th>EST6</th>\n",
              "      <th>EST7</th>\n",
              "      <th>EST8</th>\n",
              "      <th>EST9</th>\n",
              "      <th>EST10</th>\n",
              "      <th>AGR1</th>\n",
              "      <th>AGR2</th>\n",
              "      <th>AGR3</th>\n",
              "      <th>AGR4</th>\n",
              "      <th>AGR5</th>\n",
              "      <th>AGR6</th>\n",
              "      <th>AGR7</th>\n",
              "      <th>AGR8</th>\n",
              "      <th>AGR9</th>\n",
              "      <th>AGR10</th>\n",
              "      <th>CSN1</th>\n",
              "      <th>CSN2</th>\n",
              "      <th>CSN3</th>\n",
              "      <th>CSN4</th>\n",
              "      <th>CSN5</th>\n",
              "      <th>CSN6</th>\n",
              "      <th>CSN7</th>\n",
              "      <th>CSN8</th>\n",
              "      <th>CSN9</th>\n",
              "      <th>CSN10</th>\n",
              "      <th>OPN1</th>\n",
              "      <th>OPN2</th>\n",
              "      <th>OPN3</th>\n",
              "      <th>OPN4</th>\n",
              "      <th>OPN5</th>\n",
              "      <th>OPN6</th>\n",
              "      <th>OPN7</th>\n",
              "      <th>OPN8</th>\n",
              "      <th>OPN9</th>\n",
              "      <th>OPN10</th>\n",
              "      <th>country</th>\n",
              "    </tr>\n",
              "  </thead>\n",
              "  <tbody>\n",
              "    <tr>\n",
              "      <th>0</th>\n",
              "      <td>4.0</td>\n",
              "      <td>1.0</td>\n",
              "      <td>5.0</td>\n",
              "      <td>2.0</td>\n",
              "      <td>5.0</td>\n",
              "      <td>1.0</td>\n",
              "      <td>5.0</td>\n",
              "      <td>2.0</td>\n",
              "      <td>4.0</td>\n",
              "      <td>1.0</td>\n",
              "      <td>1.0</td>\n",
              "      <td>4.0</td>\n",
              "      <td>4.0</td>\n",
              "      <td>2.0</td>\n",
              "      <td>2.0</td>\n",
              "      <td>2.0</td>\n",
              "      <td>2.0</td>\n",
              "      <td>2.0</td>\n",
              "      <td>3.0</td>\n",
              "      <td>2.0</td>\n",
              "      <td>2.0</td>\n",
              "      <td>5.0</td>\n",
              "      <td>2.0</td>\n",
              "      <td>4.0</td>\n",
              "      <td>2.0</td>\n",
              "      <td>3.0</td>\n",
              "      <td>2.0</td>\n",
              "      <td>4.0</td>\n",
              "      <td>3.0</td>\n",
              "      <td>4.0</td>\n",
              "      <td>3.0</td>\n",
              "      <td>4.0</td>\n",
              "      <td>3.0</td>\n",
              "      <td>2.0</td>\n",
              "      <td>2.0</td>\n",
              "      <td>4.0</td>\n",
              "      <td>4.0</td>\n",
              "      <td>2.0</td>\n",
              "      <td>4.0</td>\n",
              "      <td>4.0</td>\n",
              "      <td>5.0</td>\n",
              "      <td>1.0</td>\n",
              "      <td>4.0</td>\n",
              "      <td>1.0</td>\n",
              "      <td>4.0</td>\n",
              "      <td>1.0</td>\n",
              "      <td>5.0</td>\n",
              "      <td>3.0</td>\n",
              "      <td>4.0</td>\n",
              "      <td>5.0</td>\n",
              "      <td>GB</td>\n",
              "    </tr>\n",
              "    <tr>\n",
              "      <th>1</th>\n",
              "      <td>3.0</td>\n",
              "      <td>5.0</td>\n",
              "      <td>3.0</td>\n",
              "      <td>4.0</td>\n",
              "      <td>3.0</td>\n",
              "      <td>3.0</td>\n",
              "      <td>2.0</td>\n",
              "      <td>5.0</td>\n",
              "      <td>1.0</td>\n",
              "      <td>5.0</td>\n",
              "      <td>2.0</td>\n",
              "      <td>3.0</td>\n",
              "      <td>4.0</td>\n",
              "      <td>1.0</td>\n",
              "      <td>3.0</td>\n",
              "      <td>1.0</td>\n",
              "      <td>2.0</td>\n",
              "      <td>1.0</td>\n",
              "      <td>3.0</td>\n",
              "      <td>1.0</td>\n",
              "      <td>1.0</td>\n",
              "      <td>4.0</td>\n",
              "      <td>1.0</td>\n",
              "      <td>5.0</td>\n",
              "      <td>1.0</td>\n",
              "      <td>5.0</td>\n",
              "      <td>3.0</td>\n",
              "      <td>4.0</td>\n",
              "      <td>5.0</td>\n",
              "      <td>3.0</td>\n",
              "      <td>3.0</td>\n",
              "      <td>2.0</td>\n",
              "      <td>5.0</td>\n",
              "      <td>3.0</td>\n",
              "      <td>3.0</td>\n",
              "      <td>1.0</td>\n",
              "      <td>3.0</td>\n",
              "      <td>3.0</td>\n",
              "      <td>5.0</td>\n",
              "      <td>3.0</td>\n",
              "      <td>1.0</td>\n",
              "      <td>2.0</td>\n",
              "      <td>4.0</td>\n",
              "      <td>2.0</td>\n",
              "      <td>3.0</td>\n",
              "      <td>1.0</td>\n",
              "      <td>4.0</td>\n",
              "      <td>2.0</td>\n",
              "      <td>5.0</td>\n",
              "      <td>3.0</td>\n",
              "      <td>MY</td>\n",
              "    </tr>\n",
              "  </tbody>\n",
              "</table>\n",
              "</div>"
            ],
            "text/plain": [
              "   EXT1  EXT2  EXT3  EXT4  EXT5  EXT6  ...  OPN6  OPN7  OPN8  OPN9  OPN10  country\n",
              "0   4.0   1.0   5.0   2.0   5.0   1.0  ...   1.0   5.0   3.0   4.0    5.0       GB\n",
              "1   3.0   5.0   3.0   4.0   3.0   3.0  ...   1.0   4.0   2.0   5.0    3.0       MY\n",
              "\n",
              "[2 rows x 51 columns]"
            ]
          },
          "metadata": {
            "tags": []
          },
          "execution_count": 16
        }
      ]
    },
    {
      "cell_type": "code",
      "metadata": {
        "id": "Y3fvSgMWQN6t",
        "outputId": "face692f-52f6-4c1a-f4b6-05067ef130a4",
        "colab": {
          "base_uri": "https://localhost:8080/",
          "height": 131
        }
      },
      "source": [
        "test.head(2)"
      ],
      "execution_count": 17,
      "outputs": [
        {
          "output_type": "execute_result",
          "data": {
            "text/html": [
              "<div>\n",
              "<style scoped>\n",
              "    .dataframe tbody tr th:only-of-type {\n",
              "        vertical-align: middle;\n",
              "    }\n",
              "\n",
              "    .dataframe tbody tr th {\n",
              "        vertical-align: top;\n",
              "    }\n",
              "\n",
              "    .dataframe thead th {\n",
              "        text-align: right;\n",
              "    }\n",
              "</style>\n",
              "<table border=\"1\" class=\"dataframe\">\n",
              "  <thead>\n",
              "    <tr style=\"text-align: right;\">\n",
              "      <th></th>\n",
              "      <th>EXT1</th>\n",
              "      <th>EXT2</th>\n",
              "      <th>EXT3</th>\n",
              "      <th>EXT4</th>\n",
              "      <th>EXT5</th>\n",
              "      <th>EXT6</th>\n",
              "      <th>EXT7</th>\n",
              "      <th>EXT8</th>\n",
              "      <th>EXT9</th>\n",
              "      <th>EXT10</th>\n",
              "      <th>EST1</th>\n",
              "      <th>EST2</th>\n",
              "      <th>EST3</th>\n",
              "      <th>EST4</th>\n",
              "      <th>EST5</th>\n",
              "      <th>EST6</th>\n",
              "      <th>EST7</th>\n",
              "      <th>EST8</th>\n",
              "      <th>EST9</th>\n",
              "      <th>EST10</th>\n",
              "      <th>AGR1</th>\n",
              "      <th>AGR2</th>\n",
              "      <th>AGR3</th>\n",
              "      <th>AGR4</th>\n",
              "      <th>AGR5</th>\n",
              "      <th>AGR6</th>\n",
              "      <th>AGR7</th>\n",
              "      <th>AGR8</th>\n",
              "      <th>AGR9</th>\n",
              "      <th>AGR10</th>\n",
              "      <th>CSN1</th>\n",
              "      <th>CSN2</th>\n",
              "      <th>CSN3</th>\n",
              "      <th>CSN4</th>\n",
              "      <th>CSN5</th>\n",
              "      <th>CSN6</th>\n",
              "      <th>CSN7</th>\n",
              "      <th>CSN8</th>\n",
              "      <th>CSN9</th>\n",
              "      <th>CSN10</th>\n",
              "      <th>OPN1</th>\n",
              "      <th>OPN2</th>\n",
              "      <th>OPN3</th>\n",
              "      <th>OPN4</th>\n",
              "      <th>OPN5</th>\n",
              "      <th>OPN6</th>\n",
              "      <th>OPN7</th>\n",
              "      <th>OPN8</th>\n",
              "      <th>OPN9</th>\n",
              "      <th>OPN10</th>\n",
              "      <th>country</th>\n",
              "    </tr>\n",
              "  </thead>\n",
              "  <tbody>\n",
              "    <tr>\n",
              "      <th>0</th>\n",
              "      <td>3.0</td>\n",
              "      <td>3.0</td>\n",
              "      <td>2.0</td>\n",
              "      <td>3.0</td>\n",
              "      <td>3.0</td>\n",
              "      <td>2.0</td>\n",
              "      <td>4.0</td>\n",
              "      <td>3.0</td>\n",
              "      <td>3.0</td>\n",
              "      <td>5.0</td>\n",
              "      <td>4.0</td>\n",
              "      <td>3.0</td>\n",
              "      <td>4.0</td>\n",
              "      <td>1.0</td>\n",
              "      <td>2.0</td>\n",
              "      <td>3.0</td>\n",
              "      <td>5.0</td>\n",
              "      <td>4.0</td>\n",
              "      <td>4.0</td>\n",
              "      <td>5.0</td>\n",
              "      <td>2.0</td>\n",
              "      <td>5.0</td>\n",
              "      <td>3.0</td>\n",
              "      <td>4.0</td>\n",
              "      <td>2.0</td>\n",
              "      <td>3.0</td>\n",
              "      <td>1.0</td>\n",
              "      <td>3.0</td>\n",
              "      <td>4.0</td>\n",
              "      <td>2.0</td>\n",
              "      <td>1.0</td>\n",
              "      <td>5.0</td>\n",
              "      <td>5.0</td>\n",
              "      <td>5.0</td>\n",
              "      <td>1.0</td>\n",
              "      <td>5.0</td>\n",
              "      <td>3.0</td>\n",
              "      <td>1.0</td>\n",
              "      <td>1.0</td>\n",
              "      <td>5.0</td>\n",
              "      <td>5.0</td>\n",
              "      <td>1.0</td>\n",
              "      <td>5.0</td>\n",
              "      <td>1.0</td>\n",
              "      <td>5.0</td>\n",
              "      <td>1.0</td>\n",
              "      <td>5.0</td>\n",
              "      <td>5.0</td>\n",
              "      <td>5.0</td>\n",
              "      <td>5.0</td>\n",
              "      <td>UA</td>\n",
              "    </tr>\n",
              "    <tr>\n",
              "      <th>1</th>\n",
              "      <td>2.0</td>\n",
              "      <td>1.0</td>\n",
              "      <td>3.0</td>\n",
              "      <td>3.0</td>\n",
              "      <td>5.0</td>\n",
              "      <td>2.0</td>\n",
              "      <td>4.0</td>\n",
              "      <td>5.0</td>\n",
              "      <td>5.0</td>\n",
              "      <td>3.0</td>\n",
              "      <td>5.0</td>\n",
              "      <td>1.0</td>\n",
              "      <td>5.0</td>\n",
              "      <td>1.0</td>\n",
              "      <td>5.0</td>\n",
              "      <td>5.0</td>\n",
              "      <td>1.0</td>\n",
              "      <td>5.0</td>\n",
              "      <td>5.0</td>\n",
              "      <td>5.0</td>\n",
              "      <td>4.0</td>\n",
              "      <td>5.0</td>\n",
              "      <td>4.0</td>\n",
              "      <td>4.0</td>\n",
              "      <td>2.0</td>\n",
              "      <td>4.0</td>\n",
              "      <td>1.0</td>\n",
              "      <td>4.0</td>\n",
              "      <td>4.0</td>\n",
              "      <td>5.0</td>\n",
              "      <td>1.0</td>\n",
              "      <td>1.0</td>\n",
              "      <td>5.0</td>\n",
              "      <td>5.0</td>\n",
              "      <td>1.0</td>\n",
              "      <td>5.0</td>\n",
              "      <td>5.0</td>\n",
              "      <td>5.0</td>\n",
              "      <td>1.0</td>\n",
              "      <td>1.0</td>\n",
              "      <td>2.0</td>\n",
              "      <td>5.0</td>\n",
              "      <td>5.0</td>\n",
              "      <td>5.0</td>\n",
              "      <td>1.0</td>\n",
              "      <td>2.0</td>\n",
              "      <td>4.0</td>\n",
              "      <td>2.0</td>\n",
              "      <td>4.0</td>\n",
              "      <td>3.0</td>\n",
              "      <td>OM</td>\n",
              "    </tr>\n",
              "  </tbody>\n",
              "</table>\n",
              "</div>"
            ],
            "text/plain": [
              "   EXT1  EXT2  EXT3  EXT4  EXT5  EXT6  ...  OPN6  OPN7  OPN8  OPN9  OPN10  country\n",
              "0   3.0   3.0   2.0   3.0   3.0   2.0  ...   1.0   5.0   5.0   5.0    5.0       UA\n",
              "1   2.0   1.0   3.0   3.0   5.0   2.0  ...   2.0   4.0   2.0   4.0    3.0       OM\n",
              "\n",
              "[2 rows x 51 columns]"
            ]
          },
          "metadata": {
            "tags": []
          },
          "execution_count": 17
        }
      ]
    },
    {
      "cell_type": "code",
      "metadata": {
        "id": "N7Jr27VIwTvt",
        "outputId": "d3383526-5ea9-44c2-a835-b34fe62fe68a",
        "colab": {
          "base_uri": "https://localhost:8080/"
        }
      },
      "source": [
        "# test 데이터 또한 샘플이 최소 500개는 가지도록 \n",
        "test_countries = test.groupby('country').size()\\\n",
        "                     .loc[test.groupby('country').size() > 500]\\\n",
        "                     .index.to_list()\n",
        "\n",
        "test = test.loc[test.country.isin(test_countries)]\n",
        "print(len(test.country.unique()))"
      ],
      "execution_count": 18,
      "outputs": [
        {
          "output_type": "stream",
          "text": [
            "16\n"
          ],
          "name": "stdout"
        }
      ]
    },
    {
      "cell_type": "code",
      "metadata": {
        "id": "7r762a2YR7Fp"
      },
      "source": [
        "# 평균 계산을 위해 negative question 점수 scale 바꾸기\n",
        "train[neg_questions] = train[neg_questions].apply(lambda x: 6 - x)\n",
        "test[neg_questions] = test[neg_questions].apply(lambda x: 6 - x)"
      ],
      "execution_count": 19,
      "outputs": []
    },
    {
      "cell_type": "code",
      "metadata": {
        "id": "2SvJ08zBK4_G"
      },
      "source": [
        "df_train = train.copy()\n",
        "df_test = test.copy()"
      ],
      "execution_count": 20,
      "outputs": []
    },
    {
      "cell_type": "code",
      "metadata": {
        "id": "Ba4Ux-iR9y_Y"
      },
      "source": [
        "# Fucntion \n",
        "def summing_axis (df):\n",
        "  traits = ['OPN','CSN','EXT','AGR','EST']\n",
        "  for trait in traits:\n",
        "    df[trait] = df[[col for col in df.columns if trait in col]].sum(axis = 1)\n",
        "  return df[traits+['country']]\n",
        "  "
      ],
      "execution_count": 21,
      "outputs": []
    },
    {
      "cell_type": "code",
      "metadata": {
        "id": "QDJsno87-ZtG"
      },
      "source": [
        "df_train = summing_axis(df_train)\n",
        "df_test = summing_axis(df_test)"
      ],
      "execution_count": 22,
      "outputs": []
    },
    {
      "cell_type": "code",
      "metadata": {
        "id": "8LpNn3A5R_-v",
        "outputId": "e923bdef-cbf8-463c-91c0-ad8bea47397b",
        "colab": {
          "base_uri": "https://localhost:8080/"
        }
      },
      "source": [
        "print(len(df_train.country.unique()))"
      ],
      "execution_count": 24,
      "outputs": [
        {
          "output_type": "stream",
          "text": [
            "51\n"
          ],
          "name": "stdout"
        }
      ]
    },
    {
      "cell_type": "code",
      "metadata": {
        "id": "b-Slt3cyT_5Q",
        "outputId": "b35b288c-16e6-495a-a013-f2bd5c2b2808",
        "colab": {
          "base_uri": "https://localhost:8080/"
        }
      },
      "source": [
        "print(len(df_test.country.unique()))"
      ],
      "execution_count": 25,
      "outputs": [
        {
          "output_type": "stream",
          "text": [
            "16\n"
          ],
          "name": "stdout"
        }
      ]
    },
    {
      "cell_type": "code",
      "metadata": {
        "id": "Dx7bF_RqQpCw",
        "outputId": "c61c9c4b-1a19-4be5-ce4c-2a761116584c",
        "colab": {
          "base_uri": "https://localhost:8080/",
          "height": 111
        }
      },
      "source": [
        "df_test.head(2)"
      ],
      "execution_count": 26,
      "outputs": [
        {
          "output_type": "execute_result",
          "data": {
            "text/html": [
              "<div>\n",
              "<style scoped>\n",
              "    .dataframe tbody tr th:only-of-type {\n",
              "        vertical-align: middle;\n",
              "    }\n",
              "\n",
              "    .dataframe tbody tr th {\n",
              "        vertical-align: top;\n",
              "    }\n",
              "\n",
              "    .dataframe thead th {\n",
              "        text-align: right;\n",
              "    }\n",
              "</style>\n",
              "<table border=\"1\" class=\"dataframe\">\n",
              "  <thead>\n",
              "    <tr style=\"text-align: right;\">\n",
              "      <th></th>\n",
              "      <th>OPN</th>\n",
              "      <th>CSN</th>\n",
              "      <th>EXT</th>\n",
              "      <th>AGR</th>\n",
              "      <th>EST</th>\n",
              "      <th>country</th>\n",
              "    </tr>\n",
              "  </thead>\n",
              "  <tbody>\n",
              "    <tr>\n",
              "      <th>0</th>\n",
              "      <td>50.0</td>\n",
              "      <td>24.0</td>\n",
              "      <td>29.0</td>\n",
              "      <td>37.0</td>\n",
              "      <td>39.0</td>\n",
              "      <td>UA</td>\n",
              "    </tr>\n",
              "    <tr>\n",
              "      <th>4</th>\n",
              "      <td>32.0</td>\n",
              "      <td>28.0</td>\n",
              "      <td>36.0</td>\n",
              "      <td>41.0</td>\n",
              "      <td>19.0</td>\n",
              "      <td>NG</td>\n",
              "    </tr>\n",
              "  </tbody>\n",
              "</table>\n",
              "</div>"
            ],
            "text/plain": [
              "    OPN   CSN   EXT   AGR   EST country\n",
              "0  50.0  24.0  29.0  37.0  39.0      UA\n",
              "4  32.0  28.0  36.0  41.0  19.0      NG"
            ]
          },
          "metadata": {
            "tags": []
          },
          "execution_count": 26
        }
      ]
    },
    {
      "cell_type": "code",
      "metadata": {
        "id": "7ljM96ZAjLjK",
        "outputId": "86cfa002-ca11-4175-c8c1-c95080ed0cdc",
        "colab": {
          "base_uri": "https://localhost:8080/",
          "height": 204
        }
      },
      "source": [
        "# 나라별로 train data mean 구하기\n",
        "mean_train = df_train.groupby('country').mean().rename_axis('country').reset_index()\n",
        "mean_train.columns = ['국가코드', '개방성', '성실성', '외향성', '우호성', '안정성']\n",
        "mean_train.head()"
      ],
      "execution_count": 27,
      "outputs": [
        {
          "output_type": "execute_result",
          "data": {
            "text/html": [
              "<div>\n",
              "<style scoped>\n",
              "    .dataframe tbody tr th:only-of-type {\n",
              "        vertical-align: middle;\n",
              "    }\n",
              "\n",
              "    .dataframe tbody tr th {\n",
              "        vertical-align: top;\n",
              "    }\n",
              "\n",
              "    .dataframe thead th {\n",
              "        text-align: right;\n",
              "    }\n",
              "</style>\n",
              "<table border=\"1\" class=\"dataframe\">\n",
              "  <thead>\n",
              "    <tr style=\"text-align: right;\">\n",
              "      <th></th>\n",
              "      <th>국가코드</th>\n",
              "      <th>개방성</th>\n",
              "      <th>성실성</th>\n",
              "      <th>외향성</th>\n",
              "      <th>우호성</th>\n",
              "      <th>안정성</th>\n",
              "    </tr>\n",
              "  </thead>\n",
              "  <tbody>\n",
              "    <tr>\n",
              "      <th>0</th>\n",
              "      <td>AE</td>\n",
              "      <td>37.639791</td>\n",
              "      <td>34.032090</td>\n",
              "      <td>30.261933</td>\n",
              "      <td>37.917770</td>\n",
              "      <td>31.475732</td>\n",
              "    </tr>\n",
              "    <tr>\n",
              "      <th>1</th>\n",
              "      <td>AR</td>\n",
              "      <td>40.133075</td>\n",
              "      <td>31.678530</td>\n",
              "      <td>28.345068</td>\n",
              "      <td>36.416248</td>\n",
              "      <td>32.381431</td>\n",
              "    </tr>\n",
              "    <tr>\n",
              "      <th>2</th>\n",
              "      <td>AT</td>\n",
              "      <td>40.836251</td>\n",
              "      <td>32.518538</td>\n",
              "      <td>29.899588</td>\n",
              "      <td>36.876931</td>\n",
              "      <td>29.856334</td>\n",
              "    </tr>\n",
              "    <tr>\n",
              "      <th>3</th>\n",
              "      <td>AU</td>\n",
              "      <td>38.551472</td>\n",
              "      <td>33.626061</td>\n",
              "      <td>29.937915</td>\n",
              "      <td>37.918328</td>\n",
              "      <td>30.393272</td>\n",
              "    </tr>\n",
              "    <tr>\n",
              "      <th>4</th>\n",
              "      <td>BE</td>\n",
              "      <td>39.308450</td>\n",
              "      <td>32.029262</td>\n",
              "      <td>29.967453</td>\n",
              "      <td>37.661989</td>\n",
              "      <td>30.598089</td>\n",
              "    </tr>\n",
              "  </tbody>\n",
              "</table>\n",
              "</div>"
            ],
            "text/plain": [
              "  국가코드        개방성        성실성        외향성        우호성        안정성\n",
              "0   AE  37.639791  34.032090  30.261933  37.917770  31.475732\n",
              "1   AR  40.133075  31.678530  28.345068  36.416248  32.381431\n",
              "2   AT  40.836251  32.518538  29.899588  36.876931  29.856334\n",
              "3   AU  38.551472  33.626061  29.937915  37.918328  30.393272\n",
              "4   BE  39.308450  32.029262  29.967453  37.661989  30.598089"
            ]
          },
          "metadata": {
            "tags": []
          },
          "execution_count": 27
        }
      ]
    },
    {
      "cell_type": "code",
      "metadata": {
        "id": "dO2Q0e06UOfm",
        "outputId": "3f23b58a-7f33-44ff-98c2-1a4db9419699",
        "colab": {
          "base_uri": "https://localhost:8080/"
        }
      },
      "source": [
        "print(len(mean_train['국가코드'].unique()))"
      ],
      "execution_count": 28,
      "outputs": [
        {
          "output_type": "stream",
          "text": [
            "51\n"
          ],
          "name": "stdout"
        }
      ]
    },
    {
      "cell_type": "code",
      "metadata": {
        "id": "egM0XTia94Nl",
        "outputId": "71d3fd3c-aaff-4943-d537-9e32e1a3de4f",
        "colab": {
          "base_uri": "https://localhost:8080/",
          "height": 204
        }
      },
      "source": [
        "# 나라별로 test data mean 구하기\n",
        "mean_test = df_test.groupby('country').mean().rename_axis('country').reset_index()\n",
        "mean_test.columns = ['국가코드', '개방성', '성실성', '외향성', '우호성', '안정성']\n",
        "mean_test.head()"
      ],
      "execution_count": 29,
      "outputs": [
        {
          "output_type": "execute_result",
          "data": {
            "text/html": [
              "<div>\n",
              "<style scoped>\n",
              "    .dataframe tbody tr th:only-of-type {\n",
              "        vertical-align: middle;\n",
              "    }\n",
              "\n",
              "    .dataframe tbody tr th {\n",
              "        vertical-align: top;\n",
              "    }\n",
              "\n",
              "    .dataframe thead th {\n",
              "        text-align: right;\n",
              "    }\n",
              "</style>\n",
              "<table border=\"1\" class=\"dataframe\">\n",
              "  <thead>\n",
              "    <tr style=\"text-align: right;\">\n",
              "      <th></th>\n",
              "      <th>국가코드</th>\n",
              "      <th>개방성</th>\n",
              "      <th>성실성</th>\n",
              "      <th>외향성</th>\n",
              "      <th>우호성</th>\n",
              "      <th>안정성</th>\n",
              "    </tr>\n",
              "  </thead>\n",
              "  <tbody>\n",
              "    <tr>\n",
              "      <th>0</th>\n",
              "      <td>CR</td>\n",
              "      <td>39.633028</td>\n",
              "      <td>32.664220</td>\n",
              "      <td>28.759633</td>\n",
              "      <td>35.908257</td>\n",
              "      <td>31.051376</td>\n",
              "    </tr>\n",
              "    <tr>\n",
              "      <th>1</th>\n",
              "      <td>EC</td>\n",
              "      <td>38.383138</td>\n",
              "      <td>31.910352</td>\n",
              "      <td>29.119530</td>\n",
              "      <td>35.337247</td>\n",
              "      <td>31.806830</td>\n",
              "    </tr>\n",
              "    <tr>\n",
              "      <th>2</th>\n",
              "      <td>EE</td>\n",
              "      <td>38.964045</td>\n",
              "      <td>32.362921</td>\n",
              "      <td>28.283146</td>\n",
              "      <td>35.783146</td>\n",
              "      <td>30.279775</td>\n",
              "    </tr>\n",
              "    <tr>\n",
              "      <th>3</th>\n",
              "      <td>EG</td>\n",
              "      <td>37.943890</td>\n",
              "      <td>33.007481</td>\n",
              "      <td>28.480050</td>\n",
              "      <td>36.966334</td>\n",
              "      <td>33.011222</td>\n",
              "    </tr>\n",
              "    <tr>\n",
              "      <th>4</th>\n",
              "      <td>IS</td>\n",
              "      <td>39.057728</td>\n",
              "      <td>32.614525</td>\n",
              "      <td>30.225326</td>\n",
              "      <td>37.696462</td>\n",
              "      <td>30.463687</td>\n",
              "    </tr>\n",
              "  </tbody>\n",
              "</table>\n",
              "</div>"
            ],
            "text/plain": [
              "  국가코드        개방성        성실성        외향성        우호성        안정성\n",
              "0   CR  39.633028  32.664220  28.759633  35.908257  31.051376\n",
              "1   EC  38.383138  31.910352  29.119530  35.337247  31.806830\n",
              "2   EE  38.964045  32.362921  28.283146  35.783146  30.279775\n",
              "3   EG  37.943890  33.007481  28.480050  36.966334  33.011222\n",
              "4   IS  39.057728  32.614525  30.225326  37.696462  30.463687"
            ]
          },
          "metadata": {
            "tags": []
          },
          "execution_count": 29
        }
      ]
    },
    {
      "cell_type": "code",
      "metadata": {
        "id": "DBuNlsflUX6r",
        "outputId": "e205a586-7e92-4512-f77c-2444a9cc9a87",
        "colab": {
          "base_uri": "https://localhost:8080/"
        }
      },
      "source": [
        "print(len(mean_test['국가코드'].unique()))"
      ],
      "execution_count": 30,
      "outputs": [
        {
          "output_type": "stream",
          "text": [
            "16\n"
          ],
          "name": "stdout"
        }
      ]
    },
    {
      "cell_type": "code",
      "metadata": {
        "id": "sieAOq8vynM2",
        "outputId": "259a7a04-a9dc-4951-87f5-7b1227245cc6",
        "colab": {
          "base_uri": "https://localhost:8080/",
          "height": 204
        }
      },
      "source": [
        "# train 데이터 필터링\n",
        "train_covid = df_covid.loc[df_covid['국가코드'].isin(train_countries)].reset_index(drop = True)\n",
        "train_covid.head()"
      ],
      "execution_count": 31,
      "outputs": [
        {
          "output_type": "execute_result",
          "data": {
            "text/html": [
              "<div>\n",
              "<style scoped>\n",
              "    .dataframe tbody tr th:only-of-type {\n",
              "        vertical-align: middle;\n",
              "    }\n",
              "\n",
              "    .dataframe tbody tr th {\n",
              "        vertical-align: top;\n",
              "    }\n",
              "\n",
              "    .dataframe thead th {\n",
              "        text-align: right;\n",
              "    }\n",
              "</style>\n",
              "<table border=\"1\" class=\"dataframe\">\n",
              "  <thead>\n",
              "    <tr style=\"text-align: right;\">\n",
              "      <th></th>\n",
              "      <th>국가</th>\n",
              "      <th>국가코드</th>\n",
              "      <th>확진자 수</th>\n",
              "    </tr>\n",
              "  </thead>\n",
              "  <tbody>\n",
              "    <tr>\n",
              "      <th>0</th>\n",
              "      <td>Argentina</td>\n",
              "      <td>AR</td>\n",
              "      <td>798486</td>\n",
              "    </tr>\n",
              "    <tr>\n",
              "      <th>1</th>\n",
              "      <td>Australia</td>\n",
              "      <td>AU</td>\n",
              "      <td>27149</td>\n",
              "    </tr>\n",
              "    <tr>\n",
              "      <th>2</th>\n",
              "      <td>Austria</td>\n",
              "      <td>AT</td>\n",
              "      <td>49886</td>\n",
              "    </tr>\n",
              "    <tr>\n",
              "      <th>3</th>\n",
              "      <td>Belgium</td>\n",
              "      <td>BE</td>\n",
              "      <td>132109</td>\n",
              "    </tr>\n",
              "    <tr>\n",
              "      <th>4</th>\n",
              "      <td>Brazil</td>\n",
              "      <td>BR</td>\n",
              "      <td>4915289</td>\n",
              "    </tr>\n",
              "  </tbody>\n",
              "</table>\n",
              "</div>"
            ],
            "text/plain": [
              "          국가 국가코드    확진자 수\n",
              "0  Argentina   AR   798486\n",
              "1  Australia   AU    27149\n",
              "2    Austria   AT    49886\n",
              "3    Belgium   BE   132109\n",
              "4     Brazil   BR  4915289"
            ]
          },
          "metadata": {
            "tags": []
          },
          "execution_count": 31
        }
      ]
    },
    {
      "cell_type": "code",
      "metadata": {
        "id": "P9ZKYMh5UcpY",
        "outputId": "f4dc41f5-c55d-4f2b-9ac3-88a978c7d0af",
        "colab": {
          "base_uri": "https://localhost:8080/"
        }
      },
      "source": [
        "print(len(train_covid['국가'].unique()))"
      ],
      "execution_count": 32,
      "outputs": [
        {
          "output_type": "stream",
          "text": [
            "50\n"
          ],
          "name": "stdout"
        }
      ]
    },
    {
      "cell_type": "code",
      "metadata": {
        "id": "N0rzgSZWe2ey",
        "outputId": "709c69ba-1e1f-4ffa-f0c4-3696adc5f46a",
        "colab": {
          "base_uri": "https://localhost:8080/",
          "height": 204
        }
      },
      "source": [
        "# 빅 파이브 성격테스트와 COVID19 데이터 합치기\n",
        "df_train = train_covid.merge(mean_train, on = '국가코드')\n",
        "df_train.head()"
      ],
      "execution_count": 33,
      "outputs": [
        {
          "output_type": "execute_result",
          "data": {
            "text/html": [
              "<div>\n",
              "<style scoped>\n",
              "    .dataframe tbody tr th:only-of-type {\n",
              "        vertical-align: middle;\n",
              "    }\n",
              "\n",
              "    .dataframe tbody tr th {\n",
              "        vertical-align: top;\n",
              "    }\n",
              "\n",
              "    .dataframe thead th {\n",
              "        text-align: right;\n",
              "    }\n",
              "</style>\n",
              "<table border=\"1\" class=\"dataframe\">\n",
              "  <thead>\n",
              "    <tr style=\"text-align: right;\">\n",
              "      <th></th>\n",
              "      <th>국가</th>\n",
              "      <th>국가코드</th>\n",
              "      <th>확진자 수</th>\n",
              "      <th>개방성</th>\n",
              "      <th>성실성</th>\n",
              "      <th>외향성</th>\n",
              "      <th>우호성</th>\n",
              "      <th>안정성</th>\n",
              "    </tr>\n",
              "  </thead>\n",
              "  <tbody>\n",
              "    <tr>\n",
              "      <th>0</th>\n",
              "      <td>Argentina</td>\n",
              "      <td>AR</td>\n",
              "      <td>798486</td>\n",
              "      <td>40.133075</td>\n",
              "      <td>31.678530</td>\n",
              "      <td>28.345068</td>\n",
              "      <td>36.416248</td>\n",
              "      <td>32.381431</td>\n",
              "    </tr>\n",
              "    <tr>\n",
              "      <th>1</th>\n",
              "      <td>Australia</td>\n",
              "      <td>AU</td>\n",
              "      <td>27149</td>\n",
              "      <td>38.551472</td>\n",
              "      <td>33.626061</td>\n",
              "      <td>29.937915</td>\n",
              "      <td>37.918328</td>\n",
              "      <td>30.393272</td>\n",
              "    </tr>\n",
              "    <tr>\n",
              "      <th>2</th>\n",
              "      <td>Austria</td>\n",
              "      <td>AT</td>\n",
              "      <td>49886</td>\n",
              "      <td>40.836251</td>\n",
              "      <td>32.518538</td>\n",
              "      <td>29.899588</td>\n",
              "      <td>36.876931</td>\n",
              "      <td>29.856334</td>\n",
              "    </tr>\n",
              "    <tr>\n",
              "      <th>3</th>\n",
              "      <td>Belgium</td>\n",
              "      <td>BE</td>\n",
              "      <td>132109</td>\n",
              "      <td>39.308450</td>\n",
              "      <td>32.029262</td>\n",
              "      <td>29.967453</td>\n",
              "      <td>37.661989</td>\n",
              "      <td>30.598089</td>\n",
              "    </tr>\n",
              "    <tr>\n",
              "      <th>4</th>\n",
              "      <td>Brazil</td>\n",
              "      <td>BR</td>\n",
              "      <td>4915289</td>\n",
              "      <td>40.536946</td>\n",
              "      <td>31.240467</td>\n",
              "      <td>26.505017</td>\n",
              "      <td>34.946725</td>\n",
              "      <td>31.545703</td>\n",
              "    </tr>\n",
              "  </tbody>\n",
              "</table>\n",
              "</div>"
            ],
            "text/plain": [
              "          국가 국가코드    확진자 수  ...        외향성        우호성        안정성\n",
              "0  Argentina   AR   798486  ...  28.345068  36.416248  32.381431\n",
              "1  Australia   AU    27149  ...  29.937915  37.918328  30.393272\n",
              "2    Austria   AT    49886  ...  29.899588  36.876931  29.856334\n",
              "3    Belgium   BE   132109  ...  29.967453  37.661989  30.598089\n",
              "4     Brazil   BR  4915289  ...  26.505017  34.946725  31.545703\n",
              "\n",
              "[5 rows x 8 columns]"
            ]
          },
          "metadata": {
            "tags": []
          },
          "execution_count": 33
        }
      ]
    },
    {
      "cell_type": "code",
      "metadata": {
        "id": "iADp1qxiRjIg",
        "outputId": "eafca95f-bcbd-4371-f356-f67b7d923e61",
        "colab": {
          "base_uri": "https://localhost:8080/"
        }
      },
      "source": [
        "len(df_train)"
      ],
      "execution_count": 34,
      "outputs": [
        {
          "output_type": "execute_result",
          "data": {
            "text/plain": [
              "50"
            ]
          },
          "metadata": {
            "tags": []
          },
          "execution_count": 34
        }
      ]
    },
    {
      "cell_type": "code",
      "metadata": {
        "id": "AHAlIslok62R",
        "outputId": "b02d3f1a-ecb3-44d2-c9f9-7ecfe6da38ee",
        "colab": {
          "base_uri": "https://localhost:8080/",
          "height": 715
        }
      },
      "source": [
        "# elbow plot\n",
        "distortions = []\n",
        "K = range(1,10)\n",
        "for k in K:\n",
        "    kmeanModel = KMeans(n_clusters=k)\n",
        "    kmeanModel.fit(df_train.iloc[:,3:8])\n",
        "    distortions.append(kmeanModel.inertia_)\n",
        "   \n",
        "\n",
        "plt.figure(figsize=(16,8))\n",
        "plt.plot(K, distortions, 'bx-')\n",
        "plt.xlabel('k')\n",
        "plt.ylabel('Distance')\n",
        "plt.title('The Elbow Plot')\n",
        "plt.vlines(x=3, ymin=0, ymax=300, alpha=0.5, color='blue', linestyle='dashed', linewidth=1.0)\n",
        "plt.show()"
      ],
      "execution_count": 35,
      "outputs": [
        {
          "output_type": "display_data",
          "data": {
            "image/png": "[encoded data removed]",
            "text/plain": [
              "<Figure size 1600x800 with 1 Axes>"
            ]
          },
          "metadata": {
            "tags": []
          }
        }
      ]
    },
    {
      "cell_type": "code",
      "metadata": {
        "id": "lsAQMrC1Ws9O",
        "outputId": "6b0778cc-7acd-4a2c-9f5e-fea1c05c111b",
        "colab": {
          "base_uri": "https://localhost:8080/"
        }
      },
      "source": [
        "# k에 따른 분포 비교\n",
        "\n",
        "for k in range(2,5):\n",
        "    kmeanModel = KMeans(n_clusters=k)\n",
        "    kmeanModel.fit(df_train.iloc[:,3:8])\n",
        "    df_train['군집'] = kmeanModel.labels_\n",
        "    print('k = ', k)\n",
        "    print(df_train['군집'].value_counts(),'\\n')"
      ],
      "execution_count": 36,
      "outputs": [
        {
          "output_type": "stream",
          "text": [
            "k =  2\n",
            "0    26\n",
            "1    24\n",
            "Name: 군집, dtype: int64 \n",
            "\n",
            "k =  3\n",
            "1    22\n",
            "2    16\n",
            "0    12\n",
            "Name: 군집, dtype: int64 \n",
            "\n",
            "k =  4\n",
            "0    22\n",
            "2    13\n",
            "1     9\n",
            "3     6\n",
            "Name: 군집, dtype: int64 \n",
            "\n"
          ],
          "name": "stdout"
        }
      ]
    },
    {
      "cell_type": "code",
      "metadata": {
        "id": "57Ga3BNBs12k",
        "outputId": "e88228ef-aa67-4ae8-c254-95705657ec27",
        "colab": {
          "base_uri": "https://localhost:8080/",
          "height": 204
        }
      },
      "source": [
        "#k = 2로 설정\n",
        "kmeans = KMeans(n_clusters=2)\n",
        "kmeans.fit(df_train.iloc[:,3:8])\n",
        "df_train['군집'] = kmeans.labels_\n",
        "df_train.head()"
      ],
      "execution_count": 37,
      "outputs": [
        {
          "output_type": "execute_result",
          "data": {
            "text/html": [
              "<div>\n",
              "<style scoped>\n",
              "    .dataframe tbody tr th:only-of-type {\n",
              "        vertical-align: middle;\n",
              "    }\n",
              "\n",
              "    .dataframe tbody tr th {\n",
              "        vertical-align: top;\n",
              "    }\n",
              "\n",
              "    .dataframe thead th {\n",
              "        text-align: right;\n",
              "    }\n",
              "</style>\n",
              "<table border=\"1\" class=\"dataframe\">\n",
              "  <thead>\n",
              "    <tr style=\"text-align: right;\">\n",
              "      <th></th>\n",
              "      <th>국가</th>\n",
              "      <th>국가코드</th>\n",
              "      <th>확진자 수</th>\n",
              "      <th>개방성</th>\n",
              "      <th>성실성</th>\n",
              "      <th>외향성</th>\n",
              "      <th>우호성</th>\n",
              "      <th>안정성</th>\n",
              "      <th>군집</th>\n",
              "    </tr>\n",
              "  </thead>\n",
              "  <tbody>\n",
              "    <tr>\n",
              "      <th>0</th>\n",
              "      <td>Argentina</td>\n",
              "      <td>AR</td>\n",
              "      <td>798486</td>\n",
              "      <td>40.133075</td>\n",
              "      <td>31.678530</td>\n",
              "      <td>28.345068</td>\n",
              "      <td>36.416248</td>\n",
              "      <td>32.381431</td>\n",
              "      <td>1</td>\n",
              "    </tr>\n",
              "    <tr>\n",
              "      <th>1</th>\n",
              "      <td>Australia</td>\n",
              "      <td>AU</td>\n",
              "      <td>27149</td>\n",
              "      <td>38.551472</td>\n",
              "      <td>33.626061</td>\n",
              "      <td>29.937915</td>\n",
              "      <td>37.918328</td>\n",
              "      <td>30.393272</td>\n",
              "      <td>0</td>\n",
              "    </tr>\n",
              "    <tr>\n",
              "      <th>2</th>\n",
              "      <td>Austria</td>\n",
              "      <td>AT</td>\n",
              "      <td>49886</td>\n",
              "      <td>40.836251</td>\n",
              "      <td>32.518538</td>\n",
              "      <td>29.899588</td>\n",
              "      <td>36.876931</td>\n",
              "      <td>29.856334</td>\n",
              "      <td>0</td>\n",
              "    </tr>\n",
              "    <tr>\n",
              "      <th>3</th>\n",
              "      <td>Belgium</td>\n",
              "      <td>BE</td>\n",
              "      <td>132109</td>\n",
              "      <td>39.308450</td>\n",
              "      <td>32.029262</td>\n",
              "      <td>29.967453</td>\n",
              "      <td>37.661989</td>\n",
              "      <td>30.598089</td>\n",
              "      <td>0</td>\n",
              "    </tr>\n",
              "    <tr>\n",
              "      <th>4</th>\n",
              "      <td>Brazil</td>\n",
              "      <td>BR</td>\n",
              "      <td>4915289</td>\n",
              "      <td>40.536946</td>\n",
              "      <td>31.240467</td>\n",
              "      <td>26.505017</td>\n",
              "      <td>34.946725</td>\n",
              "      <td>31.545703</td>\n",
              "      <td>1</td>\n",
              "    </tr>\n",
              "  </tbody>\n",
              "</table>\n",
              "</div>"
            ],
            "text/plain": [
              "          국가 국가코드    확진자 수        개방성  ...        외향성        우호성        안정성  군집\n",
              "0  Argentina   AR   798486  40.133075  ...  28.345068  36.416248  32.381431   1\n",
              "1  Australia   AU    27149  38.551472  ...  29.937915  37.918328  30.393272   0\n",
              "2    Austria   AT    49886  40.836251  ...  29.899588  36.876931  29.856334   0\n",
              "3    Belgium   BE   132109  39.308450  ...  29.967453  37.661989  30.598089   0\n",
              "4     Brazil   BR  4915289  40.536946  ...  26.505017  34.946725  31.545703   1\n",
              "\n",
              "[5 rows x 9 columns]"
            ]
          },
          "metadata": {
            "tags": []
          },
          "execution_count": 37
        }
      ]
    },
    {
      "cell_type": "code",
      "metadata": {
        "id": "eTovwMTyxUbI",
        "outputId": "957b26a5-1b77-4298-ce3f-6e9e3644c14c",
        "colab": {
          "base_uri": "https://localhost:8080/"
        }
      },
      "source": [
        "# label별 case 확인\n",
        "print('군집 0의 수 : ', len(df_train.loc[df_train['군집'] == 0]))\n",
        "print('군집 1의 수 : ', len(df_train.loc[df_train['군집'] == 1]))"
      ],
      "execution_count": 38,
      "outputs": [
        {
          "output_type": "stream",
          "text": [
            "군집 0의 수 :  26\n",
            "군집 1의 수 :  24\n"
          ],
          "name": "stdout"
        }
      ]
    },
    {
      "cell_type": "code",
      "metadata": {
        "id": "2_1owttZhXmY"
      },
      "source": [
        "# 결과가 좋지 않음 지나치게 outlier 인 미국과 인도를 빼자\n",
        "i = df_train.loc[(df_train['국가'] == 'India') | (df_train['국가'] == 'United States of America')].index\n",
        "df_train.drop(i, inplace=True)"
      ],
      "execution_count": 39,
      "outputs": []
    },
    {
      "cell_type": "code",
      "metadata": {
        "id": "X_ow8KCm1poH",
        "outputId": "66bc753d-b37d-49a7-91f2-ff233ce8fa62",
        "colab": {
          "base_uri": "https://localhost:8080/",
          "height": 111
        }
      },
      "source": [
        "# Label 별로 그룹\n",
        "traits = ['개방성','성실성','외향성','우호성','안정성']\n",
        "\n",
        "train_res = df_train.iloc[:, 2:]\\\n",
        "                    .groupby('군집')\\\n",
        "                    .mean()\\\n",
        "                    .rename_axis('군집')\\\n",
        "                    .reset_index()\n",
        "train_res = train_res.apply(lambda x: x.round(2))\n",
        "train_res = train_res.sort_values('확진자 수', ascending=False).reset_index(drop=True)\n",
        "train_res"
      ],
      "execution_count": 40,
      "outputs": [
        {
          "output_type": "execute_result",
          "data": {
            "text/html": [
              "<div>\n",
              "<style scoped>\n",
              "    .dataframe tbody tr th:only-of-type {\n",
              "        vertical-align: middle;\n",
              "    }\n",
              "\n",
              "    .dataframe tbody tr th {\n",
              "        vertical-align: top;\n",
              "    }\n",
              "\n",
              "    .dataframe thead th {\n",
              "        text-align: right;\n",
              "    }\n",
              "</style>\n",
              "<table border=\"1\" class=\"dataframe\">\n",
              "  <thead>\n",
              "    <tr style=\"text-align: right;\">\n",
              "      <th></th>\n",
              "      <th>군집</th>\n",
              "      <th>확진자 수</th>\n",
              "      <th>개방성</th>\n",
              "      <th>성실성</th>\n",
              "      <th>외향성</th>\n",
              "      <th>우호성</th>\n",
              "      <th>안정성</th>\n",
              "    </tr>\n",
              "  </thead>\n",
              "  <tbody>\n",
              "    <tr>\n",
              "      <th>0</th>\n",
              "      <td>1</td>\n",
              "      <td>512379.08</td>\n",
              "      <td>39.65</td>\n",
              "      <td>32.13</td>\n",
              "      <td>28.48</td>\n",
              "      <td>35.84</td>\n",
              "      <td>31.62</td>\n",
              "    </tr>\n",
              "    <tr>\n",
              "      <th>1</th>\n",
              "      <td>0</td>\n",
              "      <td>168060.58</td>\n",
              "      <td>38.62</td>\n",
              "      <td>33.39</td>\n",
              "      <td>29.80</td>\n",
              "      <td>37.43</td>\n",
              "      <td>30.49</td>\n",
              "    </tr>\n",
              "  </tbody>\n",
              "</table>\n",
              "</div>"
            ],
            "text/plain": [
              "   군집      확진자 수    개방성    성실성    외향성    우호성    안정성\n",
              "0   1  512379.08  39.65  32.13  28.48  35.84  31.62\n",
              "1   0  168060.58  38.62  33.39  29.80  37.43  30.49"
            ]
          },
          "metadata": {
            "tags": []
          },
          "execution_count": 40
        }
      ]
    },
    {
      "cell_type": "code",
      "metadata": {
        "id": "s61aKJkL4TXI",
        "outputId": "9473b1c8-0521-463e-fe74-d0fb299d4463",
        "colab": {
          "base_uri": "https://localhost:8080/",
          "height": 204
        }
      },
      "source": [
        "# test 나라들의 데이터 예측\n",
        "mean_test['군집'] = kmeans.predict(mean_test.iloc[:,1:])\n",
        "mean_test.head()"
      ],
      "execution_count": 41,
      "outputs": [
        {
          "output_type": "execute_result",
          "data": {
            "text/html": [
              "<div>\n",
              "<style scoped>\n",
              "    .dataframe tbody tr th:only-of-type {\n",
              "        vertical-align: middle;\n",
              "    }\n",
              "\n",
              "    .dataframe tbody tr th {\n",
              "        vertical-align: top;\n",
              "    }\n",
              "\n",
              "    .dataframe thead th {\n",
              "        text-align: right;\n",
              "    }\n",
              "</style>\n",
              "<table border=\"1\" class=\"dataframe\">\n",
              "  <thead>\n",
              "    <tr style=\"text-align: right;\">\n",
              "      <th></th>\n",
              "      <th>국가코드</th>\n",
              "      <th>개방성</th>\n",
              "      <th>성실성</th>\n",
              "      <th>외향성</th>\n",
              "      <th>우호성</th>\n",
              "      <th>안정성</th>\n",
              "      <th>군집</th>\n",
              "    </tr>\n",
              "  </thead>\n",
              "  <tbody>\n",
              "    <tr>\n",
              "      <th>0</th>\n",
              "      <td>CR</td>\n",
              "      <td>39.633028</td>\n",
              "      <td>32.664220</td>\n",
              "      <td>28.759633</td>\n",
              "      <td>35.908257</td>\n",
              "      <td>31.051376</td>\n",
              "      <td>1</td>\n",
              "    </tr>\n",
              "    <tr>\n",
              "      <th>1</th>\n",
              "      <td>EC</td>\n",
              "      <td>38.383138</td>\n",
              "      <td>31.910352</td>\n",
              "      <td>29.119530</td>\n",
              "      <td>35.337247</td>\n",
              "      <td>31.806830</td>\n",
              "      <td>1</td>\n",
              "    </tr>\n",
              "    <tr>\n",
              "      <th>2</th>\n",
              "      <td>EE</td>\n",
              "      <td>38.964045</td>\n",
              "      <td>32.362921</td>\n",
              "      <td>28.283146</td>\n",
              "      <td>35.783146</td>\n",
              "      <td>30.279775</td>\n",
              "      <td>1</td>\n",
              "    </tr>\n",
              "    <tr>\n",
              "      <th>3</th>\n",
              "      <td>EG</td>\n",
              "      <td>37.943890</td>\n",
              "      <td>33.007481</td>\n",
              "      <td>28.480050</td>\n",
              "      <td>36.966334</td>\n",
              "      <td>33.011222</td>\n",
              "      <td>1</td>\n",
              "    </tr>\n",
              "    <tr>\n",
              "      <th>4</th>\n",
              "      <td>IS</td>\n",
              "      <td>39.057728</td>\n",
              "      <td>32.614525</td>\n",
              "      <td>30.225326</td>\n",
              "      <td>37.696462</td>\n",
              "      <td>30.463687</td>\n",
              "      <td>0</td>\n",
              "    </tr>\n",
              "  </tbody>\n",
              "</table>\n",
              "</div>"
            ],
            "text/plain": [
              "  국가코드        개방성        성실성        외향성        우호성        안정성  군집\n",
              "0   CR  39.633028  32.664220  28.759633  35.908257  31.051376   1\n",
              "1   EC  38.383138  31.910352  29.119530  35.337247  31.806830   1\n",
              "2   EE  38.964045  32.362921  28.283146  35.783146  30.279775   1\n",
              "3   EG  37.943890  33.007481  28.480050  36.966334  33.011222   1\n",
              "4   IS  39.057728  32.614525  30.225326  37.696462  30.463687   0"
            ]
          },
          "metadata": {
            "tags": []
          },
          "execution_count": 41
        }
      ]
    },
    {
      "cell_type": "code",
      "metadata": {
        "id": "gM0w9HfFqN4c",
        "outputId": "e5728622-31c7-48f8-fde8-09c2648690b0",
        "colab": {
          "base_uri": "https://localhost:8080/",
          "height": 111
        }
      },
      "source": [
        "df_test.head(2)"
      ],
      "execution_count": 42,
      "outputs": [
        {
          "output_type": "execute_result",
          "data": {
            "text/html": [
              "<div>\n",
              "<style scoped>\n",
              "    .dataframe tbody tr th:only-of-type {\n",
              "        vertical-align: middle;\n",
              "    }\n",
              "\n",
              "    .dataframe tbody tr th {\n",
              "        vertical-align: top;\n",
              "    }\n",
              "\n",
              "    .dataframe thead th {\n",
              "        text-align: right;\n",
              "    }\n",
              "</style>\n",
              "<table border=\"1\" class=\"dataframe\">\n",
              "  <thead>\n",
              "    <tr style=\"text-align: right;\">\n",
              "      <th></th>\n",
              "      <th>OPN</th>\n",
              "      <th>CSN</th>\n",
              "      <th>EXT</th>\n",
              "      <th>AGR</th>\n",
              "      <th>EST</th>\n",
              "      <th>country</th>\n",
              "    </tr>\n",
              "  </thead>\n",
              "  <tbody>\n",
              "    <tr>\n",
              "      <th>0</th>\n",
              "      <td>50.0</td>\n",
              "      <td>24.0</td>\n",
              "      <td>29.0</td>\n",
              "      <td>37.0</td>\n",
              "      <td>39.0</td>\n",
              "      <td>UA</td>\n",
              "    </tr>\n",
              "    <tr>\n",
              "      <th>4</th>\n",
              "      <td>32.0</td>\n",
              "      <td>28.0</td>\n",
              "      <td>36.0</td>\n",
              "      <td>41.0</td>\n",
              "      <td>19.0</td>\n",
              "      <td>NG</td>\n",
              "    </tr>\n",
              "  </tbody>\n",
              "</table>\n",
              "</div>"
            ],
            "text/plain": [
              "    OPN   CSN   EXT   AGR   EST country\n",
              "0  50.0  24.0  29.0  37.0  39.0      UA\n",
              "4  32.0  28.0  36.0  41.0  19.0      NG"
            ]
          },
          "metadata": {
            "tags": []
          },
          "execution_count": 42
        }
      ]
    },
    {
      "cell_type": "code",
      "metadata": {
        "id": "GOb8HL6ao2DF",
        "outputId": "0732e01a-d020-406e-bef7-39c58e6ee3f2",
        "colab": {
          "base_uri": "https://localhost:8080/",
          "height": 111
        }
      },
      "source": [
        "# Label 별로 그룹\n",
        "df_test = mean_test.merge(df_covid, on = '국가코드')\n",
        "\n",
        "\n",
        "test_res = df_test.loc[:, ['군집', '확진자 수'] + traits]\\\n",
        "                    .groupby('군집')\\\n",
        "                    .mean()\\\n",
        "                    .rename_axis('군집')\\\n",
        "                    .reset_index()\n",
        "test_res = test_res.apply(lambda x: x.round(2))\n",
        "test_res = test_res.sort_values('확진자 수', ascending=False).reset_index(drop=True)\n",
        "test_res"
      ],
      "execution_count": 43,
      "outputs": [
        {
          "output_type": "execute_result",
          "data": {
            "text/html": [
              "<div>\n",
              "<style scoped>\n",
              "    .dataframe tbody tr th:only-of-type {\n",
              "        vertical-align: middle;\n",
              "    }\n",
              "\n",
              "    .dataframe tbody tr th {\n",
              "        vertical-align: top;\n",
              "    }\n",
              "\n",
              "    .dataframe thead th {\n",
              "        text-align: right;\n",
              "    }\n",
              "</style>\n",
              "<table border=\"1\" class=\"dataframe\">\n",
              "  <thead>\n",
              "    <tr style=\"text-align: right;\">\n",
              "      <th></th>\n",
              "      <th>군집</th>\n",
              "      <th>확진자 수</th>\n",
              "      <th>개방성</th>\n",
              "      <th>성실성</th>\n",
              "      <th>외향성</th>\n",
              "      <th>우호성</th>\n",
              "      <th>안정성</th>\n",
              "    </tr>\n",
              "  </thead>\n",
              "  <tbody>\n",
              "    <tr>\n",
              "      <th>0</th>\n",
              "      <td>1</td>\n",
              "      <td>100305.4</td>\n",
              "      <td>39.24</td>\n",
              "      <td>32.40</td>\n",
              "      <td>28.40</td>\n",
              "      <td>35.64</td>\n",
              "      <td>31.53</td>\n",
              "    </tr>\n",
              "    <tr>\n",
              "      <th>1</th>\n",
              "      <td>0</td>\n",
              "      <td>32628.0</td>\n",
              "      <td>38.57</td>\n",
              "      <td>34.19</td>\n",
              "      <td>29.64</td>\n",
              "      <td>37.93</td>\n",
              "      <td>30.71</td>\n",
              "    </tr>\n",
              "  </tbody>\n",
              "</table>\n",
              "</div>"
            ],
            "text/plain": [
              "   군집     확진자 수    개방성    성실성    외향성    우호성    안정성\n",
              "0   1  100305.4  39.24  32.40  28.40  35.64  31.53\n",
              "1   0   32628.0  38.57  34.19  29.64  37.93  30.71"
            ]
          },
          "metadata": {
            "tags": []
          },
          "execution_count": 43
        }
      ]
    },
    {
      "cell_type": "code",
      "metadata": {
        "id": "1Kt0fYrM5CdX",
        "outputId": "88e922fa-2a74-4daf-c7ed-8682d6c8eb1b",
        "colab": {
          "base_uri": "https://localhost:8080/"
        }
      },
      "source": [
        "train_res.iloc[0,1]/train_res.iloc[1,1]"
      ],
      "execution_count": 44,
      "outputs": [
        {
          "output_type": "execute_result",
          "data": {
            "text/plain": [
              "3.04877610204606"
            ]
          },
          "metadata": {
            "tags": []
          },
          "execution_count": 44
        }
      ]
    },
    {
      "cell_type": "code",
      "metadata": {
        "id": "0b1fh_lo5IG7",
        "outputId": "ba9d41ae-10d5-492b-d14f-38eadde27de5",
        "colab": {
          "base_uri": "https://localhost:8080/"
        }
      },
      "source": [
        "test_res.iloc[0,1]/test_res.iloc[1,1]"
      ],
      "execution_count": 45,
      "outputs": [
        {
          "output_type": "execute_result",
          "data": {
            "text/plain": [
              "3.074212332965551"
            ]
          },
          "metadata": {
            "tags": []
          },
          "execution_count": 45
        }
      ]
    },
    {
      "cell_type": "code",
      "metadata": {
        "id": "GIvHdnuA-y-6"
      },
      "source": [
        "# Plot"
      ],
      "execution_count": 46,
      "outputs": []
    },
    {
      "cell_type": "code",
      "metadata": {
        "id": "CE8jW0Jqzo8d"
      },
      "source": [
        "final_df = pd.concat([train_res, test_res], axis = 0)"
      ],
      "execution_count": 47,
      "outputs": []
    },
    {
      "cell_type": "code",
      "metadata": {
        "id": "vuB2gffLwZrl",
        "outputId": "2d95d157-5c52-4cd1-b8e2-b02f185d2f60",
        "colab": {
          "base_uri": "https://localhost:8080/",
          "height": 543
        }
      },
      "source": [
        "fig, axes = plt.subplots(1,2, figsize=(10, 6))\n",
        "\n",
        "bar_width = 0.35\n",
        "\n",
        "alpha = 0.5\n",
        "\n",
        "index = np.arange(2)\n",
        "\n",
        "y1 = train_res['확진자 수']\n",
        "\n",
        "y2 = test_res['확진자 수']\n",
        "\n",
        "p1 = axes[0].bar(index, y1, \n",
        "\n",
        "             bar_width, \n",
        "\n",
        "             color=['#567572FF', '#964F4CFF'],\n",
        "\n",
        "             alpha=alpha,\n",
        "\n",
        "             label='Train')\n",
        "axes[0].set_xticks(index)\n",
        "axes[0].set_xticklabels(['Cluster 1', 'Cluster 0'])\n",
        "axes[0].set_ylabel('Confirmed Case')\n",
        "\n",
        "axes[0].set_title('Train data Clustering')\n",
        "\n",
        "p2 = axes[1].bar(index, y2, \n",
        "\n",
        "             bar_width, \n",
        "\n",
        "             color=['#567572FF', '#964F4CFF'], \n",
        "\n",
        "             alpha=alpha,\n",
        "\n",
        "             label='Test')\n",
        "\n",
        "\n",
        "axes[1].set_xticks(index)\n",
        "axes[1].set_xticklabels(['Cluster 1', 'Cluster 0'])\n",
        "\n",
        "axes[0].annotate(str(int(round(y1[0], 0))), xy=(0, y1[0]), fontsize=10, ha='center', color = '#567572FF') \n",
        "axes[0].annotate(str(int(round(y1[1], 0))), xy=(1, y1[1]), fontsize=10, ha='center', color = '#964F4CFF') \n",
        "axes[1].annotate(str(int(round(y2[0], 0))), xy=(0, y2[0]), fontsize=10, ha='center', color = '#567572FF') \n",
        "axes[1].annotate(str(int(round(y2[1], 0))), xy=(1, y2[1]), fontsize=10, ha='center', color = '#964F4CFF') \n",
        "\n",
        "plt.title('Test data Clustering')\n",
        "\n",
        "plt.show()\n",
        "\n",
        "\n"
      ],
      "execution_count": 49,
      "outputs": [
        {
          "output_type": "display_data",
          "data": {
            "image/png": "[encoded data removed]",
            "text/plain": [
              "<Figure size 1000x600 with 2 Axes>"
            ]
          },
          "metadata": {
            "tags": []
          }
        }
      ]
    }
  ]
}